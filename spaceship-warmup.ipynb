{
 "cells": [
  {
   "cell_type": "code",
   "execution_count": 1,
   "id": "745e90b9",
   "metadata": {
    "_cell_guid": "b1076dfc-b9ad-4769-8c92-a6c4dae69d19",
    "_uuid": "8f2839f25d086af736a60e9eeb907d3b93b6e0e5",
    "execution": {
     "iopub.execute_input": "2022-11-27T09:30:31.460047Z",
     "iopub.status.busy": "2022-11-27T09:30:31.459623Z",
     "iopub.status.idle": "2022-11-27T09:30:32.813550Z",
     "shell.execute_reply": "2022-11-27T09:30:32.812300Z"
    },
    "papermill": {
     "duration": 1.370394,
     "end_time": "2022-11-27T09:30:32.817657",
     "exception": false,
     "start_time": "2022-11-27T09:30:31.447263",
     "status": "completed"
    },
    "tags": []
   },
   "outputs": [
    {
     "name": "stdout",
     "output_type": "stream",
     "text": [
      "/kaggle/input/spaceship-titanic/sample_submission.csv\n",
      "/kaggle/input/spaceship-titanic/train.csv\n",
      "/kaggle/input/spaceship-titanic/test.csv\n"
     ]
    }
   ],
   "source": [
    "# This Python 3 environment comes with many helpful analytics libraries installed\n",
    "# It is defined by the kaggle/python Docker image: https://github.com/kaggle/docker-python\n",
    "# For example, here's several helpful packages to load\n",
    "\n",
    "import numpy as np # linear algebra\n",
    "import pandas as pd # data processing, CSV file I/O (e.g. pd.read_csv\n",
    "import random as rnd\n",
    "\n",
    "# visualization\n",
    "import matplotlib.pyplot as plt\n",
    "import xgboost as xgb\n",
    "%matplotlib inline\n",
    "\n",
    "# Input data files are available in the read-only \"../input/\" directory\n",
    "# For example, running this (by clicking run or pressing Shift+Enter) will list all files under the input directory\n",
    "\n",
    "# machine learning\n",
    "from sklearn.linear_model import LogisticRegression\n",
    "from sklearn.svm import SVC, LinearSVC\n",
    "from sklearn.ensemble import RandomForestClassifier\n",
    "from sklearn.neighbors import KNeighborsClassifier\n",
    "from sklearn.naive_bayes import GaussianNB\n",
    "from sklearn.linear_model import Perceptron\n",
    "from sklearn.linear_model import SGDClassifier\n",
    "from sklearn.tree import DecisionTreeClassifier\n",
    "from sklearn.experimental import enable_iterative_imputer\n",
    "from sklearn.impute import IterativeImputer\n",
    "from sklearn.model_selection import GridSearchCV\n",
    "from sklearn.neighbors import KNeighborsRegressor\n",
    "\n",
    "from sklearn.impute import KNNImputer\n",
    "\n",
    "import os\n",
    "for dirname, _, filenames in os.walk('/kaggle/input'):\n",
    "    for filename in filenames:\n",
    "        print(os.path.join(dirname, filename))\n",
    "\n",
    "# You can write up to 20GB to the current directory (/kaggle/working/) that gets preserved as output when you create a version using \"Save & Run All\" \n",
    "# You can also write temporary files to /kaggle/temp/, but they won't be saved outside of the current session"
   ]
  },
  {
   "cell_type": "markdown",
   "id": "4cb7e958",
   "metadata": {
    "papermill": {
     "duration": 0.00929,
     "end_time": "2022-11-27T09:30:32.839220",
     "exception": false,
     "start_time": "2022-11-27T09:30:32.829930",
     "status": "completed"
    },
    "tags": []
   },
   "source": [
    "Adding the data"
   ]
  },
  {
   "cell_type": "code",
   "execution_count": 2,
   "id": "ad0ab105",
   "metadata": {
    "execution": {
     "iopub.execute_input": "2022-11-27T09:30:32.861587Z",
     "iopub.status.busy": "2022-11-27T09:30:32.861158Z",
     "iopub.status.idle": "2022-11-27T09:30:32.965244Z",
     "shell.execute_reply": "2022-11-27T09:30:32.964137Z"
    },
    "papermill": {
     "duration": 0.119023,
     "end_time": "2022-11-27T09:30:32.967812",
     "exception": false,
     "start_time": "2022-11-27T09:30:32.848789",
     "status": "completed"
    },
    "tags": []
   },
   "outputs": [
    {
     "data": {
      "text/html": [
       "<div>\n",
       "<style scoped>\n",
       "    .dataframe tbody tr th:only-of-type {\n",
       "        vertical-align: middle;\n",
       "    }\n",
       "\n",
       "    .dataframe tbody tr th {\n",
       "        vertical-align: top;\n",
       "    }\n",
       "\n",
       "    .dataframe thead th {\n",
       "        text-align: right;\n",
       "    }\n",
       "</style>\n",
       "<table border=\"1\" class=\"dataframe\">\n",
       "  <thead>\n",
       "    <tr style=\"text-align: right;\">\n",
       "      <th></th>\n",
       "      <th>PassengerId</th>\n",
       "      <th>HomePlanet</th>\n",
       "      <th>CryoSleep</th>\n",
       "      <th>Cabin</th>\n",
       "      <th>Destination</th>\n",
       "      <th>Age</th>\n",
       "      <th>VIP</th>\n",
       "      <th>RoomService</th>\n",
       "      <th>FoodCourt</th>\n",
       "      <th>ShoppingMall</th>\n",
       "      <th>Spa</th>\n",
       "      <th>VRDeck</th>\n",
       "      <th>Name</th>\n",
       "      <th>Transported</th>\n",
       "    </tr>\n",
       "  </thead>\n",
       "  <tbody>\n",
       "    <tr>\n",
       "      <th>0</th>\n",
       "      <td>0001_01</td>\n",
       "      <td>Europa</td>\n",
       "      <td>False</td>\n",
       "      <td>B/0/P</td>\n",
       "      <td>TRAPPIST-1e</td>\n",
       "      <td>39.0</td>\n",
       "      <td>False</td>\n",
       "      <td>0.0</td>\n",
       "      <td>0.0</td>\n",
       "      <td>0.0</td>\n",
       "      <td>0.0</td>\n",
       "      <td>0.0</td>\n",
       "      <td>Maham Ofracculy</td>\n",
       "      <td>False</td>\n",
       "    </tr>\n",
       "    <tr>\n",
       "      <th>1</th>\n",
       "      <td>0002_01</td>\n",
       "      <td>Earth</td>\n",
       "      <td>False</td>\n",
       "      <td>F/0/S</td>\n",
       "      <td>TRAPPIST-1e</td>\n",
       "      <td>24.0</td>\n",
       "      <td>False</td>\n",
       "      <td>109.0</td>\n",
       "      <td>9.0</td>\n",
       "      <td>25.0</td>\n",
       "      <td>549.0</td>\n",
       "      <td>44.0</td>\n",
       "      <td>Juanna Vines</td>\n",
       "      <td>True</td>\n",
       "    </tr>\n",
       "    <tr>\n",
       "      <th>2</th>\n",
       "      <td>0003_01</td>\n",
       "      <td>Europa</td>\n",
       "      <td>False</td>\n",
       "      <td>A/0/S</td>\n",
       "      <td>TRAPPIST-1e</td>\n",
       "      <td>58.0</td>\n",
       "      <td>True</td>\n",
       "      <td>43.0</td>\n",
       "      <td>3576.0</td>\n",
       "      <td>0.0</td>\n",
       "      <td>6715.0</td>\n",
       "      <td>49.0</td>\n",
       "      <td>Altark Susent</td>\n",
       "      <td>False</td>\n",
       "    </tr>\n",
       "    <tr>\n",
       "      <th>3</th>\n",
       "      <td>0003_02</td>\n",
       "      <td>Europa</td>\n",
       "      <td>False</td>\n",
       "      <td>A/0/S</td>\n",
       "      <td>TRAPPIST-1e</td>\n",
       "      <td>33.0</td>\n",
       "      <td>False</td>\n",
       "      <td>0.0</td>\n",
       "      <td>1283.0</td>\n",
       "      <td>371.0</td>\n",
       "      <td>3329.0</td>\n",
       "      <td>193.0</td>\n",
       "      <td>Solam Susent</td>\n",
       "      <td>False</td>\n",
       "    </tr>\n",
       "    <tr>\n",
       "      <th>4</th>\n",
       "      <td>0004_01</td>\n",
       "      <td>Earth</td>\n",
       "      <td>False</td>\n",
       "      <td>F/1/S</td>\n",
       "      <td>TRAPPIST-1e</td>\n",
       "      <td>16.0</td>\n",
       "      <td>False</td>\n",
       "      <td>303.0</td>\n",
       "      <td>70.0</td>\n",
       "      <td>151.0</td>\n",
       "      <td>565.0</td>\n",
       "      <td>2.0</td>\n",
       "      <td>Willy Santantines</td>\n",
       "      <td>True</td>\n",
       "    </tr>\n",
       "  </tbody>\n",
       "</table>\n",
       "</div>"
      ],
      "text/plain": [
       "  PassengerId HomePlanet CryoSleep  Cabin  Destination   Age    VIP  \\\n",
       "0     0001_01     Europa     False  B/0/P  TRAPPIST-1e  39.0  False   \n",
       "1     0002_01      Earth     False  F/0/S  TRAPPIST-1e  24.0  False   \n",
       "2     0003_01     Europa     False  A/0/S  TRAPPIST-1e  58.0   True   \n",
       "3     0003_02     Europa     False  A/0/S  TRAPPIST-1e  33.0  False   \n",
       "4     0004_01      Earth     False  F/1/S  TRAPPIST-1e  16.0  False   \n",
       "\n",
       "   RoomService  FoodCourt  ShoppingMall     Spa  VRDeck               Name  \\\n",
       "0          0.0        0.0           0.0     0.0     0.0    Maham Ofracculy   \n",
       "1        109.0        9.0          25.0   549.0    44.0       Juanna Vines   \n",
       "2         43.0     3576.0           0.0  6715.0    49.0      Altark Susent   \n",
       "3          0.0     1283.0         371.0  3329.0   193.0       Solam Susent   \n",
       "4        303.0       70.0         151.0   565.0     2.0  Willy Santantines   \n",
       "\n",
       "   Transported  \n",
       "0        False  \n",
       "1         True  \n",
       "2        False  \n",
       "3        False  \n",
       "4         True  "
      ]
     },
     "execution_count": 2,
     "metadata": {},
     "output_type": "execute_result"
    }
   ],
   "source": [
    "trainData = pd.read_csv('/kaggle/input/spaceship-titanic/train.csv')\n",
    "testData = pd.read_csv('/kaggle/input/spaceship-titanic/test.csv')\n",
    "combine = [trainData, testData]\n",
    "\n",
    "trainData.head()"
   ]
  },
  {
   "cell_type": "code",
   "execution_count": 3,
   "id": "9f979faa",
   "metadata": {
    "execution": {
     "iopub.execute_input": "2022-11-27T09:30:32.989283Z",
     "iopub.status.busy": "2022-11-27T09:30:32.988929Z",
     "iopub.status.idle": "2022-11-27T09:30:33.029423Z",
     "shell.execute_reply": "2022-11-27T09:30:33.028718Z"
    },
    "papermill": {
     "duration": 0.053916,
     "end_time": "2022-11-27T09:30:33.031375",
     "exception": false,
     "start_time": "2022-11-27T09:30:32.977459",
     "status": "completed"
    },
    "tags": []
   },
   "outputs": [
    {
     "data": {
      "text/html": [
       "<div>\n",
       "<style scoped>\n",
       "    .dataframe tbody tr th:only-of-type {\n",
       "        vertical-align: middle;\n",
       "    }\n",
       "\n",
       "    .dataframe tbody tr th {\n",
       "        vertical-align: top;\n",
       "    }\n",
       "\n",
       "    .dataframe thead th {\n",
       "        text-align: right;\n",
       "    }\n",
       "</style>\n",
       "<table border=\"1\" class=\"dataframe\">\n",
       "  <thead>\n",
       "    <tr style=\"text-align: right;\">\n",
       "      <th></th>\n",
       "      <th>Age</th>\n",
       "      <th>RoomService</th>\n",
       "      <th>FoodCourt</th>\n",
       "      <th>ShoppingMall</th>\n",
       "      <th>Spa</th>\n",
       "      <th>VRDeck</th>\n",
       "    </tr>\n",
       "  </thead>\n",
       "  <tbody>\n",
       "    <tr>\n",
       "      <th>count</th>\n",
       "      <td>8514.000000</td>\n",
       "      <td>8512.000000</td>\n",
       "      <td>8510.000000</td>\n",
       "      <td>8485.000000</td>\n",
       "      <td>8510.000000</td>\n",
       "      <td>8505.000000</td>\n",
       "    </tr>\n",
       "    <tr>\n",
       "      <th>mean</th>\n",
       "      <td>28.827930</td>\n",
       "      <td>224.687617</td>\n",
       "      <td>458.077203</td>\n",
       "      <td>173.729169</td>\n",
       "      <td>311.138778</td>\n",
       "      <td>304.854791</td>\n",
       "    </tr>\n",
       "    <tr>\n",
       "      <th>std</th>\n",
       "      <td>14.489021</td>\n",
       "      <td>666.717663</td>\n",
       "      <td>1611.489240</td>\n",
       "      <td>604.696458</td>\n",
       "      <td>1136.705535</td>\n",
       "      <td>1145.717189</td>\n",
       "    </tr>\n",
       "    <tr>\n",
       "      <th>min</th>\n",
       "      <td>0.000000</td>\n",
       "      <td>0.000000</td>\n",
       "      <td>0.000000</td>\n",
       "      <td>0.000000</td>\n",
       "      <td>0.000000</td>\n",
       "      <td>0.000000</td>\n",
       "    </tr>\n",
       "    <tr>\n",
       "      <th>25%</th>\n",
       "      <td>19.000000</td>\n",
       "      <td>0.000000</td>\n",
       "      <td>0.000000</td>\n",
       "      <td>0.000000</td>\n",
       "      <td>0.000000</td>\n",
       "      <td>0.000000</td>\n",
       "    </tr>\n",
       "    <tr>\n",
       "      <th>50%</th>\n",
       "      <td>27.000000</td>\n",
       "      <td>0.000000</td>\n",
       "      <td>0.000000</td>\n",
       "      <td>0.000000</td>\n",
       "      <td>0.000000</td>\n",
       "      <td>0.000000</td>\n",
       "    </tr>\n",
       "    <tr>\n",
       "      <th>75%</th>\n",
       "      <td>38.000000</td>\n",
       "      <td>47.000000</td>\n",
       "      <td>76.000000</td>\n",
       "      <td>27.000000</td>\n",
       "      <td>59.000000</td>\n",
       "      <td>46.000000</td>\n",
       "    </tr>\n",
       "    <tr>\n",
       "      <th>max</th>\n",
       "      <td>79.000000</td>\n",
       "      <td>14327.000000</td>\n",
       "      <td>29813.000000</td>\n",
       "      <td>23492.000000</td>\n",
       "      <td>22408.000000</td>\n",
       "      <td>24133.000000</td>\n",
       "    </tr>\n",
       "  </tbody>\n",
       "</table>\n",
       "</div>"
      ],
      "text/plain": [
       "               Age   RoomService     FoodCourt  ShoppingMall           Spa  \\\n",
       "count  8514.000000   8512.000000   8510.000000   8485.000000   8510.000000   \n",
       "mean     28.827930    224.687617    458.077203    173.729169    311.138778   \n",
       "std      14.489021    666.717663   1611.489240    604.696458   1136.705535   \n",
       "min       0.000000      0.000000      0.000000      0.000000      0.000000   \n",
       "25%      19.000000      0.000000      0.000000      0.000000      0.000000   \n",
       "50%      27.000000      0.000000      0.000000      0.000000      0.000000   \n",
       "75%      38.000000     47.000000     76.000000     27.000000     59.000000   \n",
       "max      79.000000  14327.000000  29813.000000  23492.000000  22408.000000   \n",
       "\n",
       "             VRDeck  \n",
       "count   8505.000000  \n",
       "mean     304.854791  \n",
       "std     1145.717189  \n",
       "min        0.000000  \n",
       "25%        0.000000  \n",
       "50%        0.000000  \n",
       "75%       46.000000  \n",
       "max    24133.000000  "
      ]
     },
     "execution_count": 3,
     "metadata": {},
     "output_type": "execute_result"
    }
   ],
   "source": [
    "trainData.describe()"
   ]
  },
  {
   "cell_type": "code",
   "execution_count": 4,
   "id": "ad896991",
   "metadata": {
    "execution": {
     "iopub.execute_input": "2022-11-27T09:30:33.052777Z",
     "iopub.status.busy": "2022-11-27T09:30:33.051907Z",
     "iopub.status.idle": "2022-11-27T09:30:33.063388Z",
     "shell.execute_reply": "2022-11-27T09:30:33.062354Z"
    },
    "papermill": {
     "duration": 0.024201,
     "end_time": "2022-11-27T09:30:33.065466",
     "exception": false,
     "start_time": "2022-11-27T09:30:33.041265",
     "status": "completed"
    },
    "tags": []
   },
   "outputs": [
    {
     "data": {
      "text/plain": [
       "PassengerId       0\n",
       "HomePlanet      201\n",
       "CryoSleep       217\n",
       "Cabin           199\n",
       "Destination     182\n",
       "Age             179\n",
       "VIP             203\n",
       "RoomService     181\n",
       "FoodCourt       183\n",
       "ShoppingMall    208\n",
       "Spa             183\n",
       "VRDeck          188\n",
       "Name            200\n",
       "Transported       0\n",
       "dtype: int64"
      ]
     },
     "execution_count": 4,
     "metadata": {},
     "output_type": "execute_result"
    }
   ],
   "source": [
    "trainData.isnull().sum()"
   ]
  },
  {
   "cell_type": "markdown",
   "id": "ed06fb77",
   "metadata": {
    "papermill": {
     "duration": 0.009977,
     "end_time": "2022-11-27T09:30:33.085472",
     "exception": false,
     "start_time": "2022-11-27T09:30:33.075495",
     "status": "completed"
    },
    "tags": []
   },
   "source": [
    "Drop features we dont want to use"
   ]
  },
  {
   "cell_type": "code",
   "execution_count": 5,
   "id": "b3fc386f",
   "metadata": {
    "execution": {
     "iopub.execute_input": "2022-11-27T09:30:33.107379Z",
     "iopub.status.busy": "2022-11-27T09:30:33.106974Z",
     "iopub.status.idle": "2022-11-27T09:30:33.115839Z",
     "shell.execute_reply": "2022-11-27T09:30:33.114536Z"
    },
    "papermill": {
     "duration": 0.022441,
     "end_time": "2022-11-27T09:30:33.118014",
     "exception": false,
     "start_time": "2022-11-27T09:30:33.095573",
     "status": "completed"
    },
    "tags": []
   },
   "outputs": [],
   "source": [
    "trainData = trainData.drop(['Name'], axis=1)\n",
    "testData = testData.drop(['Name'], axis=1)\n",
    "combine = [trainData, testData]"
   ]
  },
  {
   "cell_type": "code",
   "execution_count": 6,
   "id": "8a7c1f5c",
   "metadata": {
    "execution": {
     "iopub.execute_input": "2022-11-27T09:30:33.139089Z",
     "iopub.status.busy": "2022-11-27T09:30:33.138723Z",
     "iopub.status.idle": "2022-11-27T09:30:33.156206Z",
     "shell.execute_reply": "2022-11-27T09:30:33.155196Z"
    },
    "papermill": {
     "duration": 0.030276,
     "end_time": "2022-11-27T09:30:33.158258",
     "exception": false,
     "start_time": "2022-11-27T09:30:33.127982",
     "status": "completed"
    },
    "tags": []
   },
   "outputs": [
    {
     "data": {
      "text/html": [
       "<div>\n",
       "<style scoped>\n",
       "    .dataframe tbody tr th:only-of-type {\n",
       "        vertical-align: middle;\n",
       "    }\n",
       "\n",
       "    .dataframe tbody tr th {\n",
       "        vertical-align: top;\n",
       "    }\n",
       "\n",
       "    .dataframe thead th {\n",
       "        text-align: right;\n",
       "    }\n",
       "</style>\n",
       "<table border=\"1\" class=\"dataframe\">\n",
       "  <thead>\n",
       "    <tr style=\"text-align: right;\">\n",
       "      <th></th>\n",
       "      <th>HomePlanet</th>\n",
       "      <th>Transported</th>\n",
       "    </tr>\n",
       "  </thead>\n",
       "  <tbody>\n",
       "    <tr>\n",
       "      <th>2</th>\n",
       "      <td>Mars</td>\n",
       "      <td>0.523024</td>\n",
       "    </tr>\n",
       "    <tr>\n",
       "      <th>1</th>\n",
       "      <td>Europa</td>\n",
       "      <td>0.658846</td>\n",
       "    </tr>\n",
       "    <tr>\n",
       "      <th>0</th>\n",
       "      <td>Earth</td>\n",
       "      <td>0.423946</td>\n",
       "    </tr>\n",
       "  </tbody>\n",
       "</table>\n",
       "</div>"
      ],
      "text/plain": [
       "  HomePlanet  Transported\n",
       "2       Mars     0.523024\n",
       "1     Europa     0.658846\n",
       "0      Earth     0.423946"
      ]
     },
     "execution_count": 6,
     "metadata": {},
     "output_type": "execute_result"
    }
   ],
   "source": [
    "trainData.HomePlanet.mode()\n",
    "trainData[['HomePlanet', 'Transported']].groupby(['HomePlanet'], as_index=False).mean().sort_values(by='HomePlanet', ascending=False)"
   ]
  },
  {
   "cell_type": "code",
   "execution_count": 7,
   "id": "7bab3d53",
   "metadata": {
    "execution": {
     "iopub.execute_input": "2022-11-27T09:30:33.180027Z",
     "iopub.status.busy": "2022-11-27T09:30:33.179341Z",
     "iopub.status.idle": "2022-11-27T09:30:33.206278Z",
     "shell.execute_reply": "2022-11-27T09:30:33.204979Z"
    },
    "papermill": {
     "duration": 0.039886,
     "end_time": "2022-11-27T09:30:33.208393",
     "exception": false,
     "start_time": "2022-11-27T09:30:33.168507",
     "status": "completed"
    },
    "tags": []
   },
   "outputs": [
    {
     "data": {
      "text/html": [
       "<div>\n",
       "<style scoped>\n",
       "    .dataframe tbody tr th:only-of-type {\n",
       "        vertical-align: middle;\n",
       "    }\n",
       "\n",
       "    .dataframe tbody tr th {\n",
       "        vertical-align: top;\n",
       "    }\n",
       "\n",
       "    .dataframe thead th {\n",
       "        text-align: right;\n",
       "    }\n",
       "</style>\n",
       "<table border=\"1\" class=\"dataframe\">\n",
       "  <thead>\n",
       "    <tr style=\"text-align: right;\">\n",
       "      <th></th>\n",
       "      <th>PassengerId</th>\n",
       "      <th>HomePlanet</th>\n",
       "      <th>CryoSleep</th>\n",
       "      <th>Cabin</th>\n",
       "      <th>Destination</th>\n",
       "      <th>Age</th>\n",
       "      <th>VIP</th>\n",
       "      <th>RoomService</th>\n",
       "      <th>FoodCourt</th>\n",
       "      <th>ShoppingMall</th>\n",
       "      <th>Spa</th>\n",
       "      <th>VRDeck</th>\n",
       "      <th>Transported</th>\n",
       "    </tr>\n",
       "  </thead>\n",
       "  <tbody>\n",
       "    <tr>\n",
       "      <th>0</th>\n",
       "      <td>0001_01</td>\n",
       "      <td>2</td>\n",
       "      <td>False</td>\n",
       "      <td>B/0/P</td>\n",
       "      <td>TRAPPIST-1e</td>\n",
       "      <td>39.0</td>\n",
       "      <td>False</td>\n",
       "      <td>0.0</td>\n",
       "      <td>0.0</td>\n",
       "      <td>0.0</td>\n",
       "      <td>0.0</td>\n",
       "      <td>0.0</td>\n",
       "      <td>False</td>\n",
       "    </tr>\n",
       "    <tr>\n",
       "      <th>1</th>\n",
       "      <td>0002_01</td>\n",
       "      <td>0</td>\n",
       "      <td>False</td>\n",
       "      <td>F/0/S</td>\n",
       "      <td>TRAPPIST-1e</td>\n",
       "      <td>24.0</td>\n",
       "      <td>False</td>\n",
       "      <td>109.0</td>\n",
       "      <td>9.0</td>\n",
       "      <td>25.0</td>\n",
       "      <td>549.0</td>\n",
       "      <td>44.0</td>\n",
       "      <td>True</td>\n",
       "    </tr>\n",
       "    <tr>\n",
       "      <th>2</th>\n",
       "      <td>0003_01</td>\n",
       "      <td>2</td>\n",
       "      <td>False</td>\n",
       "      <td>A/0/S</td>\n",
       "      <td>TRAPPIST-1e</td>\n",
       "      <td>58.0</td>\n",
       "      <td>True</td>\n",
       "      <td>43.0</td>\n",
       "      <td>3576.0</td>\n",
       "      <td>0.0</td>\n",
       "      <td>6715.0</td>\n",
       "      <td>49.0</td>\n",
       "      <td>False</td>\n",
       "    </tr>\n",
       "    <tr>\n",
       "      <th>3</th>\n",
       "      <td>0003_02</td>\n",
       "      <td>2</td>\n",
       "      <td>False</td>\n",
       "      <td>A/0/S</td>\n",
       "      <td>TRAPPIST-1e</td>\n",
       "      <td>33.0</td>\n",
       "      <td>False</td>\n",
       "      <td>0.0</td>\n",
       "      <td>1283.0</td>\n",
       "      <td>371.0</td>\n",
       "      <td>3329.0</td>\n",
       "      <td>193.0</td>\n",
       "      <td>False</td>\n",
       "    </tr>\n",
       "    <tr>\n",
       "      <th>4</th>\n",
       "      <td>0004_01</td>\n",
       "      <td>0</td>\n",
       "      <td>False</td>\n",
       "      <td>F/1/S</td>\n",
       "      <td>TRAPPIST-1e</td>\n",
       "      <td>16.0</td>\n",
       "      <td>False</td>\n",
       "      <td>303.0</td>\n",
       "      <td>70.0</td>\n",
       "      <td>151.0</td>\n",
       "      <td>565.0</td>\n",
       "      <td>2.0</td>\n",
       "      <td>True</td>\n",
       "    </tr>\n",
       "  </tbody>\n",
       "</table>\n",
       "</div>"
      ],
      "text/plain": [
       "  PassengerId  HomePlanet CryoSleep  Cabin  Destination   Age    VIP  \\\n",
       "0     0001_01           2     False  B/0/P  TRAPPIST-1e  39.0  False   \n",
       "1     0002_01           0     False  F/0/S  TRAPPIST-1e  24.0  False   \n",
       "2     0003_01           2     False  A/0/S  TRAPPIST-1e  58.0   True   \n",
       "3     0003_02           2     False  A/0/S  TRAPPIST-1e  33.0  False   \n",
       "4     0004_01           0     False  F/1/S  TRAPPIST-1e  16.0  False   \n",
       "\n",
       "   RoomService  FoodCourt  ShoppingMall     Spa  VRDeck  Transported  \n",
       "0          0.0        0.0           0.0     0.0     0.0        False  \n",
       "1        109.0        9.0          25.0   549.0    44.0         True  \n",
       "2         43.0     3576.0           0.0  6715.0    49.0        False  \n",
       "3          0.0     1283.0         371.0  3329.0   193.0        False  \n",
       "4        303.0       70.0         151.0   565.0     2.0         True  "
      ]
     },
     "execution_count": 7,
     "metadata": {},
     "output_type": "execute_result"
    }
   ],
   "source": [
    "trainData['HomePlanet'] = trainData['HomePlanet'].fillna('Earth')\n",
    "testData['HomePlanet'] = testData['HomePlanet'].fillna('Earth')\n",
    "\n",
    "\n",
    "trainData['HomePlanet'] = trainData['HomePlanet'].map({'Earth':0, 'Mars':1, 'Europa':2}).astype(int)\n",
    "testData['HomePlanet'] = testData['HomePlanet'].map({'Earth':0, 'Mars':1, 'Europa':2}).astype(int)\n",
    "combine = [trainData, testData]\n",
    "\n",
    "trainData.head()"
   ]
  },
  {
   "cell_type": "code",
   "execution_count": 8,
   "id": "32e0671b",
   "metadata": {
    "execution": {
     "iopub.execute_input": "2022-11-27T09:30:33.231829Z",
     "iopub.status.busy": "2022-11-27T09:30:33.231065Z",
     "iopub.status.idle": "2022-11-27T09:30:33.250162Z",
     "shell.execute_reply": "2022-11-27T09:30:33.249125Z"
    },
    "papermill": {
     "duration": 0.033127,
     "end_time": "2022-11-27T09:30:33.252480",
     "exception": false,
     "start_time": "2022-11-27T09:30:33.219353",
     "status": "completed"
    },
    "tags": []
   },
   "outputs": [
    {
     "data": {
      "text/plain": [
       "PassengerId       0\n",
       "HomePlanet        0\n",
       "CryoSleep       217\n",
       "Cabin           199\n",
       "Destination     182\n",
       "Age             179\n",
       "VIP             203\n",
       "RoomService       0\n",
       "FoodCourt         0\n",
       "ShoppingMall      0\n",
       "Spa               0\n",
       "VRDeck            0\n",
       "Transported       0\n",
       "dtype: int64"
      ]
     },
     "execution_count": 8,
     "metadata": {},
     "output_type": "execute_result"
    }
   ],
   "source": [
    "trainData['RoomService'].fillna(0,inplace=True)\n",
    "testData['RoomService'].fillna(0,inplace=True)\n",
    "\n",
    "trainData['FoodCourt'].fillna(0,inplace=True)\n",
    "testData['FoodCourt'].fillna(0,inplace=True)\n",
    "\n",
    "trainData['ShoppingMall'].fillna(0,inplace=True)\n",
    "testData['ShoppingMall'].fillna(0,inplace=True)\n",
    "\n",
    "trainData['Spa'].fillna(0,inplace=True)\n",
    "testData['Spa'].fillna(0,inplace=True)\n",
    "\n",
    "trainData['VRDeck'].fillna(0,inplace=True)\n",
    "testData['VRDeck'].fillna(0,inplace=True)\n",
    "\n",
    "trainData.isnull().sum()\n",
    "\n"
   ]
  },
  {
   "cell_type": "code",
   "execution_count": 9,
   "id": "d9c0c573",
   "metadata": {
    "execution": {
     "iopub.execute_input": "2022-11-27T09:30:33.275542Z",
     "iopub.status.busy": "2022-11-27T09:30:33.274803Z",
     "iopub.status.idle": "2022-11-27T09:30:33.294701Z",
     "shell.execute_reply": "2022-11-27T09:30:33.293838Z"
    },
    "papermill": {
     "duration": 0.033631,
     "end_time": "2022-11-27T09:30:33.296736",
     "exception": false,
     "start_time": "2022-11-27T09:30:33.263105",
     "status": "completed"
    },
    "tags": []
   },
   "outputs": [
    {
     "data": {
      "text/plain": [
       "PassengerId       0\n",
       "HomePlanet        0\n",
       "CryoSleep       217\n",
       "Cabin           199\n",
       "Destination       0\n",
       "Age               0\n",
       "VIP               0\n",
       "RoomService       0\n",
       "FoodCourt         0\n",
       "ShoppingMall      0\n",
       "Spa               0\n",
       "VRDeck            0\n",
       "Transported       0\n",
       "dtype: int64"
      ]
     },
     "execution_count": 9,
     "metadata": {},
     "output_type": "execute_result"
    }
   ],
   "source": [
    "testData['VIP'].fillna(value=False,inplace=True)\n",
    "trainData['VIP'].fillna(value=False,inplace=True)\n",
    "\n",
    "testData['Destination'].fillna(value='TRAPPIST-1e',inplace=True)\n",
    "trainData['Destination'].fillna(value='TRAPPIST-1e',inplace=True)\n",
    "\n",
    "testData['Age'].fillna(value=testData.Age.mean(),inplace=True)\n",
    "trainData['Age'].fillna(value=trainData.Age.mean(),inplace=True)\n",
    "\n",
    "\n",
    "trainData.isnull().sum()\n"
   ]
  },
  {
   "cell_type": "code",
   "execution_count": 10,
   "id": "c0e71bb6",
   "metadata": {
    "execution": {
     "iopub.execute_input": "2022-11-27T09:30:33.319332Z",
     "iopub.status.busy": "2022-11-27T09:30:33.318985Z",
     "iopub.status.idle": "2022-11-27T09:30:33.325643Z",
     "shell.execute_reply": "2022-11-27T09:30:33.324644Z"
    },
    "papermill": {
     "duration": 0.02077,
     "end_time": "2022-11-27T09:30:33.328079",
     "exception": false,
     "start_time": "2022-11-27T09:30:33.307309",
     "status": "completed"
    },
    "tags": []
   },
   "outputs": [],
   "source": [
    "testData['Cabin'].fillna(value='X/X/X',inplace=True)\n",
    "trainData['Cabin'].fillna(value='X/X/X',inplace=True)"
   ]
  },
  {
   "cell_type": "code",
   "execution_count": 11,
   "id": "fa835d6b",
   "metadata": {
    "execution": {
     "iopub.execute_input": "2022-11-27T09:30:33.353521Z",
     "iopub.status.busy": "2022-11-27T09:30:33.353141Z",
     "iopub.status.idle": "2022-11-27T09:30:33.397278Z",
     "shell.execute_reply": "2022-11-27T09:30:33.396299Z"
    },
    "papermill": {
     "duration": 0.061221,
     "end_time": "2022-11-27T09:30:33.399637",
     "exception": false,
     "start_time": "2022-11-27T09:30:33.338416",
     "status": "completed"
    },
    "tags": []
   },
   "outputs": [
    {
     "data": {
      "text/html": [
       "<div>\n",
       "<style scoped>\n",
       "    .dataframe tbody tr th:only-of-type {\n",
       "        vertical-align: middle;\n",
       "    }\n",
       "\n",
       "    .dataframe tbody tr th {\n",
       "        vertical-align: top;\n",
       "    }\n",
       "\n",
       "    .dataframe thead th {\n",
       "        text-align: right;\n",
       "    }\n",
       "</style>\n",
       "<table border=\"1\" class=\"dataframe\">\n",
       "  <thead>\n",
       "    <tr style=\"text-align: right;\">\n",
       "      <th></th>\n",
       "      <th>PassengerId</th>\n",
       "      <th>HomePlanet</th>\n",
       "      <th>CryoSleep</th>\n",
       "      <th>Cabin</th>\n",
       "      <th>Destination</th>\n",
       "      <th>Age</th>\n",
       "      <th>VIP</th>\n",
       "      <th>RoomService</th>\n",
       "      <th>FoodCourt</th>\n",
       "      <th>ShoppingMall</th>\n",
       "      <th>Spa</th>\n",
       "      <th>VRDeck</th>\n",
       "      <th>deck</th>\n",
       "      <th>side</th>\n",
       "    </tr>\n",
       "  </thead>\n",
       "  <tbody>\n",
       "    <tr>\n",
       "      <th>0</th>\n",
       "      <td>0013_01</td>\n",
       "      <td>0</td>\n",
       "      <td>True</td>\n",
       "      <td>G/3/S</td>\n",
       "      <td>TRAPPIST-1e</td>\n",
       "      <td>27.0</td>\n",
       "      <td>False</td>\n",
       "      <td>0.0</td>\n",
       "      <td>0.0</td>\n",
       "      <td>0.0</td>\n",
       "      <td>0.0</td>\n",
       "      <td>0.0</td>\n",
       "      <td>G</td>\n",
       "      <td>S</td>\n",
       "    </tr>\n",
       "    <tr>\n",
       "      <th>1</th>\n",
       "      <td>0018_01</td>\n",
       "      <td>0</td>\n",
       "      <td>False</td>\n",
       "      <td>F/4/S</td>\n",
       "      <td>TRAPPIST-1e</td>\n",
       "      <td>19.0</td>\n",
       "      <td>False</td>\n",
       "      <td>0.0</td>\n",
       "      <td>9.0</td>\n",
       "      <td>0.0</td>\n",
       "      <td>2823.0</td>\n",
       "      <td>0.0</td>\n",
       "      <td>F</td>\n",
       "      <td>S</td>\n",
       "    </tr>\n",
       "    <tr>\n",
       "      <th>2</th>\n",
       "      <td>0019_01</td>\n",
       "      <td>2</td>\n",
       "      <td>True</td>\n",
       "      <td>C/0/S</td>\n",
       "      <td>55 Cancri e</td>\n",
       "      <td>31.0</td>\n",
       "      <td>False</td>\n",
       "      <td>0.0</td>\n",
       "      <td>0.0</td>\n",
       "      <td>0.0</td>\n",
       "      <td>0.0</td>\n",
       "      <td>0.0</td>\n",
       "      <td>C</td>\n",
       "      <td>S</td>\n",
       "    </tr>\n",
       "    <tr>\n",
       "      <th>3</th>\n",
       "      <td>0021_01</td>\n",
       "      <td>2</td>\n",
       "      <td>False</td>\n",
       "      <td>C/1/S</td>\n",
       "      <td>TRAPPIST-1e</td>\n",
       "      <td>38.0</td>\n",
       "      <td>False</td>\n",
       "      <td>0.0</td>\n",
       "      <td>6652.0</td>\n",
       "      <td>0.0</td>\n",
       "      <td>181.0</td>\n",
       "      <td>585.0</td>\n",
       "      <td>C</td>\n",
       "      <td>S</td>\n",
       "    </tr>\n",
       "    <tr>\n",
       "      <th>4</th>\n",
       "      <td>0023_01</td>\n",
       "      <td>0</td>\n",
       "      <td>False</td>\n",
       "      <td>F/5/S</td>\n",
       "      <td>TRAPPIST-1e</td>\n",
       "      <td>20.0</td>\n",
       "      <td>False</td>\n",
       "      <td>10.0</td>\n",
       "      <td>0.0</td>\n",
       "      <td>635.0</td>\n",
       "      <td>0.0</td>\n",
       "      <td>0.0</td>\n",
       "      <td>F</td>\n",
       "      <td>S</td>\n",
       "    </tr>\n",
       "  </tbody>\n",
       "</table>\n",
       "</div>"
      ],
      "text/plain": [
       "  PassengerId  HomePlanet CryoSleep  Cabin  Destination   Age    VIP  \\\n",
       "0     0013_01           0      True  G/3/S  TRAPPIST-1e  27.0  False   \n",
       "1     0018_01           0     False  F/4/S  TRAPPIST-1e  19.0  False   \n",
       "2     0019_01           2      True  C/0/S  55 Cancri e  31.0  False   \n",
       "3     0021_01           2     False  C/1/S  TRAPPIST-1e  38.0  False   \n",
       "4     0023_01           0     False  F/5/S  TRAPPIST-1e  20.0  False   \n",
       "\n",
       "   RoomService  FoodCourt  ShoppingMall     Spa  VRDeck deck side  \n",
       "0          0.0        0.0           0.0     0.0     0.0    G    S  \n",
       "1          0.0        9.0           0.0  2823.0     0.0    F    S  \n",
       "2          0.0        0.0           0.0     0.0     0.0    C    S  \n",
       "3          0.0     6652.0           0.0   181.0   585.0    C    S  \n",
       "4         10.0        0.0         635.0     0.0     0.0    F    S  "
      ]
     },
     "execution_count": 11,
     "metadata": {},
     "output_type": "execute_result"
    }
   ],
   "source": [
    "newTest = testData['Cabin'].str.split('/',n=2,expand = True)\n",
    "newTrain = trainData['Cabin'].str.split('/',n=2,expand = True)\n",
    "\n",
    "testData['deck'] = newTest[0]\n",
    "trainData['deck'] = newTrain[0]\n",
    "\n",
    "testData['side'] = newTest[2]\n",
    "trainData['side'] = newTrain[2]\n",
    "\n",
    "testData.head()\n"
   ]
  },
  {
   "cell_type": "code",
   "execution_count": 12,
   "id": "f2dd79e9",
   "metadata": {
    "execution": {
     "iopub.execute_input": "2022-11-27T09:30:33.423803Z",
     "iopub.status.busy": "2022-11-27T09:30:33.423427Z",
     "iopub.status.idle": "2022-11-27T09:30:33.433947Z",
     "shell.execute_reply": "2022-11-27T09:30:33.433223Z"
    },
    "papermill": {
     "duration": 0.024658,
     "end_time": "2022-11-27T09:30:33.435871",
     "exception": false,
     "start_time": "2022-11-27T09:30:33.411213",
     "status": "completed"
    },
    "tags": []
   },
   "outputs": [],
   "source": [
    "trainData = trainData.drop(['Cabin'], axis=1)\n",
    "testData = testData.drop(['Cabin'], axis=1)"
   ]
  },
  {
   "cell_type": "code",
   "execution_count": 13,
   "id": "cb09f202",
   "metadata": {
    "execution": {
     "iopub.execute_input": "2022-11-27T09:30:33.458883Z",
     "iopub.status.busy": "2022-11-27T09:30:33.458482Z",
     "iopub.status.idle": "2022-11-27T09:30:33.467197Z",
     "shell.execute_reply": "2022-11-27T09:30:33.465751Z"
    },
    "papermill": {
     "duration": 0.022804,
     "end_time": "2022-11-27T09:30:33.469483",
     "exception": false,
     "start_time": "2022-11-27T09:30:33.446679",
     "status": "completed"
    },
    "tags": []
   },
   "outputs": [
    {
     "name": "stdout",
     "output_type": "stream",
     "text": [
      "0    F\n",
      "dtype: object\n",
      "0    S\n",
      "dtype: object\n"
     ]
    }
   ],
   "source": [
    "print(trainData.deck.mode())\n",
    "print(trainData.side.mode())"
   ]
  },
  {
   "cell_type": "code",
   "execution_count": 14,
   "id": "7cbccf86",
   "metadata": {
    "execution": {
     "iopub.execute_input": "2022-11-27T09:30:33.493096Z",
     "iopub.status.busy": "2022-11-27T09:30:33.492707Z",
     "iopub.status.idle": "2022-11-27T09:30:33.507991Z",
     "shell.execute_reply": "2022-11-27T09:30:33.506941Z"
    },
    "papermill": {
     "duration": 0.029642,
     "end_time": "2022-11-27T09:30:33.510147",
     "exception": false,
     "start_time": "2022-11-27T09:30:33.480505",
     "status": "completed"
    },
    "tags": []
   },
   "outputs": [],
   "source": [
    "trainData['deck'] = trainData['deck'].map({'A':0, 'B':1, 'C':2, 'D':3, 'E':4, 'F':5, 'G':6, 'T':7, 'X':5}).astype(int)\n",
    "testData['deck'] = testData['deck'].map({'A':0, 'B':1, 'C':2, 'D':3, 'E':4, 'F':5, 'G':6, 'T':7, 'X':5}).astype(int)\n",
    "\n",
    "trainData['side'] = trainData['side'].map({'P':0, 'S':1, 'X':1}).astype(int)\n",
    "testData['side'] = testData['side'].map({'P':0, 'S':1, 'X':1}).astype(int)"
   ]
  },
  {
   "cell_type": "code",
   "execution_count": 15,
   "id": "b1a1ea3a",
   "metadata": {
    "execution": {
     "iopub.execute_input": "2022-11-27T09:30:33.533561Z",
     "iopub.status.busy": "2022-11-27T09:30:33.533170Z",
     "iopub.status.idle": "2022-11-27T09:30:33.554224Z",
     "shell.execute_reply": "2022-11-27T09:30:33.552617Z"
    },
    "papermill": {
     "duration": 0.035615,
     "end_time": "2022-11-27T09:30:33.556706",
     "exception": false,
     "start_time": "2022-11-27T09:30:33.521091",
     "status": "completed"
    },
    "tags": []
   },
   "outputs": [
    {
     "name": "stdout",
     "output_type": "stream",
     "text": [
      "trainData\n",
      "  PassengerId  HomePlanet CryoSleep  Destination   Age    VIP  RoomService  \\\n",
      "0     0001_01           2     False  TRAPPIST-1e  39.0  False          0.0   \n",
      "1     0002_01           0     False  TRAPPIST-1e  24.0  False        109.0   \n",
      "2     0003_01           2     False  TRAPPIST-1e  58.0   True         43.0   \n",
      "3     0003_02           2     False  TRAPPIST-1e  33.0  False          0.0   \n",
      "4     0004_01           0     False  TRAPPIST-1e  16.0  False        303.0   \n",
      "\n",
      "   FoodCourt  ShoppingMall     Spa  VRDeck  Transported  deck  side  \n",
      "0        0.0           0.0     0.0     0.0        False     1     0  \n",
      "1        9.0          25.0   549.0    44.0         True     5     1  \n",
      "2     3576.0           0.0  6715.0    49.0        False     0     1  \n",
      "3     1283.0         371.0  3329.0   193.0        False     0     1  \n",
      "4       70.0         151.0   565.0     2.0         True     5     1  \n",
      "testData\n",
      "  PassengerId  HomePlanet CryoSleep  Destination   Age    VIP  RoomService  \\\n",
      "0     0013_01           0      True  TRAPPIST-1e  27.0  False          0.0   \n",
      "1     0018_01           0     False  TRAPPIST-1e  19.0  False          0.0   \n",
      "2     0019_01           2      True  55 Cancri e  31.0  False          0.0   \n",
      "3     0021_01           2     False  TRAPPIST-1e  38.0  False          0.0   \n",
      "4     0023_01           0     False  TRAPPIST-1e  20.0  False         10.0   \n",
      "\n",
      "   FoodCourt  ShoppingMall     Spa  VRDeck  deck  side  \n",
      "0        0.0           0.0     0.0     0.0     6     1  \n",
      "1        9.0           0.0  2823.0     0.0     5     1  \n",
      "2        0.0           0.0     0.0     0.0     2     1  \n",
      "3     6652.0           0.0   181.0   585.0     2     1  \n",
      "4        0.0         635.0     0.0     0.0     5     1  \n"
     ]
    }
   ],
   "source": [
    "print('trainData')\n",
    "print(trainData.head())\n",
    "print('testData')\n",
    "print(testData.head())"
   ]
  },
  {
   "cell_type": "code",
   "execution_count": 16,
   "id": "da227b0a",
   "metadata": {
    "execution": {
     "iopub.execute_input": "2022-11-27T09:30:33.580190Z",
     "iopub.status.busy": "2022-11-27T09:30:33.579100Z",
     "iopub.status.idle": "2022-11-27T09:30:33.589172Z",
     "shell.execute_reply": "2022-11-27T09:30:33.588382Z"
    },
    "papermill": {
     "duration": 0.02375,
     "end_time": "2022-11-27T09:30:33.591361",
     "exception": false,
     "start_time": "2022-11-27T09:30:33.567611",
     "status": "completed"
    },
    "tags": []
   },
   "outputs": [],
   "source": [
    "trainData['Destination'] = trainData['Destination'].map({'TRAPPIST-1e':0, '55 Cancri e':1, 'PSO J318.5-22':2}).astype(int)\n",
    "testData['Destination'] = testData['Destination'].map({'TRAPPIST-1e':0, '55 Cancri e':1, 'PSO J318.5-22':2}).astype(int)"
   ]
  },
  {
   "cell_type": "code",
   "execution_count": 17,
   "id": "94f641f4",
   "metadata": {
    "execution": {
     "iopub.execute_input": "2022-11-27T09:30:33.614811Z",
     "iopub.status.busy": "2022-11-27T09:30:33.614438Z",
     "iopub.status.idle": "2022-11-27T09:30:33.624862Z",
     "shell.execute_reply": "2022-11-27T09:30:33.623866Z"
    },
    "papermill": {
     "duration": 0.024918,
     "end_time": "2022-11-27T09:30:33.627006",
     "exception": false,
     "start_time": "2022-11-27T09:30:33.602088",
     "status": "completed"
    },
    "tags": []
   },
   "outputs": [
    {
     "data": {
      "text/plain": [
       "PassengerId       0\n",
       "HomePlanet        0\n",
       "CryoSleep       217\n",
       "Destination       0\n",
       "Age               0\n",
       "VIP               0\n",
       "RoomService       0\n",
       "FoodCourt         0\n",
       "ShoppingMall      0\n",
       "Spa               0\n",
       "VRDeck            0\n",
       "Transported       0\n",
       "deck              0\n",
       "side              0\n",
       "dtype: int64"
      ]
     },
     "execution_count": 17,
     "metadata": {},
     "output_type": "execute_result"
    }
   ],
   "source": [
    "trainData.isnull().sum()\n"
   ]
  },
  {
   "cell_type": "code",
   "execution_count": 18,
   "id": "02bb012e",
   "metadata": {
    "execution": {
     "iopub.execute_input": "2022-11-27T09:30:33.651667Z",
     "iopub.status.busy": "2022-11-27T09:30:33.651268Z",
     "iopub.status.idle": "2022-11-27T09:30:33.662083Z",
     "shell.execute_reply": "2022-11-27T09:30:33.661179Z"
    },
    "papermill": {
     "duration": 0.025838,
     "end_time": "2022-11-27T09:30:33.664386",
     "exception": false,
     "start_time": "2022-11-27T09:30:33.638548",
     "status": "completed"
    },
    "tags": []
   },
   "outputs": [],
   "source": [
    "ammenities = ['RoomService', 'FoodCourt','ShoppingMall', 'Spa', 'VRDeck']\n",
    "testData['SpentMoney'] = testData[ammenities].sum(axis=1)\n",
    "trainData['SpentMoney'] = trainData[ammenities].sum(axis=1)"
   ]
  },
  {
   "cell_type": "code",
   "execution_count": 19,
   "id": "e60198fb",
   "metadata": {
    "execution": {
     "iopub.execute_input": "2022-11-27T09:30:33.689490Z",
     "iopub.status.busy": "2022-11-27T09:30:33.688422Z",
     "iopub.status.idle": "2022-11-27T09:30:33.698377Z",
     "shell.execute_reply": "2022-11-27T09:30:33.697542Z"
    },
    "papermill": {
     "duration": 0.024392,
     "end_time": "2022-11-27T09:30:33.700362",
     "exception": false,
     "start_time": "2022-11-27T09:30:33.675970",
     "status": "completed"
    },
    "tags": []
   },
   "outputs": [],
   "source": [
    "trainData = trainData.drop(['RoomService', 'FoodCourt','ShoppingMall', 'Spa', 'VRDeck'], axis=1)\n",
    "testData = testData.drop(['RoomService', 'FoodCourt','ShoppingMall', 'Spa', 'VRDeck'], axis=1)"
   ]
  },
  {
   "cell_type": "code",
   "execution_count": 20,
   "id": "849319da",
   "metadata": {
    "execution": {
     "iopub.execute_input": "2022-11-27T09:30:33.724101Z",
     "iopub.status.busy": "2022-11-27T09:30:33.723756Z",
     "iopub.status.idle": "2022-11-27T09:30:33.737798Z",
     "shell.execute_reply": "2022-11-27T09:30:33.736811Z"
    },
    "papermill": {
     "duration": 0.028512,
     "end_time": "2022-11-27T09:30:33.739984",
     "exception": false,
     "start_time": "2022-11-27T09:30:33.711472",
     "status": "completed"
    },
    "tags": []
   },
   "outputs": [
    {
     "data": {
      "text/html": [
       "<div>\n",
       "<style scoped>\n",
       "    .dataframe tbody tr th:only-of-type {\n",
       "        vertical-align: middle;\n",
       "    }\n",
       "\n",
       "    .dataframe tbody tr th {\n",
       "        vertical-align: top;\n",
       "    }\n",
       "\n",
       "    .dataframe thead th {\n",
       "        text-align: right;\n",
       "    }\n",
       "</style>\n",
       "<table border=\"1\" class=\"dataframe\">\n",
       "  <thead>\n",
       "    <tr style=\"text-align: right;\">\n",
       "      <th></th>\n",
       "      <th>PassengerId</th>\n",
       "      <th>HomePlanet</th>\n",
       "      <th>CryoSleep</th>\n",
       "      <th>Destination</th>\n",
       "      <th>Age</th>\n",
       "      <th>VIP</th>\n",
       "      <th>Transported</th>\n",
       "      <th>deck</th>\n",
       "      <th>side</th>\n",
       "      <th>SpentMoney</th>\n",
       "    </tr>\n",
       "  </thead>\n",
       "  <tbody>\n",
       "    <tr>\n",
       "      <th>0</th>\n",
       "      <td>0001_01</td>\n",
       "      <td>2</td>\n",
       "      <td>False</td>\n",
       "      <td>0</td>\n",
       "      <td>39.0</td>\n",
       "      <td>False</td>\n",
       "      <td>False</td>\n",
       "      <td>1</td>\n",
       "      <td>0</td>\n",
       "      <td>0.0</td>\n",
       "    </tr>\n",
       "    <tr>\n",
       "      <th>1</th>\n",
       "      <td>0002_01</td>\n",
       "      <td>0</td>\n",
       "      <td>False</td>\n",
       "      <td>0</td>\n",
       "      <td>24.0</td>\n",
       "      <td>False</td>\n",
       "      <td>True</td>\n",
       "      <td>5</td>\n",
       "      <td>1</td>\n",
       "      <td>736.0</td>\n",
       "    </tr>\n",
       "    <tr>\n",
       "      <th>2</th>\n",
       "      <td>0003_01</td>\n",
       "      <td>2</td>\n",
       "      <td>False</td>\n",
       "      <td>0</td>\n",
       "      <td>58.0</td>\n",
       "      <td>True</td>\n",
       "      <td>False</td>\n",
       "      <td>0</td>\n",
       "      <td>1</td>\n",
       "      <td>10383.0</td>\n",
       "    </tr>\n",
       "    <tr>\n",
       "      <th>3</th>\n",
       "      <td>0003_02</td>\n",
       "      <td>2</td>\n",
       "      <td>False</td>\n",
       "      <td>0</td>\n",
       "      <td>33.0</td>\n",
       "      <td>False</td>\n",
       "      <td>False</td>\n",
       "      <td>0</td>\n",
       "      <td>1</td>\n",
       "      <td>5176.0</td>\n",
       "    </tr>\n",
       "    <tr>\n",
       "      <th>4</th>\n",
       "      <td>0004_01</td>\n",
       "      <td>0</td>\n",
       "      <td>False</td>\n",
       "      <td>0</td>\n",
       "      <td>16.0</td>\n",
       "      <td>False</td>\n",
       "      <td>True</td>\n",
       "      <td>5</td>\n",
       "      <td>1</td>\n",
       "      <td>1091.0</td>\n",
       "    </tr>\n",
       "  </tbody>\n",
       "</table>\n",
       "</div>"
      ],
      "text/plain": [
       "  PassengerId  HomePlanet CryoSleep  Destination   Age    VIP  Transported  \\\n",
       "0     0001_01           2     False            0  39.0  False        False   \n",
       "1     0002_01           0     False            0  24.0  False         True   \n",
       "2     0003_01           2     False            0  58.0   True        False   \n",
       "3     0003_02           2     False            0  33.0  False        False   \n",
       "4     0004_01           0     False            0  16.0  False         True   \n",
       "\n",
       "   deck  side  SpentMoney  \n",
       "0     1     0         0.0  \n",
       "1     5     1       736.0  \n",
       "2     0     1     10383.0  \n",
       "3     0     1      5176.0  \n",
       "4     5     1      1091.0  "
      ]
     },
     "execution_count": 20,
     "metadata": {},
     "output_type": "execute_result"
    }
   ],
   "source": [
    "trainData.head()"
   ]
  },
  {
   "cell_type": "code",
   "execution_count": 21,
   "id": "8d04c9ca",
   "metadata": {
    "execution": {
     "iopub.execute_input": "2022-11-27T09:30:33.764816Z",
     "iopub.status.busy": "2022-11-27T09:30:33.764179Z",
     "iopub.status.idle": "2022-11-27T09:30:34.042969Z",
     "shell.execute_reply": "2022-11-27T09:30:34.041433Z"
    },
    "papermill": {
     "duration": 0.295823,
     "end_time": "2022-11-27T09:30:34.047273",
     "exception": false,
     "start_time": "2022-11-27T09:30:33.751450",
     "status": "completed"
    },
    "tags": []
   },
   "outputs": [],
   "source": [
    "knnimputer = KNNImputer()\n",
    "\n",
    "impTrainData = knnimputer.fit_transform(trainData)\n",
    "impTestData = knnimputer.fit_transform(testData)\n",
    "\n",
    "trainData['CryoSleep'] = impTrainData[:,2]\n",
    "testData['CryoSleep'] = impTestData[:,2]"
   ]
  },
  {
   "cell_type": "code",
   "execution_count": 22,
   "id": "fe81d491",
   "metadata": {
    "execution": {
     "iopub.execute_input": "2022-11-27T09:30:34.107763Z",
     "iopub.status.busy": "2022-11-27T09:30:34.107072Z",
     "iopub.status.idle": "2022-11-27T09:30:34.122599Z",
     "shell.execute_reply": "2022-11-27T09:30:34.121175Z"
    },
    "papermill": {
     "duration": 0.048723,
     "end_time": "2022-11-27T09:30:34.125297",
     "exception": false,
     "start_time": "2022-11-27T09:30:34.076574",
     "status": "completed"
    },
    "tags": []
   },
   "outputs": [],
   "source": [
    "trainData['Age'] = trainData['Age']/trainData['Age'].abs().max()\n",
    "testData['Age'] = testData['Age']/testData['Age'].abs().max()\n",
    "\n",
    "trainData['SpentMoney'] = trainData['SpentMoney']/trainData['SpentMoney'].abs().max()\n",
    "testData['SpentMoney'] = testData['SpentMoney']/testData['SpentMoney'].abs().max()"
   ]
  },
  {
   "cell_type": "code",
   "execution_count": 23,
   "id": "a3a9112d",
   "metadata": {
    "execution": {
     "iopub.execute_input": "2022-11-27T09:30:34.149447Z",
     "iopub.status.busy": "2022-11-27T09:30:34.148781Z",
     "iopub.status.idle": "2022-11-27T09:30:34.160047Z",
     "shell.execute_reply": "2022-11-27T09:30:34.159269Z"
    },
    "papermill": {
     "duration": 0.025889,
     "end_time": "2022-11-27T09:30:34.162243",
     "exception": false,
     "start_time": "2022-11-27T09:30:34.136354",
     "status": "completed"
    },
    "tags": []
   },
   "outputs": [],
   "source": [
    "combine = [trainData,testData]\n",
    "for dataset in combine:\n",
    "    dataset.loc[ dataset['SpentMoney'] ==0, 'broke'] = 0\n",
    "    dataset.loc[(dataset['SpentMoney'] > 0), 'broke'] = 1\n",
    "    dataset['broke'] = dataset['broke'].astype(int)\n",
    "\n",
    "combine = [trainData, testData]\n",
    "\n"
   ]
  },
  {
   "cell_type": "code",
   "execution_count": 24,
   "id": "85c057f0",
   "metadata": {
    "execution": {
     "iopub.execute_input": "2022-11-27T09:30:34.185630Z",
     "iopub.status.busy": "2022-11-27T09:30:34.185260Z",
     "iopub.status.idle": "2022-11-27T09:30:34.193490Z",
     "shell.execute_reply": "2022-11-27T09:30:34.192644Z"
    },
    "papermill": {
     "duration": 0.022493,
     "end_time": "2022-11-27T09:30:34.195673",
     "exception": false,
     "start_time": "2022-11-27T09:30:34.173180",
     "status": "completed"
    },
    "tags": []
   },
   "outputs": [],
   "source": [
    "trainData = trainData.drop(['VIP'], axis=1)\n",
    "testData = testData.drop(['VIP'], axis=1)"
   ]
  },
  {
   "cell_type": "code",
   "execution_count": 25,
   "id": "2e33b532",
   "metadata": {
    "execution": {
     "iopub.execute_input": "2022-11-27T09:30:34.220452Z",
     "iopub.status.busy": "2022-11-27T09:30:34.220075Z",
     "iopub.status.idle": "2022-11-27T09:30:34.230803Z",
     "shell.execute_reply": "2022-11-27T09:30:34.229664Z"
    },
    "papermill": {
     "duration": 0.025858,
     "end_time": "2022-11-27T09:30:34.233072",
     "exception": false,
     "start_time": "2022-11-27T09:30:34.207214",
     "status": "completed"
    },
    "tags": []
   },
   "outputs": [
    {
     "data": {
      "text/plain": [
       "((8693, 8), (8693,), (4277, 8))"
      ]
     },
     "execution_count": 25,
     "metadata": {},
     "output_type": "execute_result"
    }
   ],
   "source": [
    "X_train = trainData.drop(['Transported','PassengerId'],axis = 1)\n",
    "Y_train = trainData[\"Transported\"]\n",
    "X_test  = testData.drop(\"PassengerId\", axis=1).copy()\n",
    "X_train.shape, Y_train.shape, X_test.shape"
   ]
  },
  {
   "cell_type": "code",
   "execution_count": 26,
   "id": "34c805e5",
   "metadata": {
    "execution": {
     "iopub.execute_input": "2022-11-27T09:30:34.257584Z",
     "iopub.status.busy": "2022-11-27T09:30:34.256941Z",
     "iopub.status.idle": "2022-11-27T09:30:34.270591Z",
     "shell.execute_reply": "2022-11-27T09:30:34.269541Z"
    },
    "papermill": {
     "duration": 0.028268,
     "end_time": "2022-11-27T09:30:34.272763",
     "exception": false,
     "start_time": "2022-11-27T09:30:34.244495",
     "status": "completed"
    },
    "tags": []
   },
   "outputs": [
    {
     "data": {
      "text/html": [
       "<div>\n",
       "<style scoped>\n",
       "    .dataframe tbody tr th:only-of-type {\n",
       "        vertical-align: middle;\n",
       "    }\n",
       "\n",
       "    .dataframe tbody tr th {\n",
       "        vertical-align: top;\n",
       "    }\n",
       "\n",
       "    .dataframe thead th {\n",
       "        text-align: right;\n",
       "    }\n",
       "</style>\n",
       "<table border=\"1\" class=\"dataframe\">\n",
       "  <thead>\n",
       "    <tr style=\"text-align: right;\">\n",
       "      <th></th>\n",
       "      <th>HomePlanet</th>\n",
       "      <th>CryoSleep</th>\n",
       "      <th>Destination</th>\n",
       "      <th>Age</th>\n",
       "      <th>deck</th>\n",
       "      <th>side</th>\n",
       "      <th>SpentMoney</th>\n",
       "      <th>broke</th>\n",
       "    </tr>\n",
       "  </thead>\n",
       "  <tbody>\n",
       "    <tr>\n",
       "      <th>0</th>\n",
       "      <td>2</td>\n",
       "      <td>0.0</td>\n",
       "      <td>0</td>\n",
       "      <td>0.493671</td>\n",
       "      <td>1</td>\n",
       "      <td>0</td>\n",
       "      <td>0.000000</td>\n",
       "      <td>0</td>\n",
       "    </tr>\n",
       "    <tr>\n",
       "      <th>1</th>\n",
       "      <td>0</td>\n",
       "      <td>0.0</td>\n",
       "      <td>0</td>\n",
       "      <td>0.303797</td>\n",
       "      <td>5</td>\n",
       "      <td>1</td>\n",
       "      <td>0.020452</td>\n",
       "      <td>1</td>\n",
       "    </tr>\n",
       "    <tr>\n",
       "      <th>2</th>\n",
       "      <td>2</td>\n",
       "      <td>0.0</td>\n",
       "      <td>0</td>\n",
       "      <td>0.734177</td>\n",
       "      <td>0</td>\n",
       "      <td>1</td>\n",
       "      <td>0.288521</td>\n",
       "      <td>1</td>\n",
       "    </tr>\n",
       "    <tr>\n",
       "      <th>3</th>\n",
       "      <td>2</td>\n",
       "      <td>0.0</td>\n",
       "      <td>0</td>\n",
       "      <td>0.417722</td>\n",
       "      <td>0</td>\n",
       "      <td>1</td>\n",
       "      <td>0.143830</td>\n",
       "      <td>1</td>\n",
       "    </tr>\n",
       "    <tr>\n",
       "      <th>4</th>\n",
       "      <td>0</td>\n",
       "      <td>0.0</td>\n",
       "      <td>0</td>\n",
       "      <td>0.202532</td>\n",
       "      <td>5</td>\n",
       "      <td>1</td>\n",
       "      <td>0.030317</td>\n",
       "      <td>1</td>\n",
       "    </tr>\n",
       "  </tbody>\n",
       "</table>\n",
       "</div>"
      ],
      "text/plain": [
       "   HomePlanet  CryoSleep  Destination       Age  deck  side  SpentMoney  broke\n",
       "0           2        0.0            0  0.493671     1     0    0.000000      0\n",
       "1           0        0.0            0  0.303797     5     1    0.020452      1\n",
       "2           2        0.0            0  0.734177     0     1    0.288521      1\n",
       "3           2        0.0            0  0.417722     0     1    0.143830      1\n",
       "4           0        0.0            0  0.202532     5     1    0.030317      1"
      ]
     },
     "execution_count": 26,
     "metadata": {},
     "output_type": "execute_result"
    }
   ],
   "source": [
    "X_train.head()"
   ]
  },
  {
   "cell_type": "code",
   "execution_count": 27,
   "id": "64bd5217",
   "metadata": {
    "execution": {
     "iopub.execute_input": "2022-11-27T09:30:34.297905Z",
     "iopub.status.busy": "2022-11-27T09:30:34.296849Z",
     "iopub.status.idle": "2022-11-27T09:30:34.309960Z",
     "shell.execute_reply": "2022-11-27T09:30:34.308997Z"
    },
    "papermill": {
     "duration": 0.028222,
     "end_time": "2022-11-27T09:30:34.312301",
     "exception": false,
     "start_time": "2022-11-27T09:30:34.284079",
     "status": "completed"
    },
    "tags": []
   },
   "outputs": [
    {
     "data": {
      "text/html": [
       "<div>\n",
       "<style scoped>\n",
       "    .dataframe tbody tr th:only-of-type {\n",
       "        vertical-align: middle;\n",
       "    }\n",
       "\n",
       "    .dataframe tbody tr th {\n",
       "        vertical-align: top;\n",
       "    }\n",
       "\n",
       "    .dataframe thead th {\n",
       "        text-align: right;\n",
       "    }\n",
       "</style>\n",
       "<table border=\"1\" class=\"dataframe\">\n",
       "  <thead>\n",
       "    <tr style=\"text-align: right;\">\n",
       "      <th></th>\n",
       "      <th>HomePlanet</th>\n",
       "      <th>CryoSleep</th>\n",
       "      <th>Destination</th>\n",
       "      <th>Age</th>\n",
       "      <th>deck</th>\n",
       "      <th>side</th>\n",
       "      <th>SpentMoney</th>\n",
       "      <th>broke</th>\n",
       "    </tr>\n",
       "  </thead>\n",
       "  <tbody>\n",
       "    <tr>\n",
       "      <th>0</th>\n",
       "      <td>0</td>\n",
       "      <td>1.0</td>\n",
       "      <td>0</td>\n",
       "      <td>0.341772</td>\n",
       "      <td>6</td>\n",
       "      <td>1</td>\n",
       "      <td>0.000000</td>\n",
       "      <td>0</td>\n",
       "    </tr>\n",
       "    <tr>\n",
       "      <th>1</th>\n",
       "      <td>0</td>\n",
       "      <td>0.0</td>\n",
       "      <td>0</td>\n",
       "      <td>0.240506</td>\n",
       "      <td>5</td>\n",
       "      <td>1</td>\n",
       "      <td>0.084120</td>\n",
       "      <td>1</td>\n",
       "    </tr>\n",
       "    <tr>\n",
       "      <th>2</th>\n",
       "      <td>2</td>\n",
       "      <td>1.0</td>\n",
       "      <td>1</td>\n",
       "      <td>0.392405</td>\n",
       "      <td>2</td>\n",
       "      <td>1</td>\n",
       "      <td>0.000000</td>\n",
       "      <td>0</td>\n",
       "    </tr>\n",
       "    <tr>\n",
       "      <th>3</th>\n",
       "      <td>2</td>\n",
       "      <td>0.0</td>\n",
       "      <td>0</td>\n",
       "      <td>0.481013</td>\n",
       "      <td>2</td>\n",
       "      <td>1</td>\n",
       "      <td>0.220341</td>\n",
       "      <td>1</td>\n",
       "    </tr>\n",
       "    <tr>\n",
       "      <th>4</th>\n",
       "      <td>0</td>\n",
       "      <td>0.0</td>\n",
       "      <td>0</td>\n",
       "      <td>0.253165</td>\n",
       "      <td>5</td>\n",
       "      <td>1</td>\n",
       "      <td>0.019159</td>\n",
       "      <td>1</td>\n",
       "    </tr>\n",
       "  </tbody>\n",
       "</table>\n",
       "</div>"
      ],
      "text/plain": [
       "   HomePlanet  CryoSleep  Destination       Age  deck  side  SpentMoney  broke\n",
       "0           0        1.0            0  0.341772     6     1    0.000000      0\n",
       "1           0        0.0            0  0.240506     5     1    0.084120      1\n",
       "2           2        1.0            1  0.392405     2     1    0.000000      0\n",
       "3           2        0.0            0  0.481013     2     1    0.220341      1\n",
       "4           0        0.0            0  0.253165     5     1    0.019159      1"
      ]
     },
     "execution_count": 27,
     "metadata": {},
     "output_type": "execute_result"
    }
   ],
   "source": [
    "X_test.head()"
   ]
  },
  {
   "cell_type": "code",
   "execution_count": 28,
   "id": "2d630871",
   "metadata": {
    "execution": {
     "iopub.execute_input": "2022-11-27T09:30:34.338686Z",
     "iopub.status.busy": "2022-11-27T09:30:34.338034Z",
     "iopub.status.idle": "2022-11-27T09:30:40.926333Z",
     "shell.execute_reply": "2022-11-27T09:30:40.925338Z"
    },
    "papermill": {
     "duration": 6.603929,
     "end_time": "2022-11-27T09:30:40.928837",
     "exception": false,
     "start_time": "2022-11-27T09:30:34.324908",
     "status": "completed"
    },
    "tags": []
   },
   "outputs": [
    {
     "data": {
      "text/plain": [
       "73.71"
      ]
     },
     "execution_count": 28,
     "metadata": {},
     "output_type": "execute_result"
    }
   ],
   "source": [
    "# Support Vector Machines\n",
    "\n",
    "svc = SVC()\n",
    "svc.fit(X_train, Y_train)\n",
    "Y_pred = svc.predict(X_test)\n",
    "acc_svc = round(svc.score(X_train, Y_train) * 100, 2)\n",
    "acc_svc\n"
   ]
  },
  {
   "cell_type": "markdown",
   "id": "5edcfd42",
   "metadata": {
    "papermill": {
     "duration": 0.012393,
     "end_time": "2022-11-27T09:30:40.953885",
     "exception": false,
     "start_time": "2022-11-27T09:30:40.941492",
     "status": "completed"
    },
    "tags": []
   },
   "source": [
    "This cell finds the best number of neighbors to use for our model"
   ]
  },
  {
   "cell_type": "code",
   "execution_count": 29,
   "id": "03454530",
   "metadata": {
    "execution": {
     "iopub.execute_input": "2022-11-27T09:30:40.980833Z",
     "iopub.status.busy": "2022-11-27T09:30:40.979728Z",
     "iopub.status.idle": "2022-11-27T09:30:40.984484Z",
     "shell.execute_reply": "2022-11-27T09:30:40.983416Z"
    },
    "papermill": {
     "duration": 0.020328,
     "end_time": "2022-11-27T09:30:40.986671",
     "exception": false,
     "start_time": "2022-11-27T09:30:40.966343",
     "status": "completed"
    },
    "tags": []
   },
   "outputs": [],
   "source": [
    "# parameters = {\"n_neighbors\": range(1, 50)}\n",
    "# gridsearch = GridSearchCV(KNeighborsClassifier(), parameters)\n",
    "# gridsearch.fit(X_train, Y_train)\n",
    "\n",
    "# gridsearch.best_params_"
   ]
  },
  {
   "cell_type": "code",
   "execution_count": 30,
   "id": "e54cf638",
   "metadata": {
    "execution": {
     "iopub.execute_input": "2022-11-27T09:30:41.012674Z",
     "iopub.status.busy": "2022-11-27T09:30:41.011706Z",
     "iopub.status.idle": "2022-11-27T09:30:42.363298Z",
     "shell.execute_reply": "2022-11-27T09:30:42.362551Z"
    },
    "papermill": {
     "duration": 1.366856,
     "end_time": "2022-11-27T09:30:42.365233",
     "exception": false,
     "start_time": "2022-11-27T09:30:40.998377",
     "status": "completed"
    },
    "tags": []
   },
   "outputs": [
    {
     "data": {
      "text/plain": [
       "0.7573910042562981"
      ]
     },
     "execution_count": 30,
     "metadata": {},
     "output_type": "execute_result"
    }
   ],
   "source": [
    "knn = KNeighborsClassifier(n_neighbors = 41)\n",
    "knn.fit(X_train, Y_train)\n",
    "Y_pred = knn.predict(X_test)\n",
    "acc_knn = round(knn.score(X_train, Y_train) * 100, 2)\n",
    "knn.score(X_train, Y_train)"
   ]
  },
  {
   "cell_type": "code",
   "execution_count": 31,
   "id": "dd8a03a9",
   "metadata": {
    "execution": {
     "iopub.execute_input": "2022-11-27T09:30:42.391514Z",
     "iopub.status.busy": "2022-11-27T09:30:42.390832Z",
     "iopub.status.idle": "2022-11-27T09:30:42.430359Z",
     "shell.execute_reply": "2022-11-27T09:30:42.429375Z"
    },
    "papermill": {
     "duration": 0.055262,
     "end_time": "2022-11-27T09:30:42.432574",
     "exception": false,
     "start_time": "2022-11-27T09:30:42.377312",
     "status": "completed"
    },
    "tags": []
   },
   "outputs": [
    {
     "data": {
      "text/plain": [
       "94.24"
      ]
     },
     "execution_count": 31,
     "metadata": {},
     "output_type": "execute_result"
    }
   ],
   "source": [
    "# Decision Tree\n",
    "\n",
    "decision_tree = DecisionTreeClassifier()\n",
    "decision_tree.fit(X_train, Y_train)\n",
    "Y_pred = decision_tree.predict(X_test)\n",
    "acc_decision_tree = round(decision_tree.score(X_train, Y_train) * 100, 2)\n",
    "acc_decision_tree"
   ]
  },
  {
   "cell_type": "code",
   "execution_count": 32,
   "id": "e7311e5d",
   "metadata": {
    "execution": {
     "iopub.execute_input": "2022-11-27T09:30:42.457795Z",
     "iopub.status.busy": "2022-11-27T09:30:42.457396Z",
     "iopub.status.idle": "2022-11-27T09:30:42.461358Z",
     "shell.execute_reply": "2022-11-27T09:30:42.460650Z"
    },
    "papermill": {
     "duration": 0.018556,
     "end_time": "2022-11-27T09:30:42.463228",
     "exception": false,
     "start_time": "2022-11-27T09:30:42.444672",
     "status": "completed"
    },
    "tags": []
   },
   "outputs": [],
   "source": [
    "# parameters = {\"n_estimators\":[1000,2500, 5000] ,\"max_depth\": [3,5,7,8,10], \"min_samples_split\": [5,8,10]}\n",
    "# gridsearch = GridSearchCV(RandomForestClassifier(), parameters)\n",
    "# gridsearch.fit(X_train, Y_train)\n",
    "\n",
    "# gridsearch.best_params_\n",
    "# # {'max_depth': 10, 'min_samples_split': 5, 'n_estimators': 1000}"
   ]
  },
  {
   "cell_type": "code",
   "execution_count": 33,
   "id": "4967df9d",
   "metadata": {
    "execution": {
     "iopub.execute_input": "2022-11-27T09:30:42.488387Z",
     "iopub.status.busy": "2022-11-27T09:30:42.487789Z",
     "iopub.status.idle": "2022-11-27T09:30:51.435287Z",
     "shell.execute_reply": "2022-11-27T09:30:51.434074Z"
    },
    "papermill": {
     "duration": 8.96304,
     "end_time": "2022-11-27T09:30:51.437706",
     "exception": false,
     "start_time": "2022-11-27T09:30:42.474666",
     "status": "completed"
    },
    "tags": []
   },
   "outputs": [
    {
     "data": {
      "text/plain": [
       "78.32"
      ]
     },
     "execution_count": 33,
     "metadata": {},
     "output_type": "execute_result"
    }
   ],
   "source": [
    "# Random Forest\n",
    "\n",
    "random_forest = RandomForestClassifier(n_estimators=1000, min_samples_split = 5, max_depth=10)\n",
    "random_forest.fit(X_train, Y_train)\n",
    "Y_pred = random_forest.predict(X_test)\n",
    "random_forest.score(X_train, Y_train)\n",
    "acc_random_forest = round(random_forest.score(X_train, Y_train) * 100, 2)\n",
    "acc_random_forest"
   ]
  },
  {
   "cell_type": "code",
   "execution_count": 34,
   "id": "1df56000",
   "metadata": {
    "execution": {
     "iopub.execute_input": "2022-11-27T09:30:51.464695Z",
     "iopub.status.busy": "2022-11-27T09:30:51.463634Z",
     "iopub.status.idle": "2022-11-27T09:30:52.228156Z",
     "shell.execute_reply": "2022-11-27T09:30:52.227230Z"
    },
    "papermill": {
     "duration": 0.780611,
     "end_time": "2022-11-27T09:30:52.230687",
     "exception": false,
     "start_time": "2022-11-27T09:30:51.450076",
     "status": "completed"
    },
    "tags": []
   },
   "outputs": [
    {
     "data": {
      "text/plain": [
       "83.58"
      ]
     },
     "execution_count": 34,
     "metadata": {},
     "output_type": "execute_result"
    }
   ],
   "source": [
    "gbm = xgb.XGBClassifier(learning_rate = .15, max_depth=7,subsample = .7)\n",
    "gbm.fit(X_train, Y_train)\n",
    "gmbScore = round(gbm.score(X_train, Y_train) *100, 2)\n",
    "gmbScore"
   ]
  },
  {
   "cell_type": "code",
   "execution_count": 35,
   "id": "5419f68e",
   "metadata": {
    "execution": {
     "iopub.execute_input": "2022-11-27T09:30:52.258947Z",
     "iopub.status.busy": "2022-11-27T09:30:52.258016Z",
     "iopub.status.idle": "2022-11-27T09:30:52.270031Z",
     "shell.execute_reply": "2022-11-27T09:30:52.269066Z"
    },
    "papermill": {
     "duration": 0.028905,
     "end_time": "2022-11-27T09:30:52.273556",
     "exception": false,
     "start_time": "2022-11-27T09:30:52.244651",
     "status": "completed"
    },
    "tags": []
   },
   "outputs": [
    {
     "data": {
      "text/html": [
       "<div>\n",
       "<style scoped>\n",
       "    .dataframe tbody tr th:only-of-type {\n",
       "        vertical-align: middle;\n",
       "    }\n",
       "\n",
       "    .dataframe tbody tr th {\n",
       "        vertical-align: top;\n",
       "    }\n",
       "\n",
       "    .dataframe thead th {\n",
       "        text-align: right;\n",
       "    }\n",
       "</style>\n",
       "<table border=\"1\" class=\"dataframe\">\n",
       "  <thead>\n",
       "    <tr style=\"text-align: right;\">\n",
       "      <th></th>\n",
       "      <th>Model</th>\n",
       "      <th>Score</th>\n",
       "    </tr>\n",
       "  </thead>\n",
       "  <tbody>\n",
       "    <tr>\n",
       "      <th>2</th>\n",
       "      <td>Decision Tree</td>\n",
       "      <td>94.24</td>\n",
       "    </tr>\n",
       "    <tr>\n",
       "      <th>3</th>\n",
       "      <td>XGB</td>\n",
       "      <td>83.58</td>\n",
       "    </tr>\n",
       "    <tr>\n",
       "      <th>1</th>\n",
       "      <td>Random Forest</td>\n",
       "      <td>78.32</td>\n",
       "    </tr>\n",
       "    <tr>\n",
       "      <th>0</th>\n",
       "      <td>KNN</td>\n",
       "      <td>75.74</td>\n",
       "    </tr>\n",
       "  </tbody>\n",
       "</table>\n",
       "</div>"
      ],
      "text/plain": [
       "           Model  Score\n",
       "2  Decision Tree  94.24\n",
       "3            XGB  83.58\n",
       "1  Random Forest  78.32\n",
       "0            KNN  75.74"
      ]
     },
     "execution_count": 35,
     "metadata": {},
     "output_type": "execute_result"
    }
   ],
   "source": [
    "models = pd.DataFrame({\n",
    "    'Model': [ 'KNN','Random Forest','Decision Tree', 'XGB'],\n",
    "    'Score': [acc_knn,acc_random_forest,acc_decision_tree,gmbScore]})\n",
    "models.sort_values(by='Score', ascending=False)"
   ]
  },
  {
   "cell_type": "code",
   "execution_count": 36,
   "id": "d0cffdf9",
   "metadata": {
    "execution": {
     "iopub.execute_input": "2022-11-27T09:30:52.300948Z",
     "iopub.status.busy": "2022-11-27T09:30:52.300321Z",
     "iopub.status.idle": "2022-11-27T09:30:53.020185Z",
     "shell.execute_reply": "2022-11-27T09:30:53.019038Z"
    },
    "papermill": {
     "duration": 0.736826,
     "end_time": "2022-11-27T09:30:53.023091",
     "exception": false,
     "start_time": "2022-11-27T09:30:52.286265",
     "status": "completed"
    },
    "tags": []
   },
   "outputs": [
    {
     "name": "stdout",
     "output_type": "stream",
     "text": [
      "[ True False  True ...  True False  True]\n"
     ]
    }
   ],
   "source": [
    "Y_pred = random_forest.predict(X_test)\n",
    "\n",
    "print(Y_pred)"
   ]
  },
  {
   "cell_type": "code",
   "execution_count": 37,
   "id": "52b55892",
   "metadata": {
    "execution": {
     "iopub.execute_input": "2022-11-27T09:30:53.051234Z",
     "iopub.status.busy": "2022-11-27T09:30:53.050693Z",
     "iopub.status.idle": "2022-11-27T09:30:53.055247Z",
     "shell.execute_reply": "2022-11-27T09:30:53.054580Z"
    },
    "papermill": {
     "duration": 0.020598,
     "end_time": "2022-11-27T09:30:53.057129",
     "exception": false,
     "start_time": "2022-11-27T09:30:53.036531",
     "status": "completed"
    },
    "tags": []
   },
   "outputs": [],
   "source": [
    "submission = pd.DataFrame({\n",
    "        \"PassengerId\": testData[\"PassengerId\"],\n",
    "        \"Transported\": Y_pred\n",
    "    })\n",
    "\n"
   ]
  },
  {
   "cell_type": "code",
   "execution_count": 38,
   "id": "f6b3c363",
   "metadata": {
    "execution": {
     "iopub.execute_input": "2022-11-27T09:30:53.084320Z",
     "iopub.status.busy": "2022-11-27T09:30:53.083733Z",
     "iopub.status.idle": "2022-11-27T09:30:53.092352Z",
     "shell.execute_reply": "2022-11-27T09:30:53.091645Z"
    },
    "papermill": {
     "duration": 0.024935,
     "end_time": "2022-11-27T09:30:53.094339",
     "exception": false,
     "start_time": "2022-11-27T09:30:53.069404",
     "status": "completed"
    },
    "tags": []
   },
   "outputs": [
    {
     "data": {
      "text/html": [
       "<div>\n",
       "<style scoped>\n",
       "    .dataframe tbody tr th:only-of-type {\n",
       "        vertical-align: middle;\n",
       "    }\n",
       "\n",
       "    .dataframe tbody tr th {\n",
       "        vertical-align: top;\n",
       "    }\n",
       "\n",
       "    .dataframe thead th {\n",
       "        text-align: right;\n",
       "    }\n",
       "</style>\n",
       "<table border=\"1\" class=\"dataframe\">\n",
       "  <thead>\n",
       "    <tr style=\"text-align: right;\">\n",
       "      <th></th>\n",
       "      <th>PassengerId</th>\n",
       "      <th>Transported</th>\n",
       "    </tr>\n",
       "  </thead>\n",
       "  <tbody>\n",
       "    <tr>\n",
       "      <th>0</th>\n",
       "      <td>0013_01</td>\n",
       "      <td>True</td>\n",
       "    </tr>\n",
       "    <tr>\n",
       "      <th>1</th>\n",
       "      <td>0018_01</td>\n",
       "      <td>False</td>\n",
       "    </tr>\n",
       "    <tr>\n",
       "      <th>2</th>\n",
       "      <td>0019_01</td>\n",
       "      <td>True</td>\n",
       "    </tr>\n",
       "    <tr>\n",
       "      <th>3</th>\n",
       "      <td>0021_01</td>\n",
       "      <td>False</td>\n",
       "    </tr>\n",
       "    <tr>\n",
       "      <th>4</th>\n",
       "      <td>0023_01</td>\n",
       "      <td>False</td>\n",
       "    </tr>\n",
       "  </tbody>\n",
       "</table>\n",
       "</div>"
      ],
      "text/plain": [
       "  PassengerId  Transported\n",
       "0     0013_01         True\n",
       "1     0018_01        False\n",
       "2     0019_01         True\n",
       "3     0021_01        False\n",
       "4     0023_01        False"
      ]
     },
     "execution_count": 38,
     "metadata": {},
     "output_type": "execute_result"
    }
   ],
   "source": [
    "submission.head()"
   ]
  },
  {
   "cell_type": "code",
   "execution_count": 39,
   "id": "11946212",
   "metadata": {
    "execution": {
     "iopub.execute_input": "2022-11-27T09:30:53.122531Z",
     "iopub.status.busy": "2022-11-27T09:30:53.121954Z",
     "iopub.status.idle": "2022-11-27T09:30:53.132980Z",
     "shell.execute_reply": "2022-11-27T09:30:53.131991Z"
    },
    "papermill": {
     "duration": 0.027796,
     "end_time": "2022-11-27T09:30:53.135251",
     "exception": false,
     "start_time": "2022-11-27T09:30:53.107455",
     "status": "completed"
    },
    "tags": []
   },
   "outputs": [],
   "source": [
    "submission.to_csv('/kaggle/working/submission.csv', index=False)"
   ]
  }
 ],
 "metadata": {
  "kernelspec": {
   "display_name": "Python 3",
   "language": "python",
   "name": "python3"
  },
  "language_info": {
   "codemirror_mode": {
    "name": "ipython",
    "version": 3
   },
   "file_extension": ".py",
   "mimetype": "text/x-python",
   "name": "python",
   "nbconvert_exporter": "python",
   "pygments_lexer": "ipython3",
   "version": "3.7.12"
  },
  "papermill": {
   "default_parameters": {},
   "duration": 30.639751,
   "end_time": "2022-11-27T09:30:53.868724",
   "environment_variables": {},
   "exception": null,
   "input_path": "__notebook__.ipynb",
   "output_path": "__notebook__.ipynb",
   "parameters": {},
   "start_time": "2022-11-27T09:30:23.228973",
   "version": "2.3.4"
  }
 },
 "nbformat": 4,
 "nbformat_minor": 5
}
