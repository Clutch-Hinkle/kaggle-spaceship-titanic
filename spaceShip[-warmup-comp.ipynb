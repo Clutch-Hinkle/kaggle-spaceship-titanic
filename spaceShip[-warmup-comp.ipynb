{
 "cells": [
  {
   "cell_type": "code",
   "execution_count": null,
   "id": "126eca4c",
   "metadata": {
    "_cell_guid": "b1076dfc-b9ad-4769-8c92-a6c4dae69d19",
    "_uuid": "8f2839f25d086af736a60e9eeb907d3b93b6e0e5",
    "execution": {
     "iopub.execute_input": "2022-09-20T01:02:46.997841Z",
     "iopub.status.busy": "2022-09-20T01:02:46.997180Z",
     "iopub.status.idle": "2022-09-20T01:02:48.611126Z",
     "shell.execute_reply": "2022-09-20T01:02:48.609849Z"
    },
    "papermill": {
     "duration": 1.627406,
     "end_time": "2022-09-20T01:02:48.614096",
     "exception": false,
     "start_time": "2022-09-20T01:02:46.986690",
     "status": "completed"
    },
    "tags": []
   },
   "outputs": [
    {
     "ename": "ModuleNotFoundError",
     "evalue": "No module named 'pandas'",
     "output_type": "error",
     "traceback": [
      "\u001b[0;31m---------------------------------------------------------------------------\u001b[0m",
      "\u001b[0;31mModuleNotFoundError\u001b[0m                       Traceback (most recent call last)",
      "\u001b[0;32m<ipython-input-1-bd057dcc0e86>\u001b[0m in \u001b[0;36m<module>\u001b[0;34m\u001b[0m\n\u001b[1;32m      4\u001b[0m \u001b[0;34m\u001b[0m\u001b[0m\n\u001b[1;32m      5\u001b[0m \u001b[0;32mimport\u001b[0m \u001b[0mnumpy\u001b[0m \u001b[0;32mas\u001b[0m \u001b[0mnp\u001b[0m \u001b[0;31m# linear algebra\u001b[0m\u001b[0;34m\u001b[0m\u001b[0;34m\u001b[0m\u001b[0m\n\u001b[0;32m----> 6\u001b[0;31m \u001b[0;32mimport\u001b[0m \u001b[0mpandas\u001b[0m \u001b[0;32mas\u001b[0m \u001b[0mpd\u001b[0m \u001b[0;31m# data processing, CSV file I/O (e.g. pd.read_csv\u001b[0m\u001b[0;34m\u001b[0m\u001b[0;34m\u001b[0m\u001b[0m\n\u001b[0m\u001b[1;32m      7\u001b[0m \u001b[0;32mimport\u001b[0m \u001b[0mrandom\u001b[0m \u001b[0;32mas\u001b[0m \u001b[0mrnd\u001b[0m\u001b[0;34m\u001b[0m\u001b[0;34m\u001b[0m\u001b[0m\n\u001b[1;32m      8\u001b[0m \u001b[0;34m\u001b[0m\u001b[0m\n",
      "\u001b[0;31mModuleNotFoundError\u001b[0m: No module named 'pandas'"
     ]
    }
   ],
   "source": [
    "# This Python 3 environment comes with many helpful analytics libraries installed\n",
    "# It is defined by the kaggle/python Docker image: https://github.com/kaggle/docker-python\n",
    "# For example, here's several helpful packages to load\n",
    "\n",
    "import numpy as np # linear algebra\n",
    "import pandas as pd # data processing, CSV file I/O (e.g. pd.read_csv\n",
    "import random as rnd\n",
    "\n",
    "# visualization\n",
    "import seaborn as sns\n",
    "import matplotlib.pyplot as plt\n",
    "import xgboost as xgb\n",
    "%matplotlib inline\n",
    "\n",
    "# Input data files are available in the read-only \"../input/\" directory\n",
    "# For example, running this (by clicking run or pressing Shift+Enter) will list all files under the input directory\n",
    "\n",
    "# machine learning\n",
    "from sklearn.linear_model import LogisticRegression\n",
    "from sklearn.svm import SVC, LinearSVC\n",
    "from sklearn.ensemble import RandomForestClassifier\n",
    "from sklearn.neighbors import KNeighborsClassifier\n",
    "from sklearn.naive_bayes import GaussianNB\n",
    "from sklearn.linear_model import Perceptron\n",
    "from sklearn.linear_model import SGDClassifier\n",
    "from sklearn.tree import DecisionTreeClassifier\n",
    "from sklearn.experimental import enable_iterative_imputer\n",
    "from sklearn.impute import IterativeImputer\n",
    "from sklearn.model_selection import GridSearchCV\n",
    "from sklearn.neighbors import KNeighborsRegressor\n",
    "\n",
    "from sklearn.impute import KNNImputer\n",
    "\n",
    "import os\n",
    "for dirname, _, filenames in os.walk('/kaggle/input'):\n",
    "    for filename in filenames:\n",
    "        print(os.path.join(dirname, filename))\n",
    "\n",
    "# You can write up to 20GB to the current directory (/kaggle/working/) that gets preserved as output when you create a version using \"Save & Run All\" \n",
    "# You can also write temporary files to /kaggle/temp/, but they won't be saved outside of the current session"
   ]
  },
  {
   "cell_type": "markdown",
   "id": "6238b7d9",
   "metadata": {
    "papermill": {
     "duration": 0.00722,
     "end_time": "2022-09-20T01:02:48.629058",
     "exception": false,
     "start_time": "2022-09-20T01:02:48.621838",
     "status": "completed"
    },
    "tags": []
   },
   "source": [
    "Adding the data"
   ]
  },
  {
   "cell_type": "code",
   "execution_count": 2,
   "id": "a4240a60",
   "metadata": {
    "execution": {
     "iopub.execute_input": "2022-09-20T01:02:48.645463Z",
     "iopub.status.busy": "2022-09-20T01:02:48.644808Z",
     "iopub.status.idle": "2022-09-20T01:02:48.693173Z",
     "shell.execute_reply": "2022-09-20T01:02:48.691958Z"
    },
    "papermill": {
     "duration": 0.059319,
     "end_time": "2022-09-20T01:02:48.695533",
     "exception": false,
     "start_time": "2022-09-20T01:02:48.636214",
     "status": "completed"
    },
    "tags": []
   },
   "outputs": [
    {
     "data": {
      "text/html": [
       "<div>\n",
       "<style scoped>\n",
       "    .dataframe tbody tr th:only-of-type {\n",
       "        vertical-align: middle;\n",
       "    }\n",
       "\n",
       "    .dataframe tbody tr th {\n",
       "        vertical-align: top;\n",
       "    }\n",
       "\n",
       "    .dataframe thead th {\n",
       "        text-align: right;\n",
       "    }\n",
       "</style>\n",
       "<table border=\"1\" class=\"dataframe\">\n",
       "  <thead>\n",
       "    <tr style=\"text-align: right;\">\n",
       "      <th></th>\n",
       "      <th>PassengerId</th>\n",
       "      <th>Survived</th>\n",
       "      <th>Pclass</th>\n",
       "      <th>Name</th>\n",
       "      <th>Sex</th>\n",
       "      <th>Age</th>\n",
       "      <th>SibSp</th>\n",
       "      <th>Parch</th>\n",
       "      <th>Ticket</th>\n",
       "      <th>Fare</th>\n",
       "      <th>Cabin</th>\n",
       "      <th>Embarked</th>\n",
       "    </tr>\n",
       "  </thead>\n",
       "  <tbody>\n",
       "    <tr>\n",
       "      <th>0</th>\n",
       "      <td>1</td>\n",
       "      <td>0</td>\n",
       "      <td>3</td>\n",
       "      <td>Braund, Mr. Owen Harris</td>\n",
       "      <td>male</td>\n",
       "      <td>22.0</td>\n",
       "      <td>1</td>\n",
       "      <td>0</td>\n",
       "      <td>A/5 21171</td>\n",
       "      <td>7.2500</td>\n",
       "      <td>NaN</td>\n",
       "      <td>S</td>\n",
       "    </tr>\n",
       "    <tr>\n",
       "      <th>1</th>\n",
       "      <td>2</td>\n",
       "      <td>1</td>\n",
       "      <td>1</td>\n",
       "      <td>Cumings, Mrs. John Bradley (Florence Briggs Th...</td>\n",
       "      <td>female</td>\n",
       "      <td>38.0</td>\n",
       "      <td>1</td>\n",
       "      <td>0</td>\n",
       "      <td>PC 17599</td>\n",
       "      <td>71.2833</td>\n",
       "      <td>C85</td>\n",
       "      <td>C</td>\n",
       "    </tr>\n",
       "    <tr>\n",
       "      <th>2</th>\n",
       "      <td>3</td>\n",
       "      <td>1</td>\n",
       "      <td>3</td>\n",
       "      <td>Heikkinen, Miss. Laina</td>\n",
       "      <td>female</td>\n",
       "      <td>26.0</td>\n",
       "      <td>0</td>\n",
       "      <td>0</td>\n",
       "      <td>STON/O2. 3101282</td>\n",
       "      <td>7.9250</td>\n",
       "      <td>NaN</td>\n",
       "      <td>S</td>\n",
       "    </tr>\n",
       "    <tr>\n",
       "      <th>3</th>\n",
       "      <td>4</td>\n",
       "      <td>1</td>\n",
       "      <td>1</td>\n",
       "      <td>Futrelle, Mrs. Jacques Heath (Lily May Peel)</td>\n",
       "      <td>female</td>\n",
       "      <td>35.0</td>\n",
       "      <td>1</td>\n",
       "      <td>0</td>\n",
       "      <td>113803</td>\n",
       "      <td>53.1000</td>\n",
       "      <td>C123</td>\n",
       "      <td>S</td>\n",
       "    </tr>\n",
       "    <tr>\n",
       "      <th>4</th>\n",
       "      <td>5</td>\n",
       "      <td>0</td>\n",
       "      <td>3</td>\n",
       "      <td>Allen, Mr. William Henry</td>\n",
       "      <td>male</td>\n",
       "      <td>35.0</td>\n",
       "      <td>0</td>\n",
       "      <td>0</td>\n",
       "      <td>373450</td>\n",
       "      <td>8.0500</td>\n",
       "      <td>NaN</td>\n",
       "      <td>S</td>\n",
       "    </tr>\n",
       "  </tbody>\n",
       "</table>\n",
       "</div>"
      ],
      "text/plain": [
       "   PassengerId  Survived  Pclass  \\\n",
       "0            1         0       3   \n",
       "1            2         1       1   \n",
       "2            3         1       3   \n",
       "3            4         1       1   \n",
       "4            5         0       3   \n",
       "\n",
       "                                                Name     Sex   Age  SibSp  \\\n",
       "0                            Braund, Mr. Owen Harris    male  22.0      1   \n",
       "1  Cumings, Mrs. John Bradley (Florence Briggs Th...  female  38.0      1   \n",
       "2                             Heikkinen, Miss. Laina  female  26.0      0   \n",
       "3       Futrelle, Mrs. Jacques Heath (Lily May Peel)  female  35.0      1   \n",
       "4                           Allen, Mr. William Henry    male  35.0      0   \n",
       "\n",
       "   Parch            Ticket     Fare Cabin Embarked  \n",
       "0      0         A/5 21171   7.2500   NaN        S  \n",
       "1      0          PC 17599  71.2833   C85        C  \n",
       "2      0  STON/O2. 3101282   7.9250   NaN        S  \n",
       "3      0            113803  53.1000  C123        S  \n",
       "4      0            373450   8.0500   NaN        S  "
      ]
     },
     "execution_count": 2,
     "metadata": {},
     "output_type": "execute_result"
    }
   ],
   "source": [
    "trainData = pd.read_csv('../input/spaceship-titanic/train.csv')\n",
    "testData = pd.read_csv('../input/spaceship-titanic/test.csv')\n",
    "combine = [trainData, testData]\n",
    "\n",
    "trainData.head()"
   ]
  },
  {
   "cell_type": "code",
   "execution_count": 3,
   "id": "d1bb4ba3",
   "metadata": {
    "execution": {
     "iopub.execute_input": "2022-09-20T01:02:48.712273Z",
     "iopub.status.busy": "2022-09-20T01:02:48.711627Z",
     "iopub.status.idle": "2022-09-20T01:02:48.756517Z",
     "shell.execute_reply": "2022-09-20T01:02:48.755412Z"
    },
    "papermill": {
     "duration": 0.056142,
     "end_time": "2022-09-20T01:02:48.759047",
     "exception": false,
     "start_time": "2022-09-20T01:02:48.702905",
     "status": "completed"
    },
    "tags": []
   },
   "outputs": [
    {
     "data": {
      "text/html": [
       "<div>\n",
       "<style scoped>\n",
       "    .dataframe tbody tr th:only-of-type {\n",
       "        vertical-align: middle;\n",
       "    }\n",
       "\n",
       "    .dataframe tbody tr th {\n",
       "        vertical-align: top;\n",
       "    }\n",
       "\n",
       "    .dataframe thead th {\n",
       "        text-align: right;\n",
       "    }\n",
       "</style>\n",
       "<table border=\"1\" class=\"dataframe\">\n",
       "  <thead>\n",
       "    <tr style=\"text-align: right;\">\n",
       "      <th></th>\n",
       "      <th>PassengerId</th>\n",
       "      <th>Survived</th>\n",
       "      <th>Pclass</th>\n",
       "      <th>Age</th>\n",
       "      <th>SibSp</th>\n",
       "      <th>Parch</th>\n",
       "      <th>Fare</th>\n",
       "    </tr>\n",
       "  </thead>\n",
       "  <tbody>\n",
       "    <tr>\n",
       "      <th>count</th>\n",
       "      <td>891.000000</td>\n",
       "      <td>891.000000</td>\n",
       "      <td>891.000000</td>\n",
       "      <td>714.000000</td>\n",
       "      <td>891.000000</td>\n",
       "      <td>891.000000</td>\n",
       "      <td>891.000000</td>\n",
       "    </tr>\n",
       "    <tr>\n",
       "      <th>mean</th>\n",
       "      <td>446.000000</td>\n",
       "      <td>0.383838</td>\n",
       "      <td>2.308642</td>\n",
       "      <td>29.699118</td>\n",
       "      <td>0.523008</td>\n",
       "      <td>0.381594</td>\n",
       "      <td>32.204208</td>\n",
       "    </tr>\n",
       "    <tr>\n",
       "      <th>std</th>\n",
       "      <td>257.353842</td>\n",
       "      <td>0.486592</td>\n",
       "      <td>0.836071</td>\n",
       "      <td>14.526497</td>\n",
       "      <td>1.102743</td>\n",
       "      <td>0.806057</td>\n",
       "      <td>49.693429</td>\n",
       "    </tr>\n",
       "    <tr>\n",
       "      <th>min</th>\n",
       "      <td>1.000000</td>\n",
       "      <td>0.000000</td>\n",
       "      <td>1.000000</td>\n",
       "      <td>0.420000</td>\n",
       "      <td>0.000000</td>\n",
       "      <td>0.000000</td>\n",
       "      <td>0.000000</td>\n",
       "    </tr>\n",
       "    <tr>\n",
       "      <th>25%</th>\n",
       "      <td>223.500000</td>\n",
       "      <td>0.000000</td>\n",
       "      <td>2.000000</td>\n",
       "      <td>20.125000</td>\n",
       "      <td>0.000000</td>\n",
       "      <td>0.000000</td>\n",
       "      <td>7.910400</td>\n",
       "    </tr>\n",
       "    <tr>\n",
       "      <th>50%</th>\n",
       "      <td>446.000000</td>\n",
       "      <td>0.000000</td>\n",
       "      <td>3.000000</td>\n",
       "      <td>28.000000</td>\n",
       "      <td>0.000000</td>\n",
       "      <td>0.000000</td>\n",
       "      <td>14.454200</td>\n",
       "    </tr>\n",
       "    <tr>\n",
       "      <th>75%</th>\n",
       "      <td>668.500000</td>\n",
       "      <td>1.000000</td>\n",
       "      <td>3.000000</td>\n",
       "      <td>38.000000</td>\n",
       "      <td>1.000000</td>\n",
       "      <td>0.000000</td>\n",
       "      <td>31.000000</td>\n",
       "    </tr>\n",
       "    <tr>\n",
       "      <th>max</th>\n",
       "      <td>891.000000</td>\n",
       "      <td>1.000000</td>\n",
       "      <td>3.000000</td>\n",
       "      <td>80.000000</td>\n",
       "      <td>8.000000</td>\n",
       "      <td>6.000000</td>\n",
       "      <td>512.329200</td>\n",
       "    </tr>\n",
       "  </tbody>\n",
       "</table>\n",
       "</div>"
      ],
      "text/plain": [
       "       PassengerId    Survived      Pclass         Age       SibSp  \\\n",
       "count   891.000000  891.000000  891.000000  714.000000  891.000000   \n",
       "mean    446.000000    0.383838    2.308642   29.699118    0.523008   \n",
       "std     257.353842    0.486592    0.836071   14.526497    1.102743   \n",
       "min       1.000000    0.000000    1.000000    0.420000    0.000000   \n",
       "25%     223.500000    0.000000    2.000000   20.125000    0.000000   \n",
       "50%     446.000000    0.000000    3.000000   28.000000    0.000000   \n",
       "75%     668.500000    1.000000    3.000000   38.000000    1.000000   \n",
       "max     891.000000    1.000000    3.000000   80.000000    8.000000   \n",
       "\n",
       "            Parch        Fare  \n",
       "count  891.000000  891.000000  \n",
       "mean     0.381594   32.204208  \n",
       "std      0.806057   49.693429  \n",
       "min      0.000000    0.000000  \n",
       "25%      0.000000    7.910400  \n",
       "50%      0.000000   14.454200  \n",
       "75%      0.000000   31.000000  \n",
       "max      6.000000  512.329200  "
      ]
     },
     "execution_count": 3,
     "metadata": {},
     "output_type": "execute_result"
    }
   ],
   "source": [
    "trainData.describe()"
   ]
  },
  {
   "cell_type": "code",
   "execution_count": 4,
   "id": "20fa3dae",
   "metadata": {
    "execution": {
     "iopub.execute_input": "2022-09-20T01:02:48.776409Z",
     "iopub.status.busy": "2022-09-20T01:02:48.775762Z",
     "iopub.status.idle": "2022-09-20T01:02:48.785483Z",
     "shell.execute_reply": "2022-09-20T01:02:48.784201Z"
    },
    "papermill": {
     "duration": 0.021093,
     "end_time": "2022-09-20T01:02:48.787893",
     "exception": false,
     "start_time": "2022-09-20T01:02:48.766800",
     "status": "completed"
    },
    "tags": []
   },
   "outputs": [
    {
     "data": {
      "text/plain": [
       "PassengerId      0\n",
       "Survived         0\n",
       "Pclass           0\n",
       "Name             0\n",
       "Sex              0\n",
       "Age            177\n",
       "SibSp            0\n",
       "Parch            0\n",
       "Ticket           0\n",
       "Fare             0\n",
       "Cabin          687\n",
       "Embarked         2\n",
       "dtype: int64"
      ]
     },
     "execution_count": 4,
     "metadata": {},
     "output_type": "execute_result"
    }
   ],
   "source": [
    "trainData.isnull().sum()"
   ]
  },
  {
   "cell_type": "markdown",
   "id": "9b9e5140",
   "metadata": {
    "papermill": {
     "duration": 0.007378,
     "end_time": "2022-09-20T01:02:48.803217",
     "exception": false,
     "start_time": "2022-09-20T01:02:48.795839",
     "status": "completed"
    },
    "tags": []
   },
   "source": [
    "Drop features we dont want to use"
   ]
  },
  {
   "cell_type": "code",
   "execution_count": 5,
   "id": "f8303f4d",
   "metadata": {
    "execution": {
     "iopub.execute_input": "2022-09-20T01:02:48.820653Z",
     "iopub.status.busy": "2022-09-20T01:02:48.820196Z",
     "iopub.status.idle": "2022-09-20T01:02:48.828020Z",
     "shell.execute_reply": "2022-09-20T01:02:48.826908Z"
    },
    "papermill": {
     "duration": 0.019222,
     "end_time": "2022-09-20T01:02:48.830222",
     "exception": false,
     "start_time": "2022-09-20T01:02:48.811000",
     "status": "completed"
    },
    "tags": []
   },
   "outputs": [],
   "source": [
    "trainData = trainData.drop(['Name','Ticket','Cabin','PassengerId'], axis=1)\n",
    "testData = testData.drop(['Name','Ticket','Cabin'], axis=1)\n",
    "combine = [trainData, testData]"
   ]
  },
  {
   "cell_type": "code",
   "execution_count": 6,
   "id": "8943bf18",
   "metadata": {
    "execution": {
     "iopub.execute_input": "2022-09-20T01:02:48.849151Z",
     "iopub.status.busy": "2022-09-20T01:02:48.848191Z",
     "iopub.status.idle": "2022-09-20T01:02:48.870116Z",
     "shell.execute_reply": "2022-09-20T01:02:48.868320Z"
    },
    "papermill": {
     "duration": 0.033385,
     "end_time": "2022-09-20T01:02:48.872582",
     "exception": false,
     "start_time": "2022-09-20T01:02:48.839197",
     "status": "completed"
    },
    "tags": []
   },
   "outputs": [
    {
     "data": {
      "text/html": [
       "<div>\n",
       "<style scoped>\n",
       "    .dataframe tbody tr th:only-of-type {\n",
       "        vertical-align: middle;\n",
       "    }\n",
       "\n",
       "    .dataframe tbody tr th {\n",
       "        vertical-align: top;\n",
       "    }\n",
       "\n",
       "    .dataframe thead th {\n",
       "        text-align: right;\n",
       "    }\n",
       "</style>\n",
       "<table border=\"1\" class=\"dataframe\">\n",
       "  <thead>\n",
       "    <tr style=\"text-align: right;\">\n",
       "      <th></th>\n",
       "      <th>Survived</th>\n",
       "      <th>Pclass</th>\n",
       "      <th>Sex</th>\n",
       "      <th>Age</th>\n",
       "      <th>SibSp</th>\n",
       "      <th>Parch</th>\n",
       "      <th>Fare</th>\n",
       "      <th>Embarked</th>\n",
       "    </tr>\n",
       "  </thead>\n",
       "  <tbody>\n",
       "    <tr>\n",
       "      <th>0</th>\n",
       "      <td>0</td>\n",
       "      <td>3</td>\n",
       "      <td>0</td>\n",
       "      <td>22.0</td>\n",
       "      <td>1</td>\n",
       "      <td>0</td>\n",
       "      <td>7.2500</td>\n",
       "      <td>S</td>\n",
       "    </tr>\n",
       "    <tr>\n",
       "      <th>1</th>\n",
       "      <td>1</td>\n",
       "      <td>1</td>\n",
       "      <td>1</td>\n",
       "      <td>38.0</td>\n",
       "      <td>1</td>\n",
       "      <td>0</td>\n",
       "      <td>71.2833</td>\n",
       "      <td>C</td>\n",
       "    </tr>\n",
       "    <tr>\n",
       "      <th>2</th>\n",
       "      <td>1</td>\n",
       "      <td>3</td>\n",
       "      <td>1</td>\n",
       "      <td>26.0</td>\n",
       "      <td>0</td>\n",
       "      <td>0</td>\n",
       "      <td>7.9250</td>\n",
       "      <td>S</td>\n",
       "    </tr>\n",
       "    <tr>\n",
       "      <th>3</th>\n",
       "      <td>1</td>\n",
       "      <td>1</td>\n",
       "      <td>1</td>\n",
       "      <td>35.0</td>\n",
       "      <td>1</td>\n",
       "      <td>0</td>\n",
       "      <td>53.1000</td>\n",
       "      <td>S</td>\n",
       "    </tr>\n",
       "    <tr>\n",
       "      <th>4</th>\n",
       "      <td>0</td>\n",
       "      <td>3</td>\n",
       "      <td>0</td>\n",
       "      <td>35.0</td>\n",
       "      <td>0</td>\n",
       "      <td>0</td>\n",
       "      <td>8.0500</td>\n",
       "      <td>S</td>\n",
       "    </tr>\n",
       "  </tbody>\n",
       "</table>\n",
       "</div>"
      ],
      "text/plain": [
       "   Survived  Pclass  Sex   Age  SibSp  Parch     Fare Embarked\n",
       "0         0       3    0  22.0      1      0   7.2500        S\n",
       "1         1       1    1  38.0      1      0  71.2833        C\n",
       "2         1       3    1  26.0      0      0   7.9250        S\n",
       "3         1       1    1  35.0      1      0  53.1000        S\n",
       "4         0       3    0  35.0      0      0   8.0500        S"
      ]
     },
     "execution_count": 6,
     "metadata": {},
     "output_type": "execute_result"
    }
   ],
   "source": [
    "trainData['Sex'] = trainData['Sex'].map({'male':0, 'female':1}).astype(int)\n",
    "testData['Sex'] = testData['Sex'].map({'male':0, 'female':1}).astype(int)\n",
    "combine = [trainData, testData]\n",
    "\n",
    "trainData.head()"
   ]
  },
  {
   "cell_type": "code",
   "execution_count": 7,
   "id": "36d29d40",
   "metadata": {
    "execution": {
     "iopub.execute_input": "2022-09-20T01:02:48.893965Z",
     "iopub.status.busy": "2022-09-20T01:02:48.892501Z",
     "iopub.status.idle": "2022-09-20T01:02:48.902832Z",
     "shell.execute_reply": "2022-09-20T01:02:48.901650Z"
    },
    "papermill": {
     "duration": 0.024708,
     "end_time": "2022-09-20T01:02:48.906333",
     "exception": false,
     "start_time": "2022-09-20T01:02:48.881625",
     "status": "completed"
    },
    "tags": []
   },
   "outputs": [
    {
     "data": {
      "text/plain": [
       "0    S\n",
       "dtype: object"
      ]
     },
     "execution_count": 7,
     "metadata": {},
     "output_type": "execute_result"
    }
   ],
   "source": [
    "trainData.Embarked.mode()"
   ]
  },
  {
   "cell_type": "code",
   "execution_count": 8,
   "id": "0437db82",
   "metadata": {
    "execution": {
     "iopub.execute_input": "2022-09-20T01:02:48.928832Z",
     "iopub.status.busy": "2022-09-20T01:02:48.928079Z",
     "iopub.status.idle": "2022-09-20T01:02:48.949756Z",
     "shell.execute_reply": "2022-09-20T01:02:48.948647Z"
    },
    "papermill": {
     "duration": 0.035636,
     "end_time": "2022-09-20T01:02:48.953502",
     "exception": false,
     "start_time": "2022-09-20T01:02:48.917866",
     "status": "completed"
    },
    "tags": []
   },
   "outputs": [
    {
     "data": {
      "text/html": [
       "<div>\n",
       "<style scoped>\n",
       "    .dataframe tbody tr th:only-of-type {\n",
       "        vertical-align: middle;\n",
       "    }\n",
       "\n",
       "    .dataframe tbody tr th {\n",
       "        vertical-align: top;\n",
       "    }\n",
       "\n",
       "    .dataframe thead th {\n",
       "        text-align: right;\n",
       "    }\n",
       "</style>\n",
       "<table border=\"1\" class=\"dataframe\">\n",
       "  <thead>\n",
       "    <tr style=\"text-align: right;\">\n",
       "      <th></th>\n",
       "      <th>Survived</th>\n",
       "      <th>Pclass</th>\n",
       "      <th>Sex</th>\n",
       "      <th>Age</th>\n",
       "      <th>SibSp</th>\n",
       "      <th>Parch</th>\n",
       "      <th>Fare</th>\n",
       "      <th>Embarked</th>\n",
       "    </tr>\n",
       "  </thead>\n",
       "  <tbody>\n",
       "    <tr>\n",
       "      <th>0</th>\n",
       "      <td>0</td>\n",
       "      <td>3</td>\n",
       "      <td>0</td>\n",
       "      <td>22.0</td>\n",
       "      <td>1</td>\n",
       "      <td>0</td>\n",
       "      <td>7.2500</td>\n",
       "      <td>2</td>\n",
       "    </tr>\n",
       "    <tr>\n",
       "      <th>1</th>\n",
       "      <td>1</td>\n",
       "      <td>1</td>\n",
       "      <td>1</td>\n",
       "      <td>38.0</td>\n",
       "      <td>1</td>\n",
       "      <td>0</td>\n",
       "      <td>71.2833</td>\n",
       "      <td>0</td>\n",
       "    </tr>\n",
       "    <tr>\n",
       "      <th>2</th>\n",
       "      <td>1</td>\n",
       "      <td>3</td>\n",
       "      <td>1</td>\n",
       "      <td>26.0</td>\n",
       "      <td>0</td>\n",
       "      <td>0</td>\n",
       "      <td>7.9250</td>\n",
       "      <td>2</td>\n",
       "    </tr>\n",
       "    <tr>\n",
       "      <th>3</th>\n",
       "      <td>1</td>\n",
       "      <td>1</td>\n",
       "      <td>1</td>\n",
       "      <td>35.0</td>\n",
       "      <td>1</td>\n",
       "      <td>0</td>\n",
       "      <td>53.1000</td>\n",
       "      <td>2</td>\n",
       "    </tr>\n",
       "    <tr>\n",
       "      <th>4</th>\n",
       "      <td>0</td>\n",
       "      <td>3</td>\n",
       "      <td>0</td>\n",
       "      <td>35.0</td>\n",
       "      <td>0</td>\n",
       "      <td>0</td>\n",
       "      <td>8.0500</td>\n",
       "      <td>2</td>\n",
       "    </tr>\n",
       "  </tbody>\n",
       "</table>\n",
       "</div>"
      ],
      "text/plain": [
       "   Survived  Pclass  Sex   Age  SibSp  Parch     Fare  Embarked\n",
       "0         0       3    0  22.0      1      0   7.2500         2\n",
       "1         1       1    1  38.0      1      0  71.2833         0\n",
       "2         1       3    1  26.0      0      0   7.9250         2\n",
       "3         1       1    1  35.0      1      0  53.1000         2\n",
       "4         0       3    0  35.0      0      0   8.0500         2"
      ]
     },
     "execution_count": 8,
     "metadata": {},
     "output_type": "execute_result"
    }
   ],
   "source": [
    "trainData['Embarked'] = trainData['Embarked'].fillna('S')\n",
    "testData['Embarked'] = testData['Embarked'].fillna('S')\n",
    "\n",
    "\n",
    "trainData['Embarked'] = trainData['Embarked'].map({'C':0, 'Q':1, 'S':2}).astype(int)\n",
    "testData['Embarked'] = testData['Embarked'].map({'C':0, 'Q':1, 'S':2}).astype(int)\n",
    "combine = [trainData, testData]\n",
    "\n",
    "trainData.head()"
   ]
  },
  {
   "cell_type": "code",
   "execution_count": 9,
   "id": "ae5351ee",
   "metadata": {
    "execution": {
     "iopub.execute_input": "2022-09-20T01:02:48.975042Z",
     "iopub.status.busy": "2022-09-20T01:02:48.974623Z",
     "iopub.status.idle": "2022-09-20T01:02:48.991213Z",
     "shell.execute_reply": "2022-09-20T01:02:48.990108Z"
    },
    "papermill": {
     "duration": 0.028718,
     "end_time": "2022-09-20T01:02:48.993399",
     "exception": false,
     "start_time": "2022-09-20T01:02:48.964681",
     "status": "completed"
    },
    "tags": []
   },
   "outputs": [
    {
     "data": {
      "text/html": [
       "<div>\n",
       "<style scoped>\n",
       "    .dataframe tbody tr th:only-of-type {\n",
       "        vertical-align: middle;\n",
       "    }\n",
       "\n",
       "    .dataframe tbody tr th {\n",
       "        vertical-align: top;\n",
       "    }\n",
       "\n",
       "    .dataframe thead th {\n",
       "        text-align: right;\n",
       "    }\n",
       "</style>\n",
       "<table border=\"1\" class=\"dataframe\">\n",
       "  <thead>\n",
       "    <tr style=\"text-align: right;\">\n",
       "      <th></th>\n",
       "      <th>Survived</th>\n",
       "      <th>Pclass</th>\n",
       "      <th>Sex</th>\n",
       "      <th>Age</th>\n",
       "      <th>SibSp</th>\n",
       "      <th>Parch</th>\n",
       "      <th>Fare</th>\n",
       "      <th>Embarked</th>\n",
       "      <th>famSize</th>\n",
       "    </tr>\n",
       "  </thead>\n",
       "  <tbody>\n",
       "    <tr>\n",
       "      <th>0</th>\n",
       "      <td>0</td>\n",
       "      <td>3</td>\n",
       "      <td>0</td>\n",
       "      <td>22.0</td>\n",
       "      <td>1</td>\n",
       "      <td>0</td>\n",
       "      <td>7.2500</td>\n",
       "      <td>2</td>\n",
       "      <td>2</td>\n",
       "    </tr>\n",
       "    <tr>\n",
       "      <th>1</th>\n",
       "      <td>1</td>\n",
       "      <td>1</td>\n",
       "      <td>1</td>\n",
       "      <td>38.0</td>\n",
       "      <td>1</td>\n",
       "      <td>0</td>\n",
       "      <td>71.2833</td>\n",
       "      <td>0</td>\n",
       "      <td>2</td>\n",
       "    </tr>\n",
       "    <tr>\n",
       "      <th>2</th>\n",
       "      <td>1</td>\n",
       "      <td>3</td>\n",
       "      <td>1</td>\n",
       "      <td>26.0</td>\n",
       "      <td>0</td>\n",
       "      <td>0</td>\n",
       "      <td>7.9250</td>\n",
       "      <td>2</td>\n",
       "      <td>1</td>\n",
       "    </tr>\n",
       "    <tr>\n",
       "      <th>3</th>\n",
       "      <td>1</td>\n",
       "      <td>1</td>\n",
       "      <td>1</td>\n",
       "      <td>35.0</td>\n",
       "      <td>1</td>\n",
       "      <td>0</td>\n",
       "      <td>53.1000</td>\n",
       "      <td>2</td>\n",
       "      <td>2</td>\n",
       "    </tr>\n",
       "    <tr>\n",
       "      <th>4</th>\n",
       "      <td>0</td>\n",
       "      <td>3</td>\n",
       "      <td>0</td>\n",
       "      <td>35.0</td>\n",
       "      <td>0</td>\n",
       "      <td>0</td>\n",
       "      <td>8.0500</td>\n",
       "      <td>2</td>\n",
       "      <td>1</td>\n",
       "    </tr>\n",
       "  </tbody>\n",
       "</table>\n",
       "</div>"
      ],
      "text/plain": [
       "   Survived  Pclass  Sex   Age  SibSp  Parch     Fare  Embarked  famSize\n",
       "0         0       3    0  22.0      1      0   7.2500         2        2\n",
       "1         1       1    1  38.0      1      0  71.2833         0        2\n",
       "2         1       3    1  26.0      0      0   7.9250         2        1\n",
       "3         1       1    1  35.0      1      0  53.1000         2        2\n",
       "4         0       3    0  35.0      0      0   8.0500         2        1"
      ]
     },
     "execution_count": 9,
     "metadata": {},
     "output_type": "execute_result"
    }
   ],
   "source": [
    "trainData['famSize'] = trainData['SibSp'] + trainData['Parch'] + 1\n",
    "testData['famSize'] = testData['SibSp'] + testData['Parch'] + 1\n",
    "\n",
    "trainData.head()"
   ]
  },
  {
   "cell_type": "markdown",
   "id": "4267a689",
   "metadata": {
    "papermill": {
     "duration": 0.008135,
     "end_time": "2022-09-20T01:02:49.010247",
     "exception": false,
     "start_time": "2022-09-20T01:02:49.002112",
     "status": "completed"
    },
    "tags": []
   },
   "source": [
    "Using a KNNImputer to fill missing values of age from Fare and Sibsp features"
   ]
  },
  {
   "cell_type": "code",
   "execution_count": 10,
   "id": "3915a6b9",
   "metadata": {
    "execution": {
     "iopub.execute_input": "2022-09-20T01:02:49.029313Z",
     "iopub.status.busy": "2022-09-20T01:02:49.028507Z",
     "iopub.status.idle": "2022-09-20T01:02:49.073630Z",
     "shell.execute_reply": "2022-09-20T01:02:49.071963Z"
    },
    "papermill": {
     "duration": 0.059102,
     "end_time": "2022-09-20T01:02:49.077886",
     "exception": false,
     "start_time": "2022-09-20T01:02:49.018784",
     "status": "completed"
    },
    "tags": []
   },
   "outputs": [],
   "source": [
    "knnimputer = KNNImputer()\n",
    "\n",
    "impTrainData = knnimputer.fit_transform(trainData[['Fare','SibSp','Age']])\n",
    "impTestData = knnimputer.fit_transform(testData[['Fare','SibSp','Age']])\n",
    "\n",
    "trainData['Age'] = impTrainData[:,2]\n",
    "testData['Age'] = impTestData[:,2]"
   ]
  },
  {
   "cell_type": "markdown",
   "id": "550866bf",
   "metadata": {
    "papermill": {
     "duration": 0.021302,
     "end_time": "2022-09-20T01:02:49.121056",
     "exception": false,
     "start_time": "2022-09-20T01:02:49.099754",
     "status": "completed"
    },
    "tags": []
   },
   "source": [
    "Normalizing the Fare feature"
   ]
  },
  {
   "cell_type": "code",
   "execution_count": 11,
   "id": "f64fc47e",
   "metadata": {
    "execution": {
     "iopub.execute_input": "2022-09-20T01:02:49.167590Z",
     "iopub.status.busy": "2022-09-20T01:02:49.166924Z",
     "iopub.status.idle": "2022-09-20T01:02:49.207873Z",
     "shell.execute_reply": "2022-09-20T01:02:49.206765Z"
    },
    "papermill": {
     "duration": 0.06729,
     "end_time": "2022-09-20T01:02:49.210334",
     "exception": false,
     "start_time": "2022-09-20T01:02:49.143044",
     "status": "completed"
    },
    "tags": []
   },
   "outputs": [
    {
     "data": {
      "text/html": [
       "<div>\n",
       "<style scoped>\n",
       "    .dataframe tbody tr th:only-of-type {\n",
       "        vertical-align: middle;\n",
       "    }\n",
       "\n",
       "    .dataframe tbody tr th {\n",
       "        vertical-align: top;\n",
       "    }\n",
       "\n",
       "    .dataframe thead th {\n",
       "        text-align: right;\n",
       "    }\n",
       "</style>\n",
       "<table border=\"1\" class=\"dataframe\">\n",
       "  <thead>\n",
       "    <tr style=\"text-align: right;\">\n",
       "      <th></th>\n",
       "      <th>Survived</th>\n",
       "      <th>Pclass</th>\n",
       "      <th>Sex</th>\n",
       "      <th>Age</th>\n",
       "      <th>SibSp</th>\n",
       "      <th>Parch</th>\n",
       "      <th>Fare</th>\n",
       "      <th>Embarked</th>\n",
       "      <th>famSize</th>\n",
       "    </tr>\n",
       "  </thead>\n",
       "  <tbody>\n",
       "    <tr>\n",
       "      <th>count</th>\n",
       "      <td>891.000000</td>\n",
       "      <td>891.000000</td>\n",
       "      <td>891.000000</td>\n",
       "      <td>891.000000</td>\n",
       "      <td>891.000000</td>\n",
       "      <td>891.000000</td>\n",
       "      <td>891.000000</td>\n",
       "      <td>891.000000</td>\n",
       "      <td>891.000000</td>\n",
       "    </tr>\n",
       "    <tr>\n",
       "      <th>mean</th>\n",
       "      <td>0.383838</td>\n",
       "      <td>2.308642</td>\n",
       "      <td>0.352413</td>\n",
       "      <td>30.122678</td>\n",
       "      <td>0.523008</td>\n",
       "      <td>0.381594</td>\n",
       "      <td>0.062858</td>\n",
       "      <td>1.536476</td>\n",
       "      <td>1.904602</td>\n",
       "    </tr>\n",
       "    <tr>\n",
       "      <th>std</th>\n",
       "      <td>0.486592</td>\n",
       "      <td>0.836071</td>\n",
       "      <td>0.477990</td>\n",
       "      <td>13.410387</td>\n",
       "      <td>1.102743</td>\n",
       "      <td>0.806057</td>\n",
       "      <td>0.096995</td>\n",
       "      <td>0.791503</td>\n",
       "      <td>1.613459</td>\n",
       "    </tr>\n",
       "    <tr>\n",
       "      <th>min</th>\n",
       "      <td>0.000000</td>\n",
       "      <td>1.000000</td>\n",
       "      <td>0.000000</td>\n",
       "      <td>0.420000</td>\n",
       "      <td>0.000000</td>\n",
       "      <td>0.000000</td>\n",
       "      <td>0.000000</td>\n",
       "      <td>0.000000</td>\n",
       "      <td>1.000000</td>\n",
       "    </tr>\n",
       "    <tr>\n",
       "      <th>25%</th>\n",
       "      <td>0.000000</td>\n",
       "      <td>2.000000</td>\n",
       "      <td>0.000000</td>\n",
       "      <td>22.000000</td>\n",
       "      <td>0.000000</td>\n",
       "      <td>0.000000</td>\n",
       "      <td>0.015440</td>\n",
       "      <td>1.000000</td>\n",
       "      <td>1.000000</td>\n",
       "    </tr>\n",
       "    <tr>\n",
       "      <th>50%</th>\n",
       "      <td>0.000000</td>\n",
       "      <td>3.000000</td>\n",
       "      <td>0.000000</td>\n",
       "      <td>29.000000</td>\n",
       "      <td>0.000000</td>\n",
       "      <td>0.000000</td>\n",
       "      <td>0.028213</td>\n",
       "      <td>2.000000</td>\n",
       "      <td>1.000000</td>\n",
       "    </tr>\n",
       "    <tr>\n",
       "      <th>75%</th>\n",
       "      <td>1.000000</td>\n",
       "      <td>3.000000</td>\n",
       "      <td>1.000000</td>\n",
       "      <td>38.000000</td>\n",
       "      <td>1.000000</td>\n",
       "      <td>0.000000</td>\n",
       "      <td>0.060508</td>\n",
       "      <td>2.000000</td>\n",
       "      <td>2.000000</td>\n",
       "    </tr>\n",
       "    <tr>\n",
       "      <th>max</th>\n",
       "      <td>1.000000</td>\n",
       "      <td>3.000000</td>\n",
       "      <td>1.000000</td>\n",
       "      <td>80.000000</td>\n",
       "      <td>8.000000</td>\n",
       "      <td>6.000000</td>\n",
       "      <td>1.000000</td>\n",
       "      <td>2.000000</td>\n",
       "      <td>11.000000</td>\n",
       "    </tr>\n",
       "  </tbody>\n",
       "</table>\n",
       "</div>"
      ],
      "text/plain": [
       "         Survived      Pclass         Sex         Age       SibSp       Parch  \\\n",
       "count  891.000000  891.000000  891.000000  891.000000  891.000000  891.000000   \n",
       "mean     0.383838    2.308642    0.352413   30.122678    0.523008    0.381594   \n",
       "std      0.486592    0.836071    0.477990   13.410387    1.102743    0.806057   \n",
       "min      0.000000    1.000000    0.000000    0.420000    0.000000    0.000000   \n",
       "25%      0.000000    2.000000    0.000000   22.000000    0.000000    0.000000   \n",
       "50%      0.000000    3.000000    0.000000   29.000000    0.000000    0.000000   \n",
       "75%      1.000000    3.000000    1.000000   38.000000    1.000000    0.000000   \n",
       "max      1.000000    3.000000    1.000000   80.000000    8.000000    6.000000   \n",
       "\n",
       "             Fare    Embarked     famSize  \n",
       "count  891.000000  891.000000  891.000000  \n",
       "mean     0.062858    1.536476    1.904602  \n",
       "std      0.096995    0.791503    1.613459  \n",
       "min      0.000000    0.000000    1.000000  \n",
       "25%      0.015440    1.000000    1.000000  \n",
       "50%      0.028213    2.000000    1.000000  \n",
       "75%      0.060508    2.000000    2.000000  \n",
       "max      1.000000    2.000000   11.000000  "
      ]
     },
     "execution_count": 11,
     "metadata": {},
     "output_type": "execute_result"
    }
   ],
   "source": [
    "testData['Fare'].fillna(value=testData.Fare.mean(),inplace=True)\n",
    "trainData['Fare'] = trainData['Fare']/trainData['Fare'].abs().max()\n",
    "testData['Fare'] = testData['Fare']/testData['Fare'].abs().max()\n",
    "trainData.describe()"
   ]
  },
  {
   "cell_type": "code",
   "execution_count": 12,
   "id": "885231fb",
   "metadata": {
    "execution": {
     "iopub.execute_input": "2022-09-20T01:02:49.230198Z",
     "iopub.status.busy": "2022-09-20T01:02:49.229819Z",
     "iopub.status.idle": "2022-09-20T01:02:49.270637Z",
     "shell.execute_reply": "2022-09-20T01:02:49.269584Z"
    },
    "papermill": {
     "duration": 0.05377,
     "end_time": "2022-09-20T01:02:49.273429",
     "exception": false,
     "start_time": "2022-09-20T01:02:49.219659",
     "status": "completed"
    },
    "tags": []
   },
   "outputs": [
    {
     "data": {
      "text/html": [
       "<div>\n",
       "<style scoped>\n",
       "    .dataframe tbody tr th:only-of-type {\n",
       "        vertical-align: middle;\n",
       "    }\n",
       "\n",
       "    .dataframe tbody tr th {\n",
       "        vertical-align: top;\n",
       "    }\n",
       "\n",
       "    .dataframe thead th {\n",
       "        text-align: right;\n",
       "    }\n",
       "</style>\n",
       "<table border=\"1\" class=\"dataframe\">\n",
       "  <thead>\n",
       "    <tr style=\"text-align: right;\">\n",
       "      <th></th>\n",
       "      <th>Survived</th>\n",
       "      <th>Pclass</th>\n",
       "      <th>Sex</th>\n",
       "      <th>Age</th>\n",
       "      <th>SibSp</th>\n",
       "      <th>Parch</th>\n",
       "      <th>Fare</th>\n",
       "      <th>Embarked</th>\n",
       "      <th>famSize</th>\n",
       "    </tr>\n",
       "  </thead>\n",
       "  <tbody>\n",
       "    <tr>\n",
       "      <th>count</th>\n",
       "      <td>891.000000</td>\n",
       "      <td>891.000000</td>\n",
       "      <td>891.000000</td>\n",
       "      <td>891.000000</td>\n",
       "      <td>891.000000</td>\n",
       "      <td>891.000000</td>\n",
       "      <td>891.000000</td>\n",
       "      <td>891.000000</td>\n",
       "      <td>891.000000</td>\n",
       "    </tr>\n",
       "    <tr>\n",
       "      <th>mean</th>\n",
       "      <td>0.383838</td>\n",
       "      <td>2.308642</td>\n",
       "      <td>0.352413</td>\n",
       "      <td>0.376533</td>\n",
       "      <td>0.523008</td>\n",
       "      <td>0.381594</td>\n",
       "      <td>0.062858</td>\n",
       "      <td>1.536476</td>\n",
       "      <td>1.904602</td>\n",
       "    </tr>\n",
       "    <tr>\n",
       "      <th>std</th>\n",
       "      <td>0.486592</td>\n",
       "      <td>0.836071</td>\n",
       "      <td>0.477990</td>\n",
       "      <td>0.167630</td>\n",
       "      <td>1.102743</td>\n",
       "      <td>0.806057</td>\n",
       "      <td>0.096995</td>\n",
       "      <td>0.791503</td>\n",
       "      <td>1.613459</td>\n",
       "    </tr>\n",
       "    <tr>\n",
       "      <th>min</th>\n",
       "      <td>0.000000</td>\n",
       "      <td>1.000000</td>\n",
       "      <td>0.000000</td>\n",
       "      <td>0.005250</td>\n",
       "      <td>0.000000</td>\n",
       "      <td>0.000000</td>\n",
       "      <td>0.000000</td>\n",
       "      <td>0.000000</td>\n",
       "      <td>1.000000</td>\n",
       "    </tr>\n",
       "    <tr>\n",
       "      <th>25%</th>\n",
       "      <td>0.000000</td>\n",
       "      <td>2.000000</td>\n",
       "      <td>0.000000</td>\n",
       "      <td>0.275000</td>\n",
       "      <td>0.000000</td>\n",
       "      <td>0.000000</td>\n",
       "      <td>0.015440</td>\n",
       "      <td>1.000000</td>\n",
       "      <td>1.000000</td>\n",
       "    </tr>\n",
       "    <tr>\n",
       "      <th>50%</th>\n",
       "      <td>0.000000</td>\n",
       "      <td>3.000000</td>\n",
       "      <td>0.000000</td>\n",
       "      <td>0.362500</td>\n",
       "      <td>0.000000</td>\n",
       "      <td>0.000000</td>\n",
       "      <td>0.028213</td>\n",
       "      <td>2.000000</td>\n",
       "      <td>1.000000</td>\n",
       "    </tr>\n",
       "    <tr>\n",
       "      <th>75%</th>\n",
       "      <td>1.000000</td>\n",
       "      <td>3.000000</td>\n",
       "      <td>1.000000</td>\n",
       "      <td>0.475000</td>\n",
       "      <td>1.000000</td>\n",
       "      <td>0.000000</td>\n",
       "      <td>0.060508</td>\n",
       "      <td>2.000000</td>\n",
       "      <td>2.000000</td>\n",
       "    </tr>\n",
       "    <tr>\n",
       "      <th>max</th>\n",
       "      <td>1.000000</td>\n",
       "      <td>3.000000</td>\n",
       "      <td>1.000000</td>\n",
       "      <td>1.000000</td>\n",
       "      <td>8.000000</td>\n",
       "      <td>6.000000</td>\n",
       "      <td>1.000000</td>\n",
       "      <td>2.000000</td>\n",
       "      <td>11.000000</td>\n",
       "    </tr>\n",
       "  </tbody>\n",
       "</table>\n",
       "</div>"
      ],
      "text/plain": [
       "         Survived      Pclass         Sex         Age       SibSp       Parch  \\\n",
       "count  891.000000  891.000000  891.000000  891.000000  891.000000  891.000000   \n",
       "mean     0.383838    2.308642    0.352413    0.376533    0.523008    0.381594   \n",
       "std      0.486592    0.836071    0.477990    0.167630    1.102743    0.806057   \n",
       "min      0.000000    1.000000    0.000000    0.005250    0.000000    0.000000   \n",
       "25%      0.000000    2.000000    0.000000    0.275000    0.000000    0.000000   \n",
       "50%      0.000000    3.000000    0.000000    0.362500    0.000000    0.000000   \n",
       "75%      1.000000    3.000000    1.000000    0.475000    1.000000    0.000000   \n",
       "max      1.000000    3.000000    1.000000    1.000000    8.000000    6.000000   \n",
       "\n",
       "             Fare    Embarked     famSize  \n",
       "count  891.000000  891.000000  891.000000  \n",
       "mean     0.062858    1.536476    1.904602  \n",
       "std      0.096995    0.791503    1.613459  \n",
       "min      0.000000    0.000000    1.000000  \n",
       "25%      0.015440    1.000000    1.000000  \n",
       "50%      0.028213    2.000000    1.000000  \n",
       "75%      0.060508    2.000000    2.000000  \n",
       "max      1.000000    2.000000   11.000000  "
      ]
     },
     "execution_count": 12,
     "metadata": {},
     "output_type": "execute_result"
    }
   ],
   "source": [
    "testData['Age'].fillna(value=testData.Age.mean(),inplace=True)\n",
    "trainData['Age'] = trainData['Age']/trainData['Age'].abs().max()\n",
    "testData['Age'] = testData['Age']/testData['Age'].abs().max()\n",
    "trainData.describe()"
   ]
  },
  {
   "cell_type": "code",
   "execution_count": 13,
   "id": "5c020a31",
   "metadata": {
    "execution": {
     "iopub.execute_input": "2022-09-20T01:02:49.293155Z",
     "iopub.status.busy": "2022-09-20T01:02:49.292776Z",
     "iopub.status.idle": "2022-09-20T01:02:49.310126Z",
     "shell.execute_reply": "2022-09-20T01:02:49.309051Z"
    },
    "papermill": {
     "duration": 0.029968,
     "end_time": "2022-09-20T01:02:49.312519",
     "exception": false,
     "start_time": "2022-09-20T01:02:49.282551",
     "status": "completed"
    },
    "tags": []
   },
   "outputs": [
    {
     "data": {
      "text/html": [
       "<div>\n",
       "<style scoped>\n",
       "    .dataframe tbody tr th:only-of-type {\n",
       "        vertical-align: middle;\n",
       "    }\n",
       "\n",
       "    .dataframe tbody tr th {\n",
       "        vertical-align: top;\n",
       "    }\n",
       "\n",
       "    .dataframe thead th {\n",
       "        text-align: right;\n",
       "    }\n",
       "</style>\n",
       "<table border=\"1\" class=\"dataframe\">\n",
       "  <thead>\n",
       "    <tr style=\"text-align: right;\">\n",
       "      <th></th>\n",
       "      <th>famSize</th>\n",
       "      <th>Survived</th>\n",
       "    </tr>\n",
       "  </thead>\n",
       "  <tbody>\n",
       "    <tr>\n",
       "      <th>8</th>\n",
       "      <td>11</td>\n",
       "      <td>0.000000</td>\n",
       "    </tr>\n",
       "    <tr>\n",
       "      <th>7</th>\n",
       "      <td>8</td>\n",
       "      <td>0.000000</td>\n",
       "    </tr>\n",
       "    <tr>\n",
       "      <th>6</th>\n",
       "      <td>7</td>\n",
       "      <td>0.333333</td>\n",
       "    </tr>\n",
       "    <tr>\n",
       "      <th>5</th>\n",
       "      <td>6</td>\n",
       "      <td>0.136364</td>\n",
       "    </tr>\n",
       "    <tr>\n",
       "      <th>4</th>\n",
       "      <td>5</td>\n",
       "      <td>0.200000</td>\n",
       "    </tr>\n",
       "    <tr>\n",
       "      <th>3</th>\n",
       "      <td>4</td>\n",
       "      <td>0.724138</td>\n",
       "    </tr>\n",
       "    <tr>\n",
       "      <th>2</th>\n",
       "      <td>3</td>\n",
       "      <td>0.578431</td>\n",
       "    </tr>\n",
       "    <tr>\n",
       "      <th>1</th>\n",
       "      <td>2</td>\n",
       "      <td>0.552795</td>\n",
       "    </tr>\n",
       "    <tr>\n",
       "      <th>0</th>\n",
       "      <td>1</td>\n",
       "      <td>0.303538</td>\n",
       "    </tr>\n",
       "  </tbody>\n",
       "</table>\n",
       "</div>"
      ],
      "text/plain": [
       "   famSize  Survived\n",
       "8       11  0.000000\n",
       "7        8  0.000000\n",
       "6        7  0.333333\n",
       "5        6  0.136364\n",
       "4        5  0.200000\n",
       "3        4  0.724138\n",
       "2        3  0.578431\n",
       "1        2  0.552795\n",
       "0        1  0.303538"
      ]
     },
     "execution_count": 13,
     "metadata": {},
     "output_type": "execute_result"
    }
   ],
   "source": [
    "trainData[['famSize', 'Survived']].groupby(['famSize'], as_index=False).mean().sort_values(by='famSize', ascending=False)"
   ]
  },
  {
   "cell_type": "code",
   "execution_count": 14,
   "id": "60be1624",
   "metadata": {
    "execution": {
     "iopub.execute_input": "2022-09-20T01:02:49.333115Z",
     "iopub.status.busy": "2022-09-20T01:02:49.332728Z",
     "iopub.status.idle": "2022-09-20T01:02:49.353724Z",
     "shell.execute_reply": "2022-09-20T01:02:49.352649Z"
    },
    "papermill": {
     "duration": 0.034188,
     "end_time": "2022-09-20T01:02:49.356149",
     "exception": false,
     "start_time": "2022-09-20T01:02:49.321961",
     "status": "completed"
    },
    "tags": []
   },
   "outputs": [
    {
     "data": {
      "text/html": [
       "<div>\n",
       "<style scoped>\n",
       "    .dataframe tbody tr th:only-of-type {\n",
       "        vertical-align: middle;\n",
       "    }\n",
       "\n",
       "    .dataframe tbody tr th {\n",
       "        vertical-align: top;\n",
       "    }\n",
       "\n",
       "    .dataframe thead th {\n",
       "        text-align: right;\n",
       "    }\n",
       "</style>\n",
       "<table border=\"1\" class=\"dataframe\">\n",
       "  <thead>\n",
       "    <tr style=\"text-align: right;\">\n",
       "      <th></th>\n",
       "      <th>Survived</th>\n",
       "      <th>Pclass</th>\n",
       "      <th>Sex</th>\n",
       "      <th>Age</th>\n",
       "      <th>SibSp</th>\n",
       "      <th>Parch</th>\n",
       "      <th>Fare</th>\n",
       "      <th>Embarked</th>\n",
       "      <th>famSize</th>\n",
       "    </tr>\n",
       "  </thead>\n",
       "  <tbody>\n",
       "    <tr>\n",
       "      <th>0</th>\n",
       "      <td>0</td>\n",
       "      <td>3</td>\n",
       "      <td>0</td>\n",
       "      <td>0.2750</td>\n",
       "      <td>1</td>\n",
       "      <td>0</td>\n",
       "      <td>0.014151</td>\n",
       "      <td>2</td>\n",
       "      <td>1</td>\n",
       "    </tr>\n",
       "    <tr>\n",
       "      <th>1</th>\n",
       "      <td>1</td>\n",
       "      <td>1</td>\n",
       "      <td>1</td>\n",
       "      <td>0.4750</td>\n",
       "      <td>1</td>\n",
       "      <td>0</td>\n",
       "      <td>0.139136</td>\n",
       "      <td>0</td>\n",
       "      <td>1</td>\n",
       "    </tr>\n",
       "    <tr>\n",
       "      <th>2</th>\n",
       "      <td>1</td>\n",
       "      <td>3</td>\n",
       "      <td>1</td>\n",
       "      <td>0.3250</td>\n",
       "      <td>0</td>\n",
       "      <td>0</td>\n",
       "      <td>0.015469</td>\n",
       "      <td>2</td>\n",
       "      <td>0</td>\n",
       "    </tr>\n",
       "    <tr>\n",
       "      <th>3</th>\n",
       "      <td>1</td>\n",
       "      <td>1</td>\n",
       "      <td>1</td>\n",
       "      <td>0.4375</td>\n",
       "      <td>1</td>\n",
       "      <td>0</td>\n",
       "      <td>0.103644</td>\n",
       "      <td>2</td>\n",
       "      <td>1</td>\n",
       "    </tr>\n",
       "    <tr>\n",
       "      <th>4</th>\n",
       "      <td>0</td>\n",
       "      <td>3</td>\n",
       "      <td>0</td>\n",
       "      <td>0.4375</td>\n",
       "      <td>0</td>\n",
       "      <td>0</td>\n",
       "      <td>0.015713</td>\n",
       "      <td>2</td>\n",
       "      <td>0</td>\n",
       "    </tr>\n",
       "  </tbody>\n",
       "</table>\n",
       "</div>"
      ],
      "text/plain": [
       "   Survived  Pclass  Sex     Age  SibSp  Parch      Fare  Embarked  famSize\n",
       "0         0       3    0  0.2750      1      0  0.014151         2        1\n",
       "1         1       1    1  0.4750      1      0  0.139136         0        1\n",
       "2         1       3    1  0.3250      0      0  0.015469         2        0\n",
       "3         1       1    1  0.4375      1      0  0.103644         2        1\n",
       "4         0       3    0  0.4375      0      0  0.015713         2        0"
      ]
     },
     "execution_count": 14,
     "metadata": {},
     "output_type": "execute_result"
    }
   ],
   "source": [
    "combine = [trainData,testData]\n",
    "for dataset in combine:\n",
    "    dataset.loc[ dataset['famSize'] <= 1, 'famSize'] = 0\n",
    "    dataset.loc[(dataset['famSize'] > 1) & (dataset['famSize'] <= 4), 'famSize'] = 1\n",
    "    dataset.loc[(dataset['famSize'] > 4), 'famSize']   = 2\n",
    "    dataset['famSize'] = dataset['famSize'].astype(int)\n",
    "\n",
    "combine = [trainData, testData]\n",
    "\n",
    "trainData.head()"
   ]
  },
  {
   "cell_type": "code",
   "execution_count": 15,
   "id": "f15d2e81",
   "metadata": {
    "execution": {
     "iopub.execute_input": "2022-09-20T01:02:49.377445Z",
     "iopub.status.busy": "2022-09-20T01:02:49.377032Z",
     "iopub.status.idle": "2022-09-20T01:02:49.386916Z",
     "shell.execute_reply": "2022-09-20T01:02:49.385746Z"
    },
    "papermill": {
     "duration": 0.023348,
     "end_time": "2022-09-20T01:02:49.389154",
     "exception": false,
     "start_time": "2022-09-20T01:02:49.365806",
     "status": "completed"
    },
    "tags": []
   },
   "outputs": [
    {
     "data": {
      "text/plain": [
       "((891, 8), (891,), (418, 8))"
      ]
     },
     "execution_count": 15,
     "metadata": {},
     "output_type": "execute_result"
    }
   ],
   "source": [
    "X_train = trainData.drop(\"Survived\", axis=1)\n",
    "Y_train = trainData[\"Survived\"]\n",
    "X_test  = testData.drop(\"PassengerId\", axis=1).copy()\n",
    "X_train.shape, Y_train.shape, X_test.shape"
   ]
  },
  {
   "cell_type": "code",
   "execution_count": 16,
   "id": "c9030379",
   "metadata": {
    "execution": {
     "iopub.execute_input": "2022-09-20T01:02:49.409607Z",
     "iopub.status.busy": "2022-09-20T01:02:49.409211Z",
     "iopub.status.idle": "2022-09-20T01:02:49.480903Z",
     "shell.execute_reply": "2022-09-20T01:02:49.479695Z"
    },
    "papermill": {
     "duration": 0.084654,
     "end_time": "2022-09-20T01:02:49.483140",
     "exception": false,
     "start_time": "2022-09-20T01:02:49.398486",
     "status": "completed"
    },
    "tags": []
   },
   "outputs": [
    {
     "data": {
      "text/plain": [
       "80.92"
      ]
     },
     "execution_count": 16,
     "metadata": {},
     "output_type": "execute_result"
    }
   ],
   "source": [
    "# Support Vector Machines\n",
    "\n",
    "svc = SVC()\n",
    "svc.fit(X_train, Y_train)\n",
    "Y_pred = svc.predict(X_test)\n",
    "acc_svc = round(svc.score(X_train, Y_train) * 100, 2)\n",
    "acc_svc\n"
   ]
  },
  {
   "cell_type": "markdown",
   "id": "2619be3e",
   "metadata": {
    "papermill": {
     "duration": 0.009127,
     "end_time": "2022-09-20T01:02:49.501827",
     "exception": false,
     "start_time": "2022-09-20T01:02:49.492700",
     "status": "completed"
    },
    "tags": []
   },
   "source": [
    "This cell finds the best number of neighbors to use for our model"
   ]
  },
  {
   "cell_type": "code",
   "execution_count": 17,
   "id": "16852308",
   "metadata": {
    "execution": {
     "iopub.execute_input": "2022-09-20T01:02:49.522726Z",
     "iopub.status.busy": "2022-09-20T01:02:49.521878Z",
     "iopub.status.idle": "2022-09-20T01:02:52.690926Z",
     "shell.execute_reply": "2022-09-20T01:02:52.689814Z"
    },
    "papermill": {
     "duration": 3.18296,
     "end_time": "2022-09-20T01:02:52.694144",
     "exception": false,
     "start_time": "2022-09-20T01:02:49.511184",
     "status": "completed"
    },
    "tags": []
   },
   "outputs": [
    {
     "data": {
      "text/plain": [
       "{'n_neighbors': 14}"
      ]
     },
     "execution_count": 17,
     "metadata": {},
     "output_type": "execute_result"
    }
   ],
   "source": [
    "parameters = {\"n_neighbors\": range(1, 50)}\n",
    "gridsearch = GridSearchCV(KNeighborsClassifier(), parameters)\n",
    "gridsearch.fit(X_train, Y_train)\n",
    "\n",
    "gridsearch.best_params_"
   ]
  },
  {
   "cell_type": "code",
   "execution_count": 18,
   "id": "54adc42d",
   "metadata": {
    "execution": {
     "iopub.execute_input": "2022-09-20T01:02:52.721946Z",
     "iopub.status.busy": "2022-09-20T01:02:52.721103Z",
     "iopub.status.idle": "2022-09-20T01:02:52.819310Z",
     "shell.execute_reply": "2022-09-20T01:02:52.818059Z"
    },
    "papermill": {
     "duration": 0.112691,
     "end_time": "2022-09-20T01:02:52.821840",
     "exception": false,
     "start_time": "2022-09-20T01:02:52.709149",
     "status": "completed"
    },
    "tags": []
   },
   "outputs": [
    {
     "data": {
      "text/plain": [
       "0.8170594837261503"
      ]
     },
     "execution_count": 18,
     "metadata": {},
     "output_type": "execute_result"
    }
   ],
   "source": [
    "knn = KNeighborsClassifier(n_neighbors = 14)\n",
    "knn.fit(X_train, Y_train)\n",
    "Y_pred = knn.predict(X_test)\n",
    "acc_knn = round(knn.score(X_train, Y_train) * 100, 2)\n",
    "knn.score(X_train, Y_train)"
   ]
  },
  {
   "cell_type": "code",
   "execution_count": 19,
   "id": "a2e77fe7",
   "metadata": {
    "execution": {
     "iopub.execute_input": "2022-09-20T01:02:52.843744Z",
     "iopub.status.busy": "2022-09-20T01:02:52.842893Z",
     "iopub.status.idle": "2022-09-20T01:02:52.859907Z",
     "shell.execute_reply": "2022-09-20T01:02:52.858674Z"
    },
    "papermill": {
     "duration": 0.030399,
     "end_time": "2022-09-20T01:02:52.862170",
     "exception": false,
     "start_time": "2022-09-20T01:02:52.831771",
     "status": "completed"
    },
    "tags": []
   },
   "outputs": [
    {
     "data": {
      "text/plain": [
       "98.2"
      ]
     },
     "execution_count": 19,
     "metadata": {},
     "output_type": "execute_result"
    }
   ],
   "source": [
    "# Decision Tree\n",
    "\n",
    "decision_tree = DecisionTreeClassifier()\n",
    "decision_tree.fit(X_train, Y_train)\n",
    "Y_pred = decision_tree.predict(X_test)\n",
    "acc_decision_tree = round(decision_tree.score(X_train, Y_train) * 100, 2)\n",
    "acc_decision_tree"
   ]
  },
  {
   "cell_type": "code",
   "execution_count": 20,
   "id": "8b56e464",
   "metadata": {
    "execution": {
     "iopub.execute_input": "2022-09-20T01:02:52.884218Z",
     "iopub.status.busy": "2022-09-20T01:02:52.883417Z",
     "iopub.status.idle": "2022-09-20T01:02:52.888093Z",
     "shell.execute_reply": "2022-09-20T01:02:52.887096Z"
    },
    "papermill": {
     "duration": 0.017888,
     "end_time": "2022-09-20T01:02:52.890138",
     "exception": false,
     "start_time": "2022-09-20T01:02:52.872250",
     "status": "completed"
    },
    "tags": []
   },
   "outputs": [],
   "source": [
    "#parameters = {\"n_estimators\":[1000,2500, 5000] ,\"max_depth\": [3,5,7,8,10], \"min_samples_split\": [5,8,10]}\n",
    "#gridsearch = GridSearchCV(RandomForestClassifier(), parameters)\n",
    "#gridsearch.fit(X_train, Y_train)\n",
    "\n",
    "#gridsearch.best_params_\n",
    "#{'max_depth': 10, 'min_samples_split': 5, 'n_estimators': 1000}"
   ]
  },
  {
   "cell_type": "code",
   "execution_count": 21,
   "id": "cd846029",
   "metadata": {
    "execution": {
     "iopub.execute_input": "2022-09-20T01:02:52.912806Z",
     "iopub.status.busy": "2022-09-20T01:02:52.911888Z",
     "iopub.status.idle": "2022-09-20T01:03:04.262807Z",
     "shell.execute_reply": "2022-09-20T01:03:04.261386Z"
    },
    "papermill": {
     "duration": 11.36492,
     "end_time": "2022-09-20T01:03:04.265253",
     "exception": false,
     "start_time": "2022-09-20T01:02:52.900333",
     "status": "completed"
    },
    "tags": []
   },
   "outputs": [
    {
     "data": {
      "text/plain": [
       "85.41"
      ]
     },
     "execution_count": 21,
     "metadata": {},
     "output_type": "execute_result"
    }
   ],
   "source": [
    "# Random Forest\n",
    "\n",
    "random_forest = RandomForestClassifier(n_estimators=5000, min_samples_split = 10, max_depth=5)\n",
    "random_forest.fit(X_train, Y_train)\n",
    "Y_pred = random_forest.predict(X_test)\n",
    "random_forest.score(X_train, Y_train)\n",
    "acc_random_forest = round(random_forest.score(X_train, Y_train) * 100, 2)\n",
    "acc_random_forest"
   ]
  },
  {
   "cell_type": "code",
   "execution_count": 22,
   "id": "1e15a6f5",
   "metadata": {
    "execution": {
     "iopub.execute_input": "2022-09-20T01:03:04.287061Z",
     "iopub.status.busy": "2022-09-20T01:03:04.286638Z",
     "iopub.status.idle": "2022-09-20T01:03:04.636437Z",
     "shell.execute_reply": "2022-09-20T01:03:04.635548Z"
    },
    "papermill": {
     "duration": 0.363918,
     "end_time": "2022-09-20T01:03:04.639176",
     "exception": false,
     "start_time": "2022-09-20T01:03:04.275258",
     "status": "completed"
    },
    "tags": []
   },
   "outputs": [
    {
     "data": {
      "text/plain": [
       "94.84"
      ]
     },
     "execution_count": 22,
     "metadata": {},
     "output_type": "execute_result"
    }
   ],
   "source": [
    "gbm = xgb.XGBClassifier(learning_rate = .15, max_depth=7,subsample = .7)\n",
    "gbm.fit(X_train, Y_train)\n",
    "gmbScore = round(gbm.score(X_train, Y_train) *100, 2)\n",
    "gmbScore"
   ]
  },
  {
   "cell_type": "code",
   "execution_count": 23,
   "id": "a5bf8a98",
   "metadata": {
    "execution": {
     "iopub.execute_input": "2022-09-20T01:03:04.662192Z",
     "iopub.status.busy": "2022-09-20T01:03:04.661816Z",
     "iopub.status.idle": "2022-09-20T01:03:04.674171Z",
     "shell.execute_reply": "2022-09-20T01:03:04.673002Z"
    },
    "papermill": {
     "duration": 0.026318,
     "end_time": "2022-09-20T01:03:04.676763",
     "exception": false,
     "start_time": "2022-09-20T01:03:04.650445",
     "status": "completed"
    },
    "tags": []
   },
   "outputs": [
    {
     "data": {
      "text/html": [
       "<div>\n",
       "<style scoped>\n",
       "    .dataframe tbody tr th:only-of-type {\n",
       "        vertical-align: middle;\n",
       "    }\n",
       "\n",
       "    .dataframe tbody tr th {\n",
       "        vertical-align: top;\n",
       "    }\n",
       "\n",
       "    .dataframe thead th {\n",
       "        text-align: right;\n",
       "    }\n",
       "</style>\n",
       "<table border=\"1\" class=\"dataframe\">\n",
       "  <thead>\n",
       "    <tr style=\"text-align: right;\">\n",
       "      <th></th>\n",
       "      <th>Model</th>\n",
       "      <th>Score</th>\n",
       "    </tr>\n",
       "  </thead>\n",
       "  <tbody>\n",
       "    <tr>\n",
       "      <th>2</th>\n",
       "      <td>Decision Tree</td>\n",
       "      <td>98.20</td>\n",
       "    </tr>\n",
       "    <tr>\n",
       "      <th>3</th>\n",
       "      <td>XGB</td>\n",
       "      <td>94.84</td>\n",
       "    </tr>\n",
       "    <tr>\n",
       "      <th>1</th>\n",
       "      <td>Random Forest</td>\n",
       "      <td>85.41</td>\n",
       "    </tr>\n",
       "    <tr>\n",
       "      <th>0</th>\n",
       "      <td>KNN</td>\n",
       "      <td>81.71</td>\n",
       "    </tr>\n",
       "  </tbody>\n",
       "</table>\n",
       "</div>"
      ],
      "text/plain": [
       "           Model  Score\n",
       "2  Decision Tree  98.20\n",
       "3            XGB  94.84\n",
       "1  Random Forest  85.41\n",
       "0            KNN  81.71"
      ]
     },
     "execution_count": 23,
     "metadata": {},
     "output_type": "execute_result"
    }
   ],
   "source": [
    "models = pd.DataFrame({\n",
    "    'Model': [ 'KNN','Random Forest','Decision Tree', 'XGB'],\n",
    "    'Score': [acc_knn,acc_random_forest,acc_decision_tree,gmbScore]})\n",
    "models.sort_values(by='Score', ascending=False)"
   ]
  },
  {
   "cell_type": "code",
   "execution_count": 24,
   "id": "1d96bb8e",
   "metadata": {
    "execution": {
     "iopub.execute_input": "2022-09-20T01:03:04.699862Z",
     "iopub.status.busy": "2022-09-20T01:03:04.699042Z",
     "iopub.status.idle": "2022-09-20T01:03:05.502391Z",
     "shell.execute_reply": "2022-09-20T01:03:05.501440Z"
    },
    "papermill": {
     "duration": 0.817721,
     "end_time": "2022-09-20T01:03:05.504898",
     "exception": false,
     "start_time": "2022-09-20T01:03:04.687177",
     "status": "completed"
    },
    "tags": []
   },
   "outputs": [],
   "source": [
    "Y_pred = random_forest.predict(X_test)"
   ]
  },
  {
   "cell_type": "code",
   "execution_count": 25,
   "id": "dac3dc4e",
   "metadata": {
    "execution": {
     "iopub.execute_input": "2022-09-20T01:03:05.527787Z",
     "iopub.status.busy": "2022-09-20T01:03:05.527106Z",
     "iopub.status.idle": "2022-09-20T01:03:05.536765Z",
     "shell.execute_reply": "2022-09-20T01:03:05.535788Z"
    },
    "papermill": {
     "duration": 0.024163,
     "end_time": "2022-09-20T01:03:05.539397",
     "exception": false,
     "start_time": "2022-09-20T01:03:05.515234",
     "status": "completed"
    },
    "tags": []
   },
   "outputs": [],
   "source": [
    "submission = pd.DataFrame({\n",
    "        \"PassengerId\": testData[\"PassengerId\"],\n",
    "        \"Survived\": Y_pred\n",
    "    })\n",
    "\n",
    "submission.to_csv('/kaggle/working/submission.csv', index=False)"
   ]
  }
 ],
 "metadata": {
  "kernelspec": {
   "display_name": "Python 3.8.5",
   "language": "python",
   "name": "python3"
  },
  "language_info": {
   "codemirror_mode": {
    "name": "ipython",
    "version": 3
   },
   "file_extension": ".py",
   "mimetype": "text/x-python",
   "name": "python",
   "nbconvert_exporter": "python",
   "pygments_lexer": "ipython3",
   "version": "3.8.5"
  },
  "papermill": {
   "default_parameters": {},
   "duration": 28.284332,
   "end_time": "2022-09-20T01:03:06.372907",
   "environment_variables": {},
   "exception": null,
   "input_path": "__notebook__.ipynb",
   "output_path": "__notebook__.ipynb",
   "parameters": {},
   "start_time": "2022-09-20T01:02:38.088575",
   "version": "2.3.4"
  },
  "vscode": {
   "interpreter": {
    "hash": "3067ead486e059ec00ffe7555bdb889e6e264a24dc711bf108106cc7baee8d5d"
   }
  }
 },
 "nbformat": 4,
 "nbformat_minor": 5
}
