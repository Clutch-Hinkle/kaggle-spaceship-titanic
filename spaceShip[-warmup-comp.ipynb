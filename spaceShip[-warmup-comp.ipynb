{
 "cells": [
  {
   "cell_type": "code",
   "execution_count": 1,
   "id": "126eca4c",
   "metadata": {
    "_cell_guid": "b1076dfc-b9ad-4769-8c92-a6c4dae69d19",
    "_uuid": "8f2839f25d086af736a60e9eeb907d3b93b6e0e5",
    "execution": {
     "iopub.execute_input": "2022-09-20T01:02:46.997841Z",
     "iopub.status.busy": "2022-09-20T01:02:46.997180Z",
     "iopub.status.idle": "2022-09-20T01:02:48.611126Z",
     "shell.execute_reply": "2022-09-20T01:02:48.609849Z"
    },
    "papermill": {
     "duration": 1.627406,
     "end_time": "2022-09-20T01:02:48.614096",
     "exception": false,
     "start_time": "2022-09-20T01:02:46.986690",
     "status": "completed"
    },
    "tags": []
   },
   "outputs": [],
   "source": [
    "# This Python 3 environment comes with many helpful analytics libraries installed\n",
    "# It is defined by the kaggle/python Docker image: https://github.com/kaggle/docker-python\n",
    "# For example, here's several helpful packages to load\n",
    "\n",
    "import numpy as np # linear algebra\n",
    "import pandas as pd # data processing, CSV file I/O (e.g. pd.read_csv\n",
    "import random as rnd\n",
    "\n",
    "# visualization\n",
    "import matplotlib.pyplot as plt\n",
    "import xgboost as xgb\n",
    "%matplotlib inline\n",
    "\n",
    "# Input data files are available in the read-only \"../input/\" directory\n",
    "# For example, running this (by clicking run or pressing Shift+Enter) will list all files under the input directory\n",
    "\n",
    "# machine learning\n",
    "from sklearn.linear_model import LogisticRegression\n",
    "from sklearn.svm import SVC, LinearSVC\n",
    "from sklearn.ensemble import RandomForestClassifier\n",
    "from sklearn.neighbors import KNeighborsClassifier\n",
    "from sklearn.naive_bayes import GaussianNB\n",
    "from sklearn.linear_model import Perceptron\n",
    "from sklearn.linear_model import SGDClassifier\n",
    "from sklearn.tree import DecisionTreeClassifier\n",
    "from sklearn.experimental import enable_iterative_imputer\n",
    "from sklearn.impute import IterativeImputer\n",
    "from sklearn.model_selection import GridSearchCV\n",
    "from sklearn.neighbors import KNeighborsRegressor\n",
    "\n",
    "from sklearn.impute import KNNImputer\n",
    "\n",
    "import os\n",
    "for dirname, _, filenames in os.walk('/kaggle/input'):\n",
    "    for filename in filenames:\n",
    "        print(os.path.join(dirname, filename))\n",
    "\n",
    "# You can write up to 20GB to the current directory (/kaggle/working/) that gets preserved as output when you create a version using \"Save & Run All\" \n",
    "# You can also write temporary files to /kaggle/temp/, but they won't be saved outside of the current session"
   ]
  },
  {
   "cell_type": "markdown",
   "id": "6238b7d9",
   "metadata": {
    "papermill": {
     "duration": 0.00722,
     "end_time": "2022-09-20T01:02:48.629058",
     "exception": false,
     "start_time": "2022-09-20T01:02:48.621838",
     "status": "completed"
    },
    "tags": []
   },
   "source": [
    "Adding the data"
   ]
  },
  {
   "cell_type": "code",
   "execution_count": 2,
   "id": "a4240a60",
   "metadata": {
    "execution": {
     "iopub.execute_input": "2022-09-20T01:02:48.645463Z",
     "iopub.status.busy": "2022-09-20T01:02:48.644808Z",
     "iopub.status.idle": "2022-09-20T01:02:48.693173Z",
     "shell.execute_reply": "2022-09-20T01:02:48.691958Z"
    },
    "papermill": {
     "duration": 0.059319,
     "end_time": "2022-09-20T01:02:48.695533",
     "exception": false,
     "start_time": "2022-09-20T01:02:48.636214",
     "status": "completed"
    },
    "tags": []
   },
   "outputs": [
    {
     "data": {
      "text/html": [
       "<div>\n",
       "<style scoped>\n",
       "    .dataframe tbody tr th:only-of-type {\n",
       "        vertical-align: middle;\n",
       "    }\n",
       "\n",
       "    .dataframe tbody tr th {\n",
       "        vertical-align: top;\n",
       "    }\n",
       "\n",
       "    .dataframe thead th {\n",
       "        text-align: right;\n",
       "    }\n",
       "</style>\n",
       "<table border=\"1\" class=\"dataframe\">\n",
       "  <thead>\n",
       "    <tr style=\"text-align: right;\">\n",
       "      <th></th>\n",
       "      <th>PassengerId</th>\n",
       "      <th>HomePlanet</th>\n",
       "      <th>CryoSleep</th>\n",
       "      <th>Cabin</th>\n",
       "      <th>Destination</th>\n",
       "      <th>Age</th>\n",
       "      <th>VIP</th>\n",
       "      <th>RoomService</th>\n",
       "      <th>FoodCourt</th>\n",
       "      <th>ShoppingMall</th>\n",
       "      <th>Spa</th>\n",
       "      <th>VRDeck</th>\n",
       "      <th>Name</th>\n",
       "      <th>Transported</th>\n",
       "    </tr>\n",
       "  </thead>\n",
       "  <tbody>\n",
       "    <tr>\n",
       "      <th>0</th>\n",
       "      <td>0001_01</td>\n",
       "      <td>Europa</td>\n",
       "      <td>False</td>\n",
       "      <td>B/0/P</td>\n",
       "      <td>TRAPPIST-1e</td>\n",
       "      <td>39.0</td>\n",
       "      <td>False</td>\n",
       "      <td>0.0</td>\n",
       "      <td>0.0</td>\n",
       "      <td>0.0</td>\n",
       "      <td>0.0</td>\n",
       "      <td>0.0</td>\n",
       "      <td>Maham Ofracculy</td>\n",
       "      <td>False</td>\n",
       "    </tr>\n",
       "    <tr>\n",
       "      <th>1</th>\n",
       "      <td>0002_01</td>\n",
       "      <td>Earth</td>\n",
       "      <td>False</td>\n",
       "      <td>F/0/S</td>\n",
       "      <td>TRAPPIST-1e</td>\n",
       "      <td>24.0</td>\n",
       "      <td>False</td>\n",
       "      <td>109.0</td>\n",
       "      <td>9.0</td>\n",
       "      <td>25.0</td>\n",
       "      <td>549.0</td>\n",
       "      <td>44.0</td>\n",
       "      <td>Juanna Vines</td>\n",
       "      <td>True</td>\n",
       "    </tr>\n",
       "    <tr>\n",
       "      <th>2</th>\n",
       "      <td>0003_01</td>\n",
       "      <td>Europa</td>\n",
       "      <td>False</td>\n",
       "      <td>A/0/S</td>\n",
       "      <td>TRAPPIST-1e</td>\n",
       "      <td>58.0</td>\n",
       "      <td>True</td>\n",
       "      <td>43.0</td>\n",
       "      <td>3576.0</td>\n",
       "      <td>0.0</td>\n",
       "      <td>6715.0</td>\n",
       "      <td>49.0</td>\n",
       "      <td>Altark Susent</td>\n",
       "      <td>False</td>\n",
       "    </tr>\n",
       "    <tr>\n",
       "      <th>3</th>\n",
       "      <td>0003_02</td>\n",
       "      <td>Europa</td>\n",
       "      <td>False</td>\n",
       "      <td>A/0/S</td>\n",
       "      <td>TRAPPIST-1e</td>\n",
       "      <td>33.0</td>\n",
       "      <td>False</td>\n",
       "      <td>0.0</td>\n",
       "      <td>1283.0</td>\n",
       "      <td>371.0</td>\n",
       "      <td>3329.0</td>\n",
       "      <td>193.0</td>\n",
       "      <td>Solam Susent</td>\n",
       "      <td>False</td>\n",
       "    </tr>\n",
       "    <tr>\n",
       "      <th>4</th>\n",
       "      <td>0004_01</td>\n",
       "      <td>Earth</td>\n",
       "      <td>False</td>\n",
       "      <td>F/1/S</td>\n",
       "      <td>TRAPPIST-1e</td>\n",
       "      <td>16.0</td>\n",
       "      <td>False</td>\n",
       "      <td>303.0</td>\n",
       "      <td>70.0</td>\n",
       "      <td>151.0</td>\n",
       "      <td>565.0</td>\n",
       "      <td>2.0</td>\n",
       "      <td>Willy Santantines</td>\n",
       "      <td>True</td>\n",
       "    </tr>\n",
       "  </tbody>\n",
       "</table>\n",
       "</div>"
      ],
      "text/plain": [
       "  PassengerId HomePlanet CryoSleep  Cabin  Destination   Age    VIP  \\\n",
       "0     0001_01     Europa     False  B/0/P  TRAPPIST-1e  39.0  False   \n",
       "1     0002_01      Earth     False  F/0/S  TRAPPIST-1e  24.0  False   \n",
       "2     0003_01     Europa     False  A/0/S  TRAPPIST-1e  58.0   True   \n",
       "3     0003_02     Europa     False  A/0/S  TRAPPIST-1e  33.0  False   \n",
       "4     0004_01      Earth     False  F/1/S  TRAPPIST-1e  16.0  False   \n",
       "\n",
       "   RoomService  FoodCourt  ShoppingMall     Spa  VRDeck               Name  \\\n",
       "0          0.0        0.0           0.0     0.0     0.0    Maham Ofracculy   \n",
       "1        109.0        9.0          25.0   549.0    44.0       Juanna Vines   \n",
       "2         43.0     3576.0           0.0  6715.0    49.0      Altark Susent   \n",
       "3          0.0     1283.0         371.0  3329.0   193.0       Solam Susent   \n",
       "4        303.0       70.0         151.0   565.0     2.0  Willy Santantines   \n",
       "\n",
       "   Transported  \n",
       "0        False  \n",
       "1         True  \n",
       "2        False  \n",
       "3        False  \n",
       "4         True  "
      ]
     },
     "execution_count": 2,
     "metadata": {},
     "output_type": "execute_result"
    }
   ],
   "source": [
    "trainData = pd.read_csv('./kaggle/input/spaceship-titanic/train.csv')\n",
    "testData = pd.read_csv('./kaggle/input/spaceship-titanic/test.csv')\n",
    "combine = [trainData, testData]\n",
    "\n",
    "trainData.head()"
   ]
  },
  {
   "cell_type": "code",
   "execution_count": 3,
   "id": "d1bb4ba3",
   "metadata": {
    "execution": {
     "iopub.execute_input": "2022-09-20T01:02:48.712273Z",
     "iopub.status.busy": "2022-09-20T01:02:48.711627Z",
     "iopub.status.idle": "2022-09-20T01:02:48.756517Z",
     "shell.execute_reply": "2022-09-20T01:02:48.755412Z"
    },
    "papermill": {
     "duration": 0.056142,
     "end_time": "2022-09-20T01:02:48.759047",
     "exception": false,
     "start_time": "2022-09-20T01:02:48.702905",
     "status": "completed"
    },
    "tags": []
   },
   "outputs": [
    {
     "data": {
      "text/html": [
       "<div>\n",
       "<style scoped>\n",
       "    .dataframe tbody tr th:only-of-type {\n",
       "        vertical-align: middle;\n",
       "    }\n",
       "\n",
       "    .dataframe tbody tr th {\n",
       "        vertical-align: top;\n",
       "    }\n",
       "\n",
       "    .dataframe thead th {\n",
       "        text-align: right;\n",
       "    }\n",
       "</style>\n",
       "<table border=\"1\" class=\"dataframe\">\n",
       "  <thead>\n",
       "    <tr style=\"text-align: right;\">\n",
       "      <th></th>\n",
       "      <th>Age</th>\n",
       "      <th>RoomService</th>\n",
       "      <th>FoodCourt</th>\n",
       "      <th>ShoppingMall</th>\n",
       "      <th>Spa</th>\n",
       "      <th>VRDeck</th>\n",
       "    </tr>\n",
       "  </thead>\n",
       "  <tbody>\n",
       "    <tr>\n",
       "      <th>count</th>\n",
       "      <td>8514.000000</td>\n",
       "      <td>8512.000000</td>\n",
       "      <td>8510.000000</td>\n",
       "      <td>8485.000000</td>\n",
       "      <td>8510.000000</td>\n",
       "      <td>8505.000000</td>\n",
       "    </tr>\n",
       "    <tr>\n",
       "      <th>mean</th>\n",
       "      <td>28.827930</td>\n",
       "      <td>224.687617</td>\n",
       "      <td>458.077203</td>\n",
       "      <td>173.729169</td>\n",
       "      <td>311.138778</td>\n",
       "      <td>304.854791</td>\n",
       "    </tr>\n",
       "    <tr>\n",
       "      <th>std</th>\n",
       "      <td>14.489021</td>\n",
       "      <td>666.717663</td>\n",
       "      <td>1611.489240</td>\n",
       "      <td>604.696458</td>\n",
       "      <td>1136.705535</td>\n",
       "      <td>1145.717189</td>\n",
       "    </tr>\n",
       "    <tr>\n",
       "      <th>min</th>\n",
       "      <td>0.000000</td>\n",
       "      <td>0.000000</td>\n",
       "      <td>0.000000</td>\n",
       "      <td>0.000000</td>\n",
       "      <td>0.000000</td>\n",
       "      <td>0.000000</td>\n",
       "    </tr>\n",
       "    <tr>\n",
       "      <th>25%</th>\n",
       "      <td>19.000000</td>\n",
       "      <td>0.000000</td>\n",
       "      <td>0.000000</td>\n",
       "      <td>0.000000</td>\n",
       "      <td>0.000000</td>\n",
       "      <td>0.000000</td>\n",
       "    </tr>\n",
       "    <tr>\n",
       "      <th>50%</th>\n",
       "      <td>27.000000</td>\n",
       "      <td>0.000000</td>\n",
       "      <td>0.000000</td>\n",
       "      <td>0.000000</td>\n",
       "      <td>0.000000</td>\n",
       "      <td>0.000000</td>\n",
       "    </tr>\n",
       "    <tr>\n",
       "      <th>75%</th>\n",
       "      <td>38.000000</td>\n",
       "      <td>47.000000</td>\n",
       "      <td>76.000000</td>\n",
       "      <td>27.000000</td>\n",
       "      <td>59.000000</td>\n",
       "      <td>46.000000</td>\n",
       "    </tr>\n",
       "    <tr>\n",
       "      <th>max</th>\n",
       "      <td>79.000000</td>\n",
       "      <td>14327.000000</td>\n",
       "      <td>29813.000000</td>\n",
       "      <td>23492.000000</td>\n",
       "      <td>22408.000000</td>\n",
       "      <td>24133.000000</td>\n",
       "    </tr>\n",
       "  </tbody>\n",
       "</table>\n",
       "</div>"
      ],
      "text/plain": [
       "               Age   RoomService     FoodCourt  ShoppingMall           Spa  \\\n",
       "count  8514.000000   8512.000000   8510.000000   8485.000000   8510.000000   \n",
       "mean     28.827930    224.687617    458.077203    173.729169    311.138778   \n",
       "std      14.489021    666.717663   1611.489240    604.696458   1136.705535   \n",
       "min       0.000000      0.000000      0.000000      0.000000      0.000000   \n",
       "25%      19.000000      0.000000      0.000000      0.000000      0.000000   \n",
       "50%      27.000000      0.000000      0.000000      0.000000      0.000000   \n",
       "75%      38.000000     47.000000     76.000000     27.000000     59.000000   \n",
       "max      79.000000  14327.000000  29813.000000  23492.000000  22408.000000   \n",
       "\n",
       "             VRDeck  \n",
       "count   8505.000000  \n",
       "mean     304.854791  \n",
       "std     1145.717189  \n",
       "min        0.000000  \n",
       "25%        0.000000  \n",
       "50%        0.000000  \n",
       "75%       46.000000  \n",
       "max    24133.000000  "
      ]
     },
     "execution_count": 3,
     "metadata": {},
     "output_type": "execute_result"
    }
   ],
   "source": [
    "trainData.describe()"
   ]
  },
  {
   "cell_type": "code",
   "execution_count": 4,
   "id": "20fa3dae",
   "metadata": {
    "execution": {
     "iopub.execute_input": "2022-09-20T01:02:48.776409Z",
     "iopub.status.busy": "2022-09-20T01:02:48.775762Z",
     "iopub.status.idle": "2022-09-20T01:02:48.785483Z",
     "shell.execute_reply": "2022-09-20T01:02:48.784201Z"
    },
    "papermill": {
     "duration": 0.021093,
     "end_time": "2022-09-20T01:02:48.787893",
     "exception": false,
     "start_time": "2022-09-20T01:02:48.766800",
     "status": "completed"
    },
    "tags": []
   },
   "outputs": [
    {
     "data": {
      "text/plain": [
       "PassengerId       0\n",
       "HomePlanet      201\n",
       "CryoSleep       217\n",
       "Cabin           199\n",
       "Destination     182\n",
       "Age             179\n",
       "VIP             203\n",
       "RoomService     181\n",
       "FoodCourt       183\n",
       "ShoppingMall    208\n",
       "Spa             183\n",
       "VRDeck          188\n",
       "Name            200\n",
       "Transported       0\n",
       "dtype: int64"
      ]
     },
     "execution_count": 4,
     "metadata": {},
     "output_type": "execute_result"
    }
   ],
   "source": [
    "trainData.isnull().sum()"
   ]
  },
  {
   "cell_type": "markdown",
   "id": "9b9e5140",
   "metadata": {
    "papermill": {
     "duration": 0.007378,
     "end_time": "2022-09-20T01:02:48.803217",
     "exception": false,
     "start_time": "2022-09-20T01:02:48.795839",
     "status": "completed"
    },
    "tags": []
   },
   "source": [
    "Drop features we dont want to use"
   ]
  },
  {
   "cell_type": "code",
   "execution_count": 5,
   "id": "f8303f4d",
   "metadata": {
    "execution": {
     "iopub.execute_input": "2022-09-20T01:02:48.820653Z",
     "iopub.status.busy": "2022-09-20T01:02:48.820196Z",
     "iopub.status.idle": "2022-09-20T01:02:48.828020Z",
     "shell.execute_reply": "2022-09-20T01:02:48.826908Z"
    },
    "papermill": {
     "duration": 0.019222,
     "end_time": "2022-09-20T01:02:48.830222",
     "exception": false,
     "start_time": "2022-09-20T01:02:48.811000",
     "status": "completed"
    },
    "tags": []
   },
   "outputs": [],
   "source": [
    "trainData = trainData.drop(['Name'], axis=1)\n",
    "testData = testData.drop(['Name'], axis=1)\n",
    "combine = [trainData, testData]"
   ]
  },
  {
   "cell_type": "code",
   "execution_count": 6,
   "id": "36d29d40",
   "metadata": {
    "execution": {
     "iopub.execute_input": "2022-09-20T01:02:48.893965Z",
     "iopub.status.busy": "2022-09-20T01:02:48.892501Z",
     "iopub.status.idle": "2022-09-20T01:02:48.902832Z",
     "shell.execute_reply": "2022-09-20T01:02:48.901650Z"
    },
    "papermill": {
     "duration": 0.024708,
     "end_time": "2022-09-20T01:02:48.906333",
     "exception": false,
     "start_time": "2022-09-20T01:02:48.881625",
     "status": "completed"
    },
    "tags": []
   },
   "outputs": [
    {
     "data": {
      "text/html": [
       "<div>\n",
       "<style scoped>\n",
       "    .dataframe tbody tr th:only-of-type {\n",
       "        vertical-align: middle;\n",
       "    }\n",
       "\n",
       "    .dataframe tbody tr th {\n",
       "        vertical-align: top;\n",
       "    }\n",
       "\n",
       "    .dataframe thead th {\n",
       "        text-align: right;\n",
       "    }\n",
       "</style>\n",
       "<table border=\"1\" class=\"dataframe\">\n",
       "  <thead>\n",
       "    <tr style=\"text-align: right;\">\n",
       "      <th></th>\n",
       "      <th>HomePlanet</th>\n",
       "      <th>Transported</th>\n",
       "    </tr>\n",
       "  </thead>\n",
       "  <tbody>\n",
       "    <tr>\n",
       "      <th>2</th>\n",
       "      <td>Mars</td>\n",
       "      <td>0.523024</td>\n",
       "    </tr>\n",
       "    <tr>\n",
       "      <th>1</th>\n",
       "      <td>Europa</td>\n",
       "      <td>0.658846</td>\n",
       "    </tr>\n",
       "    <tr>\n",
       "      <th>0</th>\n",
       "      <td>Earth</td>\n",
       "      <td>0.423946</td>\n",
       "    </tr>\n",
       "  </tbody>\n",
       "</table>\n",
       "</div>"
      ],
      "text/plain": [
       "  HomePlanet  Transported\n",
       "2       Mars     0.523024\n",
       "1     Europa     0.658846\n",
       "0      Earth     0.423946"
      ]
     },
     "execution_count": 6,
     "metadata": {},
     "output_type": "execute_result"
    }
   ],
   "source": [
    "trainData.HomePlanet.mode()\n",
    "trainData[['HomePlanet', 'Transported']].groupby(['HomePlanet'], as_index=False).mean().sort_values(by='HomePlanet', ascending=False)"
   ]
  },
  {
   "cell_type": "code",
   "execution_count": 7,
   "id": "0437db82",
   "metadata": {
    "execution": {
     "iopub.execute_input": "2022-09-20T01:02:48.928832Z",
     "iopub.status.busy": "2022-09-20T01:02:48.928079Z",
     "iopub.status.idle": "2022-09-20T01:02:48.949756Z",
     "shell.execute_reply": "2022-09-20T01:02:48.948647Z"
    },
    "papermill": {
     "duration": 0.035636,
     "end_time": "2022-09-20T01:02:48.953502",
     "exception": false,
     "start_time": "2022-09-20T01:02:48.917866",
     "status": "completed"
    },
    "tags": []
   },
   "outputs": [
    {
     "data": {
      "text/html": [
       "<div>\n",
       "<style scoped>\n",
       "    .dataframe tbody tr th:only-of-type {\n",
       "        vertical-align: middle;\n",
       "    }\n",
       "\n",
       "    .dataframe tbody tr th {\n",
       "        vertical-align: top;\n",
       "    }\n",
       "\n",
       "    .dataframe thead th {\n",
       "        text-align: right;\n",
       "    }\n",
       "</style>\n",
       "<table border=\"1\" class=\"dataframe\">\n",
       "  <thead>\n",
       "    <tr style=\"text-align: right;\">\n",
       "      <th></th>\n",
       "      <th>PassengerId</th>\n",
       "      <th>HomePlanet</th>\n",
       "      <th>CryoSleep</th>\n",
       "      <th>Cabin</th>\n",
       "      <th>Destination</th>\n",
       "      <th>Age</th>\n",
       "      <th>VIP</th>\n",
       "      <th>RoomService</th>\n",
       "      <th>FoodCourt</th>\n",
       "      <th>ShoppingMall</th>\n",
       "      <th>Spa</th>\n",
       "      <th>VRDeck</th>\n",
       "      <th>Transported</th>\n",
       "    </tr>\n",
       "  </thead>\n",
       "  <tbody>\n",
       "    <tr>\n",
       "      <th>0</th>\n",
       "      <td>0001_01</td>\n",
       "      <td>2</td>\n",
       "      <td>False</td>\n",
       "      <td>B/0/P</td>\n",
       "      <td>TRAPPIST-1e</td>\n",
       "      <td>39.0</td>\n",
       "      <td>False</td>\n",
       "      <td>0.0</td>\n",
       "      <td>0.0</td>\n",
       "      <td>0.0</td>\n",
       "      <td>0.0</td>\n",
       "      <td>0.0</td>\n",
       "      <td>False</td>\n",
       "    </tr>\n",
       "    <tr>\n",
       "      <th>1</th>\n",
       "      <td>0002_01</td>\n",
       "      <td>0</td>\n",
       "      <td>False</td>\n",
       "      <td>F/0/S</td>\n",
       "      <td>TRAPPIST-1e</td>\n",
       "      <td>24.0</td>\n",
       "      <td>False</td>\n",
       "      <td>109.0</td>\n",
       "      <td>9.0</td>\n",
       "      <td>25.0</td>\n",
       "      <td>549.0</td>\n",
       "      <td>44.0</td>\n",
       "      <td>True</td>\n",
       "    </tr>\n",
       "    <tr>\n",
       "      <th>2</th>\n",
       "      <td>0003_01</td>\n",
       "      <td>2</td>\n",
       "      <td>False</td>\n",
       "      <td>A/0/S</td>\n",
       "      <td>TRAPPIST-1e</td>\n",
       "      <td>58.0</td>\n",
       "      <td>True</td>\n",
       "      <td>43.0</td>\n",
       "      <td>3576.0</td>\n",
       "      <td>0.0</td>\n",
       "      <td>6715.0</td>\n",
       "      <td>49.0</td>\n",
       "      <td>False</td>\n",
       "    </tr>\n",
       "    <tr>\n",
       "      <th>3</th>\n",
       "      <td>0003_02</td>\n",
       "      <td>2</td>\n",
       "      <td>False</td>\n",
       "      <td>A/0/S</td>\n",
       "      <td>TRAPPIST-1e</td>\n",
       "      <td>33.0</td>\n",
       "      <td>False</td>\n",
       "      <td>0.0</td>\n",
       "      <td>1283.0</td>\n",
       "      <td>371.0</td>\n",
       "      <td>3329.0</td>\n",
       "      <td>193.0</td>\n",
       "      <td>False</td>\n",
       "    </tr>\n",
       "    <tr>\n",
       "      <th>4</th>\n",
       "      <td>0004_01</td>\n",
       "      <td>0</td>\n",
       "      <td>False</td>\n",
       "      <td>F/1/S</td>\n",
       "      <td>TRAPPIST-1e</td>\n",
       "      <td>16.0</td>\n",
       "      <td>False</td>\n",
       "      <td>303.0</td>\n",
       "      <td>70.0</td>\n",
       "      <td>151.0</td>\n",
       "      <td>565.0</td>\n",
       "      <td>2.0</td>\n",
       "      <td>True</td>\n",
       "    </tr>\n",
       "  </tbody>\n",
       "</table>\n",
       "</div>"
      ],
      "text/plain": [
       "  PassengerId  HomePlanet CryoSleep  Cabin  Destination   Age    VIP  \\\n",
       "0     0001_01           2     False  B/0/P  TRAPPIST-1e  39.0  False   \n",
       "1     0002_01           0     False  F/0/S  TRAPPIST-1e  24.0  False   \n",
       "2     0003_01           2     False  A/0/S  TRAPPIST-1e  58.0   True   \n",
       "3     0003_02           2     False  A/0/S  TRAPPIST-1e  33.0  False   \n",
       "4     0004_01           0     False  F/1/S  TRAPPIST-1e  16.0  False   \n",
       "\n",
       "   RoomService  FoodCourt  ShoppingMall     Spa  VRDeck  Transported  \n",
       "0          0.0        0.0           0.0     0.0     0.0        False  \n",
       "1        109.0        9.0          25.0   549.0    44.0         True  \n",
       "2         43.0     3576.0           0.0  6715.0    49.0        False  \n",
       "3          0.0     1283.0         371.0  3329.0   193.0        False  \n",
       "4        303.0       70.0         151.0   565.0     2.0         True  "
      ]
     },
     "execution_count": 7,
     "metadata": {},
     "output_type": "execute_result"
    }
   ],
   "source": [
    "trainData['HomePlanet'] = trainData['HomePlanet'].fillna('Earth')\n",
    "testData['HomePlanet'] = testData['HomePlanet'].fillna('Earth')\n",
    "\n",
    "\n",
    "trainData['HomePlanet'] = trainData['HomePlanet'].map({'Earth':0, 'Mars':1, 'Europa':2}).astype(int)\n",
    "testData['HomePlanet'] = testData['HomePlanet'].map({'Earth':0, 'Mars':1, 'Europa':2}).astype(int)\n",
    "combine = [trainData, testData]\n",
    "\n",
    "trainData.head()"
   ]
  },
  {
   "cell_type": "code",
   "execution_count": 8,
   "id": "ae5351ee",
   "metadata": {
    "execution": {
     "iopub.execute_input": "2022-09-20T01:02:48.975042Z",
     "iopub.status.busy": "2022-09-20T01:02:48.974623Z",
     "iopub.status.idle": "2022-09-20T01:02:48.991213Z",
     "shell.execute_reply": "2022-09-20T01:02:48.990108Z"
    },
    "papermill": {
     "duration": 0.028718,
     "end_time": "2022-09-20T01:02:48.993399",
     "exception": false,
     "start_time": "2022-09-20T01:02:48.964681",
     "status": "completed"
    },
    "tags": []
   },
   "outputs": [
    {
     "data": {
      "text/plain": [
       "PassengerId       0\n",
       "HomePlanet        0\n",
       "CryoSleep       217\n",
       "Cabin           199\n",
       "Destination     182\n",
       "Age             179\n",
       "VIP             203\n",
       "RoomService       0\n",
       "FoodCourt         0\n",
       "ShoppingMall      0\n",
       "Spa               0\n",
       "VRDeck            0\n",
       "Transported       0\n",
       "dtype: int64"
      ]
     },
     "execution_count": 8,
     "metadata": {},
     "output_type": "execute_result"
    }
   ],
   "source": [
    "trainData['RoomService'].fillna(0,inplace=True)\n",
    "testData['RoomService'].fillna(0,inplace=True)\n",
    "\n",
    "trainData['FoodCourt'].fillna(0,inplace=True)\n",
    "testData['FoodCourt'].fillna(0,inplace=True)\n",
    "\n",
    "trainData['ShoppingMall'].fillna(0,inplace=True)\n",
    "testData['ShoppingMall'].fillna(0,inplace=True)\n",
    "\n",
    "trainData['Spa'].fillna(0,inplace=True)\n",
    "testData['Spa'].fillna(0,inplace=True)\n",
    "\n",
    "trainData['VRDeck'].fillna(0,inplace=True)\n",
    "testData['VRDeck'].fillna(0,inplace=True)\n",
    "\n",
    "trainData.isnull().sum()\n",
    "\n"
   ]
  },
  {
   "cell_type": "code",
   "execution_count": 9,
   "id": "26324919",
   "metadata": {},
   "outputs": [
    {
     "data": {
      "text/plain": [
       "PassengerId       0\n",
       "HomePlanet        0\n",
       "CryoSleep       217\n",
       "Cabin           199\n",
       "Destination       0\n",
       "Age               0\n",
       "VIP               0\n",
       "RoomService       0\n",
       "FoodCourt         0\n",
       "ShoppingMall      0\n",
       "Spa               0\n",
       "VRDeck            0\n",
       "Transported       0\n",
       "dtype: int64"
      ]
     },
     "execution_count": 9,
     "metadata": {},
     "output_type": "execute_result"
    }
   ],
   "source": [
    "testData['VIP'].fillna(value=False,inplace=True)\n",
    "trainData['VIP'].fillna(value=False,inplace=True)\n",
    "\n",
    "testData['Destination'].fillna(value='TRAPPIST-1e',inplace=True)\n",
    "trainData['Destination'].fillna(value='TRAPPIST-1e',inplace=True)\n",
    "\n",
    "testData['Age'].fillna(value=testData.Age.mean(),inplace=True)\n",
    "trainData['Age'].fillna(value=trainData.Age.mean(),inplace=True)\n",
    "\n",
    "\n",
    "trainData.isnull().sum()\n"
   ]
  },
  {
   "cell_type": "code",
   "execution_count": 10,
   "id": "b436441e",
   "metadata": {},
   "outputs": [],
   "source": [
    "testData['Cabin'].fillna(value='X/X/X',inplace=True)\n",
    "trainData['Cabin'].fillna(value='X/X/X',inplace=True)"
   ]
  },
  {
   "cell_type": "code",
   "execution_count": 11,
   "id": "a6a288d0",
   "metadata": {},
   "outputs": [
    {
     "data": {
      "text/html": [
       "<div>\n",
       "<style scoped>\n",
       "    .dataframe tbody tr th:only-of-type {\n",
       "        vertical-align: middle;\n",
       "    }\n",
       "\n",
       "    .dataframe tbody tr th {\n",
       "        vertical-align: top;\n",
       "    }\n",
       "\n",
       "    .dataframe thead th {\n",
       "        text-align: right;\n",
       "    }\n",
       "</style>\n",
       "<table border=\"1\" class=\"dataframe\">\n",
       "  <thead>\n",
       "    <tr style=\"text-align: right;\">\n",
       "      <th></th>\n",
       "      <th>PassengerId</th>\n",
       "      <th>HomePlanet</th>\n",
       "      <th>CryoSleep</th>\n",
       "      <th>Cabin</th>\n",
       "      <th>Destination</th>\n",
       "      <th>Age</th>\n",
       "      <th>VIP</th>\n",
       "      <th>RoomService</th>\n",
       "      <th>FoodCourt</th>\n",
       "      <th>ShoppingMall</th>\n",
       "      <th>Spa</th>\n",
       "      <th>VRDeck</th>\n",
       "      <th>deck</th>\n",
       "      <th>side</th>\n",
       "    </tr>\n",
       "  </thead>\n",
       "  <tbody>\n",
       "    <tr>\n",
       "      <th>0</th>\n",
       "      <td>0013_01</td>\n",
       "      <td>0</td>\n",
       "      <td>True</td>\n",
       "      <td>G/3/S</td>\n",
       "      <td>TRAPPIST-1e</td>\n",
       "      <td>27.0</td>\n",
       "      <td>False</td>\n",
       "      <td>0.0</td>\n",
       "      <td>0.0</td>\n",
       "      <td>0.0</td>\n",
       "      <td>0.0</td>\n",
       "      <td>0.0</td>\n",
       "      <td>G</td>\n",
       "      <td>S</td>\n",
       "    </tr>\n",
       "    <tr>\n",
       "      <th>1</th>\n",
       "      <td>0018_01</td>\n",
       "      <td>0</td>\n",
       "      <td>False</td>\n",
       "      <td>F/4/S</td>\n",
       "      <td>TRAPPIST-1e</td>\n",
       "      <td>19.0</td>\n",
       "      <td>False</td>\n",
       "      <td>0.0</td>\n",
       "      <td>9.0</td>\n",
       "      <td>0.0</td>\n",
       "      <td>2823.0</td>\n",
       "      <td>0.0</td>\n",
       "      <td>F</td>\n",
       "      <td>S</td>\n",
       "    </tr>\n",
       "    <tr>\n",
       "      <th>2</th>\n",
       "      <td>0019_01</td>\n",
       "      <td>2</td>\n",
       "      <td>True</td>\n",
       "      <td>C/0/S</td>\n",
       "      <td>55 Cancri e</td>\n",
       "      <td>31.0</td>\n",
       "      <td>False</td>\n",
       "      <td>0.0</td>\n",
       "      <td>0.0</td>\n",
       "      <td>0.0</td>\n",
       "      <td>0.0</td>\n",
       "      <td>0.0</td>\n",
       "      <td>C</td>\n",
       "      <td>S</td>\n",
       "    </tr>\n",
       "    <tr>\n",
       "      <th>3</th>\n",
       "      <td>0021_01</td>\n",
       "      <td>2</td>\n",
       "      <td>False</td>\n",
       "      <td>C/1/S</td>\n",
       "      <td>TRAPPIST-1e</td>\n",
       "      <td>38.0</td>\n",
       "      <td>False</td>\n",
       "      <td>0.0</td>\n",
       "      <td>6652.0</td>\n",
       "      <td>0.0</td>\n",
       "      <td>181.0</td>\n",
       "      <td>585.0</td>\n",
       "      <td>C</td>\n",
       "      <td>S</td>\n",
       "    </tr>\n",
       "    <tr>\n",
       "      <th>4</th>\n",
       "      <td>0023_01</td>\n",
       "      <td>0</td>\n",
       "      <td>False</td>\n",
       "      <td>F/5/S</td>\n",
       "      <td>TRAPPIST-1e</td>\n",
       "      <td>20.0</td>\n",
       "      <td>False</td>\n",
       "      <td>10.0</td>\n",
       "      <td>0.0</td>\n",
       "      <td>635.0</td>\n",
       "      <td>0.0</td>\n",
       "      <td>0.0</td>\n",
       "      <td>F</td>\n",
       "      <td>S</td>\n",
       "    </tr>\n",
       "  </tbody>\n",
       "</table>\n",
       "</div>"
      ],
      "text/plain": [
       "  PassengerId  HomePlanet CryoSleep  Cabin  Destination   Age    VIP  \\\n",
       "0     0013_01           0      True  G/3/S  TRAPPIST-1e  27.0  False   \n",
       "1     0018_01           0     False  F/4/S  TRAPPIST-1e  19.0  False   \n",
       "2     0019_01           2      True  C/0/S  55 Cancri e  31.0  False   \n",
       "3     0021_01           2     False  C/1/S  TRAPPIST-1e  38.0  False   \n",
       "4     0023_01           0     False  F/5/S  TRAPPIST-1e  20.0  False   \n",
       "\n",
       "   RoomService  FoodCourt  ShoppingMall     Spa  VRDeck deck side  \n",
       "0          0.0        0.0           0.0     0.0     0.0    G    S  \n",
       "1          0.0        9.0           0.0  2823.0     0.0    F    S  \n",
       "2          0.0        0.0           0.0     0.0     0.0    C    S  \n",
       "3          0.0     6652.0           0.0   181.0   585.0    C    S  \n",
       "4         10.0        0.0         635.0     0.0     0.0    F    S  "
      ]
     },
     "execution_count": 11,
     "metadata": {},
     "output_type": "execute_result"
    }
   ],
   "source": [
    "newTest = testData['Cabin'].str.split('/',n=2,expand = True)\n",
    "newTrain = trainData['Cabin'].str.split('/',n=2,expand = True)\n",
    "\n",
    "testData['deck'] = newTest[0]\n",
    "trainData['deck'] = newTrain[0]\n",
    "\n",
    "testData['side'] = newTest[2]\n",
    "trainData['side'] = newTrain[2]\n",
    "\n",
    "testData.head()\n"
   ]
  },
  {
   "cell_type": "code",
   "execution_count": 12,
   "id": "33f46a68",
   "metadata": {},
   "outputs": [],
   "source": [
    "trainData = trainData.drop(['Cabin'], axis=1)\n",
    "testData = testData.drop(['Cabin'], axis=1)"
   ]
  },
  {
   "cell_type": "code",
   "execution_count": 13,
   "id": "49b0b946",
   "metadata": {},
   "outputs": [
    {
     "name": "stdout",
     "output_type": "stream",
     "text": [
      "0    F\n",
      "Name: deck, dtype: object\n",
      "0    S\n",
      "Name: side, dtype: object\n"
     ]
    }
   ],
   "source": [
    "print(trainData.deck.mode())\n",
    "print(trainData.side.mode())"
   ]
  },
  {
   "cell_type": "code",
   "execution_count": 14,
   "id": "fd5e1554",
   "metadata": {},
   "outputs": [],
   "source": [
    "trainData['deck'] = trainData['deck'].map({'A':0, 'B':1, 'C':2, 'D':3, 'E':4, 'F':5, 'G':6, 'T':7, 'X':5}).astype(int)\n",
    "testData['deck'] = testData['deck'].map({'A':0, 'B':1, 'C':2, 'D':3, 'E':4, 'F':5, 'G':6, 'T':7, 'X':5}).astype(int)\n",
    "\n",
    "trainData['side'] = trainData['side'].map({'P':0, 'S':1, 'X':1}).astype(int)\n",
    "testData['side'] = testData['side'].map({'P':0, 'S':1, 'X':1}).astype(int)"
   ]
  },
  {
   "cell_type": "code",
   "execution_count": 15,
   "id": "0180f394",
   "metadata": {},
   "outputs": [
    {
     "name": "stdout",
     "output_type": "stream",
     "text": [
      "trainData\n",
      "  PassengerId  HomePlanet CryoSleep  Destination   Age    VIP  RoomService  \\\n",
      "0     0001_01           2     False  TRAPPIST-1e  39.0  False          0.0   \n",
      "1     0002_01           0     False  TRAPPIST-1e  24.0  False        109.0   \n",
      "2     0003_01           2     False  TRAPPIST-1e  58.0   True         43.0   \n",
      "3     0003_02           2     False  TRAPPIST-1e  33.0  False          0.0   \n",
      "4     0004_01           0     False  TRAPPIST-1e  16.0  False        303.0   \n",
      "\n",
      "   FoodCourt  ShoppingMall     Spa  VRDeck  Transported  deck  side  \n",
      "0        0.0           0.0     0.0     0.0        False     1     0  \n",
      "1        9.0          25.0   549.0    44.0         True     5     1  \n",
      "2     3576.0           0.0  6715.0    49.0        False     0     1  \n",
      "3     1283.0         371.0  3329.0   193.0        False     0     1  \n",
      "4       70.0         151.0   565.0     2.0         True     5     1  \n",
      "testData\n",
      "  PassengerId  HomePlanet CryoSleep  Destination   Age    VIP  RoomService  \\\n",
      "0     0013_01           0      True  TRAPPIST-1e  27.0  False          0.0   \n",
      "1     0018_01           0     False  TRAPPIST-1e  19.0  False          0.0   \n",
      "2     0019_01           2      True  55 Cancri e  31.0  False          0.0   \n",
      "3     0021_01           2     False  TRAPPIST-1e  38.0  False          0.0   \n",
      "4     0023_01           0     False  TRAPPIST-1e  20.0  False         10.0   \n",
      "\n",
      "   FoodCourt  ShoppingMall     Spa  VRDeck  deck  side  \n",
      "0        0.0           0.0     0.0     0.0     6     1  \n",
      "1        9.0           0.0  2823.0     0.0     5     1  \n",
      "2        0.0           0.0     0.0     0.0     2     1  \n",
      "3     6652.0           0.0   181.0   585.0     2     1  \n",
      "4        0.0         635.0     0.0     0.0     5     1  \n"
     ]
    }
   ],
   "source": [
    "print('trainData')\n",
    "print(trainData.head())\n",
    "print('testData')\n",
    "print(testData.head())"
   ]
  },
  {
   "cell_type": "code",
   "execution_count": 16,
   "id": "01a2baa9",
   "metadata": {},
   "outputs": [],
   "source": [
    "trainData['Destination'] = trainData['Destination'].map({'TRAPPIST-1e':0, '55 Cancri e':1, 'PSO J318.5-22':2}).astype(int)\n",
    "testData['Destination'] = testData['Destination'].map({'TRAPPIST-1e':0, '55 Cancri e':1, 'PSO J318.5-22':2}).astype(int)"
   ]
  },
  {
   "cell_type": "code",
   "execution_count": 17,
   "id": "b76bfb14",
   "metadata": {},
   "outputs": [
    {
     "data": {
      "text/plain": [
       "PassengerId       0\n",
       "HomePlanet        0\n",
       "CryoSleep       217\n",
       "Destination       0\n",
       "Age               0\n",
       "VIP               0\n",
       "RoomService       0\n",
       "FoodCourt         0\n",
       "ShoppingMall      0\n",
       "Spa               0\n",
       "VRDeck            0\n",
       "Transported       0\n",
       "deck              0\n",
       "side              0\n",
       "dtype: int64"
      ]
     },
     "execution_count": 17,
     "metadata": {},
     "output_type": "execute_result"
    }
   ],
   "source": [
    "trainData.isnull().sum()\n"
   ]
  },
  {
   "cell_type": "code",
   "execution_count": 18,
   "id": "2058ac9b",
   "metadata": {},
   "outputs": [],
   "source": [
    "ammenities = ['RoomService', 'FoodCourt','ShoppingMall', 'Spa', 'VRDeck']\n",
    "testData['SpentMoney'] = testData[ammenities].sum(axis=1)\n",
    "trainData['SpentMoney'] = trainData[ammenities].sum(axis=1)"
   ]
  },
  {
   "cell_type": "code",
   "execution_count": 19,
   "id": "221a30cf",
   "metadata": {},
   "outputs": [],
   "source": [
    "trainData = trainData.drop(['RoomService', 'FoodCourt','ShoppingMall', 'Spa', 'VRDeck'], axis=1)\n",
    "testData = testData.drop(['RoomService', 'FoodCourt','ShoppingMall', 'Spa', 'VRDeck'], axis=1)"
   ]
  },
  {
   "cell_type": "markdown",
   "id": "4267a689",
   "metadata": {
    "papermill": {
     "duration": 0.008135,
     "end_time": "2022-09-20T01:02:49.010247",
     "exception": false,
     "start_time": "2022-09-20T01:02:49.002112",
     "status": "completed"
    },
    "tags": []
   },
   "source": [
    "Using a KNNImputer to fill missing values of age from Fare and Sibsp features"
   ]
  },
  {
   "cell_type": "code",
   "execution_count": 20,
   "id": "05a85fd6",
   "metadata": {},
   "outputs": [
    {
     "data": {
      "text/html": [
       "<div>\n",
       "<style scoped>\n",
       "    .dataframe tbody tr th:only-of-type {\n",
       "        vertical-align: middle;\n",
       "    }\n",
       "\n",
       "    .dataframe tbody tr th {\n",
       "        vertical-align: top;\n",
       "    }\n",
       "\n",
       "    .dataframe thead th {\n",
       "        text-align: right;\n",
       "    }\n",
       "</style>\n",
       "<table border=\"1\" class=\"dataframe\">\n",
       "  <thead>\n",
       "    <tr style=\"text-align: right;\">\n",
       "      <th></th>\n",
       "      <th>PassengerId</th>\n",
       "      <th>HomePlanet</th>\n",
       "      <th>CryoSleep</th>\n",
       "      <th>Destination</th>\n",
       "      <th>Age</th>\n",
       "      <th>VIP</th>\n",
       "      <th>Transported</th>\n",
       "      <th>deck</th>\n",
       "      <th>side</th>\n",
       "      <th>SpentMoney</th>\n",
       "    </tr>\n",
       "  </thead>\n",
       "  <tbody>\n",
       "    <tr>\n",
       "      <th>0</th>\n",
       "      <td>0001_01</td>\n",
       "      <td>2</td>\n",
       "      <td>False</td>\n",
       "      <td>0</td>\n",
       "      <td>39.0</td>\n",
       "      <td>False</td>\n",
       "      <td>False</td>\n",
       "      <td>1</td>\n",
       "      <td>0</td>\n",
       "      <td>0.0</td>\n",
       "    </tr>\n",
       "    <tr>\n",
       "      <th>1</th>\n",
       "      <td>0002_01</td>\n",
       "      <td>0</td>\n",
       "      <td>False</td>\n",
       "      <td>0</td>\n",
       "      <td>24.0</td>\n",
       "      <td>False</td>\n",
       "      <td>True</td>\n",
       "      <td>5</td>\n",
       "      <td>1</td>\n",
       "      <td>736.0</td>\n",
       "    </tr>\n",
       "    <tr>\n",
       "      <th>2</th>\n",
       "      <td>0003_01</td>\n",
       "      <td>2</td>\n",
       "      <td>False</td>\n",
       "      <td>0</td>\n",
       "      <td>58.0</td>\n",
       "      <td>True</td>\n",
       "      <td>False</td>\n",
       "      <td>0</td>\n",
       "      <td>1</td>\n",
       "      <td>10383.0</td>\n",
       "    </tr>\n",
       "    <tr>\n",
       "      <th>3</th>\n",
       "      <td>0003_02</td>\n",
       "      <td>2</td>\n",
       "      <td>False</td>\n",
       "      <td>0</td>\n",
       "      <td>33.0</td>\n",
       "      <td>False</td>\n",
       "      <td>False</td>\n",
       "      <td>0</td>\n",
       "      <td>1</td>\n",
       "      <td>5176.0</td>\n",
       "    </tr>\n",
       "    <tr>\n",
       "      <th>4</th>\n",
       "      <td>0004_01</td>\n",
       "      <td>0</td>\n",
       "      <td>False</td>\n",
       "      <td>0</td>\n",
       "      <td>16.0</td>\n",
       "      <td>False</td>\n",
       "      <td>True</td>\n",
       "      <td>5</td>\n",
       "      <td>1</td>\n",
       "      <td>1091.0</td>\n",
       "    </tr>\n",
       "  </tbody>\n",
       "</table>\n",
       "</div>"
      ],
      "text/plain": [
       "  PassengerId  HomePlanet CryoSleep  Destination   Age    VIP  Transported  \\\n",
       "0     0001_01           2     False            0  39.0  False        False   \n",
       "1     0002_01           0     False            0  24.0  False         True   \n",
       "2     0003_01           2     False            0  58.0   True        False   \n",
       "3     0003_02           2     False            0  33.0  False        False   \n",
       "4     0004_01           0     False            0  16.0  False         True   \n",
       "\n",
       "   deck  side  SpentMoney  \n",
       "0     1     0         0.0  \n",
       "1     5     1       736.0  \n",
       "2     0     1     10383.0  \n",
       "3     0     1      5176.0  \n",
       "4     5     1      1091.0  "
      ]
     },
     "execution_count": 20,
     "metadata": {},
     "output_type": "execute_result"
    }
   ],
   "source": [
    "trainData.head()"
   ]
  },
  {
   "cell_type": "code",
   "execution_count": 21,
   "id": "3915a6b9",
   "metadata": {
    "execution": {
     "iopub.execute_input": "2022-09-20T01:02:49.029313Z",
     "iopub.status.busy": "2022-09-20T01:02:49.028507Z",
     "iopub.status.idle": "2022-09-20T01:02:49.073630Z",
     "shell.execute_reply": "2022-09-20T01:02:49.071963Z"
    },
    "papermill": {
     "duration": 0.059102,
     "end_time": "2022-09-20T01:02:49.077886",
     "exception": false,
     "start_time": "2022-09-20T01:02:49.018784",
     "status": "completed"
    },
    "tags": []
   },
   "outputs": [],
   "source": [
    "knnimputer = KNNImputer()\n",
    "\n",
    "impTrainData = knnimputer.fit_transform(trainData)\n",
    "impTestData = knnimputer.fit_transform(testData)\n",
    "\n",
    "trainData['CryoSleep'] = impTrainData[:,2]\n",
    "testData['CryoSleep'] = impTestData[:,2]"
   ]
  },
  {
   "cell_type": "code",
   "execution_count": 22,
   "id": "5a029844",
   "metadata": {},
   "outputs": [
    {
     "data": {
      "text/plain": [
       "PassengerId    0\n",
       "HomePlanet     0\n",
       "CryoSleep      0\n",
       "Destination    0\n",
       "Age            0\n",
       "VIP            0\n",
       "deck           0\n",
       "side           0\n",
       "SpentMoney     0\n",
       "dtype: int64"
      ]
     },
     "execution_count": 22,
     "metadata": {},
     "output_type": "execute_result"
    }
   ],
   "source": [
    "testData.isnull().sum()"
   ]
  },
  {
   "cell_type": "markdown",
   "id": "550866bf",
   "metadata": {
    "papermill": {
     "duration": 0.021302,
     "end_time": "2022-09-20T01:02:49.121056",
     "exception": false,
     "start_time": "2022-09-20T01:02:49.099754",
     "status": "completed"
    },
    "tags": []
   },
   "source": [
    "Normalizing the Fare feature"
   ]
  },
  {
   "cell_type": "code",
   "execution_count": 23,
   "id": "f15d2e81",
   "metadata": {
    "execution": {
     "iopub.execute_input": "2022-09-20T01:02:49.377445Z",
     "iopub.status.busy": "2022-09-20T01:02:49.377032Z",
     "iopub.status.idle": "2022-09-20T01:02:49.386916Z",
     "shell.execute_reply": "2022-09-20T01:02:49.385746Z"
    },
    "papermill": {
     "duration": 0.023348,
     "end_time": "2022-09-20T01:02:49.389154",
     "exception": false,
     "start_time": "2022-09-20T01:02:49.365806",
     "status": "completed"
    },
    "tags": []
   },
   "outputs": [
    {
     "data": {
      "text/plain": [
       "((8693, 8), (8693,), (4277, 8))"
      ]
     },
     "execution_count": 23,
     "metadata": {},
     "output_type": "execute_result"
    }
   ],
   "source": [
    "X_train = trainData.drop(['Transported','PassengerId'],axis = 1)\n",
    "Y_train = trainData[\"Transported\"]\n",
    "X_test  = testData.drop(\"PassengerId\", axis=1).copy()\n",
    "X_train.shape, Y_train.shape, X_test.shape"
   ]
  },
  {
   "cell_type": "code",
   "execution_count": 24,
   "id": "b9ee29d0",
   "metadata": {},
   "outputs": [
    {
     "data": {
      "text/html": [
       "<div>\n",
       "<style scoped>\n",
       "    .dataframe tbody tr th:only-of-type {\n",
       "        vertical-align: middle;\n",
       "    }\n",
       "\n",
       "    .dataframe tbody tr th {\n",
       "        vertical-align: top;\n",
       "    }\n",
       "\n",
       "    .dataframe thead th {\n",
       "        text-align: right;\n",
       "    }\n",
       "</style>\n",
       "<table border=\"1\" class=\"dataframe\">\n",
       "  <thead>\n",
       "    <tr style=\"text-align: right;\">\n",
       "      <th></th>\n",
       "      <th>HomePlanet</th>\n",
       "      <th>CryoSleep</th>\n",
       "      <th>Destination</th>\n",
       "      <th>Age</th>\n",
       "      <th>VIP</th>\n",
       "      <th>deck</th>\n",
       "      <th>side</th>\n",
       "      <th>SpentMoney</th>\n",
       "    </tr>\n",
       "  </thead>\n",
       "  <tbody>\n",
       "    <tr>\n",
       "      <th>0</th>\n",
       "      <td>2</td>\n",
       "      <td>0.0</td>\n",
       "      <td>0</td>\n",
       "      <td>39.0</td>\n",
       "      <td>False</td>\n",
       "      <td>1</td>\n",
       "      <td>0</td>\n",
       "      <td>0.0</td>\n",
       "    </tr>\n",
       "    <tr>\n",
       "      <th>1</th>\n",
       "      <td>0</td>\n",
       "      <td>0.0</td>\n",
       "      <td>0</td>\n",
       "      <td>24.0</td>\n",
       "      <td>False</td>\n",
       "      <td>5</td>\n",
       "      <td>1</td>\n",
       "      <td>736.0</td>\n",
       "    </tr>\n",
       "    <tr>\n",
       "      <th>2</th>\n",
       "      <td>2</td>\n",
       "      <td>0.0</td>\n",
       "      <td>0</td>\n",
       "      <td>58.0</td>\n",
       "      <td>True</td>\n",
       "      <td>0</td>\n",
       "      <td>1</td>\n",
       "      <td>10383.0</td>\n",
       "    </tr>\n",
       "    <tr>\n",
       "      <th>3</th>\n",
       "      <td>2</td>\n",
       "      <td>0.0</td>\n",
       "      <td>0</td>\n",
       "      <td>33.0</td>\n",
       "      <td>False</td>\n",
       "      <td>0</td>\n",
       "      <td>1</td>\n",
       "      <td>5176.0</td>\n",
       "    </tr>\n",
       "    <tr>\n",
       "      <th>4</th>\n",
       "      <td>0</td>\n",
       "      <td>0.0</td>\n",
       "      <td>0</td>\n",
       "      <td>16.0</td>\n",
       "      <td>False</td>\n",
       "      <td>5</td>\n",
       "      <td>1</td>\n",
       "      <td>1091.0</td>\n",
       "    </tr>\n",
       "  </tbody>\n",
       "</table>\n",
       "</div>"
      ],
      "text/plain": [
       "   HomePlanet  CryoSleep  Destination   Age    VIP  deck  side  SpentMoney\n",
       "0           2        0.0            0  39.0  False     1     0         0.0\n",
       "1           0        0.0            0  24.0  False     5     1       736.0\n",
       "2           2        0.0            0  58.0   True     0     1     10383.0\n",
       "3           2        0.0            0  33.0  False     0     1      5176.0\n",
       "4           0        0.0            0  16.0  False     5     1      1091.0"
      ]
     },
     "execution_count": 24,
     "metadata": {},
     "output_type": "execute_result"
    }
   ],
   "source": [
    "X_train.head()"
   ]
  },
  {
   "cell_type": "code",
   "execution_count": 25,
   "id": "4d747f21",
   "metadata": {},
   "outputs": [
    {
     "data": {
      "text/html": [
       "<div>\n",
       "<style scoped>\n",
       "    .dataframe tbody tr th:only-of-type {\n",
       "        vertical-align: middle;\n",
       "    }\n",
       "\n",
       "    .dataframe tbody tr th {\n",
       "        vertical-align: top;\n",
       "    }\n",
       "\n",
       "    .dataframe thead th {\n",
       "        text-align: right;\n",
       "    }\n",
       "</style>\n",
       "<table border=\"1\" class=\"dataframe\">\n",
       "  <thead>\n",
       "    <tr style=\"text-align: right;\">\n",
       "      <th></th>\n",
       "      <th>HomePlanet</th>\n",
       "      <th>CryoSleep</th>\n",
       "      <th>Destination</th>\n",
       "      <th>Age</th>\n",
       "      <th>VIP</th>\n",
       "      <th>deck</th>\n",
       "      <th>side</th>\n",
       "      <th>SpentMoney</th>\n",
       "    </tr>\n",
       "  </thead>\n",
       "  <tbody>\n",
       "    <tr>\n",
       "      <th>0</th>\n",
       "      <td>0</td>\n",
       "      <td>1.0</td>\n",
       "      <td>0</td>\n",
       "      <td>27.0</td>\n",
       "      <td>False</td>\n",
       "      <td>6</td>\n",
       "      <td>1</td>\n",
       "      <td>0.0</td>\n",
       "    </tr>\n",
       "    <tr>\n",
       "      <th>1</th>\n",
       "      <td>0</td>\n",
       "      <td>0.0</td>\n",
       "      <td>0</td>\n",
       "      <td>19.0</td>\n",
       "      <td>False</td>\n",
       "      <td>5</td>\n",
       "      <td>1</td>\n",
       "      <td>2832.0</td>\n",
       "    </tr>\n",
       "    <tr>\n",
       "      <th>2</th>\n",
       "      <td>2</td>\n",
       "      <td>1.0</td>\n",
       "      <td>1</td>\n",
       "      <td>31.0</td>\n",
       "      <td>False</td>\n",
       "      <td>2</td>\n",
       "      <td>1</td>\n",
       "      <td>0.0</td>\n",
       "    </tr>\n",
       "    <tr>\n",
       "      <th>3</th>\n",
       "      <td>2</td>\n",
       "      <td>0.0</td>\n",
       "      <td>0</td>\n",
       "      <td>38.0</td>\n",
       "      <td>False</td>\n",
       "      <td>2</td>\n",
       "      <td>1</td>\n",
       "      <td>7418.0</td>\n",
       "    </tr>\n",
       "    <tr>\n",
       "      <th>4</th>\n",
       "      <td>0</td>\n",
       "      <td>0.0</td>\n",
       "      <td>0</td>\n",
       "      <td>20.0</td>\n",
       "      <td>False</td>\n",
       "      <td>5</td>\n",
       "      <td>1</td>\n",
       "      <td>645.0</td>\n",
       "    </tr>\n",
       "  </tbody>\n",
       "</table>\n",
       "</div>"
      ],
      "text/plain": [
       "   HomePlanet  CryoSleep  Destination   Age    VIP  deck  side  SpentMoney\n",
       "0           0        1.0            0  27.0  False     6     1         0.0\n",
       "1           0        0.0            0  19.0  False     5     1      2832.0\n",
       "2           2        1.0            1  31.0  False     2     1         0.0\n",
       "3           2        0.0            0  38.0  False     2     1      7418.0\n",
       "4           0        0.0            0  20.0  False     5     1       645.0"
      ]
     },
     "execution_count": 25,
     "metadata": {},
     "output_type": "execute_result"
    }
   ],
   "source": [
    "X_test.head()"
   ]
  },
  {
   "cell_type": "code",
   "execution_count": 26,
   "id": "c9030379",
   "metadata": {
    "execution": {
     "iopub.execute_input": "2022-09-20T01:02:49.409607Z",
     "iopub.status.busy": "2022-09-20T01:02:49.409211Z",
     "iopub.status.idle": "2022-09-20T01:02:49.480903Z",
     "shell.execute_reply": "2022-09-20T01:02:49.479695Z"
    },
    "papermill": {
     "duration": 0.084654,
     "end_time": "2022-09-20T01:02:49.483140",
     "exception": false,
     "start_time": "2022-09-20T01:02:49.398486",
     "status": "completed"
    },
    "tags": []
   },
   "outputs": [
    {
     "data": {
      "text/plain": [
       "73.44"
      ]
     },
     "execution_count": 26,
     "metadata": {},
     "output_type": "execute_result"
    }
   ],
   "source": [
    "# Support Vector Machines\n",
    "\n",
    "svc = SVC()\n",
    "svc.fit(X_train, Y_train)\n",
    "Y_pred = svc.predict(X_test)\n",
    "acc_svc = round(svc.score(X_train, Y_train) * 100, 2)\n",
    "acc_svc\n"
   ]
  },
  {
   "cell_type": "markdown",
   "id": "2619be3e",
   "metadata": {
    "papermill": {
     "duration": 0.009127,
     "end_time": "2022-09-20T01:02:49.501827",
     "exception": false,
     "start_time": "2022-09-20T01:02:49.492700",
     "status": "completed"
    },
    "tags": []
   },
   "source": [
    "This cell finds the best number of neighbors to use for our model"
   ]
  },
  {
   "cell_type": "code",
   "execution_count": 27,
   "id": "16852308",
   "metadata": {
    "execution": {
     "iopub.execute_input": "2022-09-20T01:02:49.522726Z",
     "iopub.status.busy": "2022-09-20T01:02:49.521878Z",
     "iopub.status.idle": "2022-09-20T01:02:52.690926Z",
     "shell.execute_reply": "2022-09-20T01:02:52.689814Z"
    },
    "papermill": {
     "duration": 3.18296,
     "end_time": "2022-09-20T01:02:52.694144",
     "exception": false,
     "start_time": "2022-09-20T01:02:49.511184",
     "status": "completed"
    },
    "tags": []
   },
   "outputs": [
    {
     "data": {
      "text/plain": [
       "{'n_neighbors': 41}"
      ]
     },
     "execution_count": 27,
     "metadata": {},
     "output_type": "execute_result"
    }
   ],
   "source": [
    "parameters = {\"n_neighbors\": range(1, 50)}\n",
    "gridsearch = GridSearchCV(KNeighborsClassifier(), parameters)\n",
    "gridsearch.fit(X_train, Y_train)\n",
    "\n",
    "gridsearch.best_params_"
   ]
  },
  {
   "cell_type": "code",
   "execution_count": 28,
   "id": "54adc42d",
   "metadata": {
    "execution": {
     "iopub.execute_input": "2022-09-20T01:02:52.721946Z",
     "iopub.status.busy": "2022-09-20T01:02:52.721103Z",
     "iopub.status.idle": "2022-09-20T01:02:52.819310Z",
     "shell.execute_reply": "2022-09-20T01:02:52.818059Z"
    },
    "papermill": {
     "duration": 0.112691,
     "end_time": "2022-09-20T01:02:52.821840",
     "exception": false,
     "start_time": "2022-09-20T01:02:52.709149",
     "status": "completed"
    },
    "tags": []
   },
   "outputs": [
    {
     "data": {
      "text/plain": [
       "0.7409409870010353"
      ]
     },
     "execution_count": 28,
     "metadata": {},
     "output_type": "execute_result"
    }
   ],
   "source": [
    "knn = KNeighborsClassifier(n_neighbors = 41)\n",
    "knn.fit(X_train, Y_train)\n",
    "Y_pred = knn.predict(X_test)\n",
    "acc_knn = round(knn.score(X_train, Y_train) * 100, 2)\n",
    "knn.score(X_train, Y_train)"
   ]
  },
  {
   "cell_type": "code",
   "execution_count": 29,
   "id": "a2e77fe7",
   "metadata": {
    "execution": {
     "iopub.execute_input": "2022-09-20T01:02:52.843744Z",
     "iopub.status.busy": "2022-09-20T01:02:52.842893Z",
     "iopub.status.idle": "2022-09-20T01:02:52.859907Z",
     "shell.execute_reply": "2022-09-20T01:02:52.858674Z"
    },
    "papermill": {
     "duration": 0.030399,
     "end_time": "2022-09-20T01:02:52.862170",
     "exception": false,
     "start_time": "2022-09-20T01:02:52.831771",
     "status": "completed"
    },
    "tags": []
   },
   "outputs": [
    {
     "data": {
      "text/plain": [
       "94.24"
      ]
     },
     "execution_count": 29,
     "metadata": {},
     "output_type": "execute_result"
    }
   ],
   "source": [
    "# Decision Tree\n",
    "\n",
    "decision_tree = DecisionTreeClassifier()\n",
    "decision_tree.fit(X_train, Y_train)\n",
    "Y_pred = decision_tree.predict(X_test)\n",
    "acc_decision_tree = round(decision_tree.score(X_train, Y_train) * 100, 2)\n",
    "acc_decision_tree"
   ]
  },
  {
   "cell_type": "code",
   "execution_count": 30,
   "id": "8b56e464",
   "metadata": {
    "execution": {
     "iopub.execute_input": "2022-09-20T01:02:52.884218Z",
     "iopub.status.busy": "2022-09-20T01:02:52.883417Z",
     "iopub.status.idle": "2022-09-20T01:02:52.888093Z",
     "shell.execute_reply": "2022-09-20T01:02:52.887096Z"
    },
    "papermill": {
     "duration": 0.017888,
     "end_time": "2022-09-20T01:02:52.890138",
     "exception": false,
     "start_time": "2022-09-20T01:02:52.872250",
     "status": "completed"
    },
    "tags": []
   },
   "outputs": [],
   "source": [
    "# parameters = {\"n_estimators\":[1000,2500, 5000] ,\"max_depth\": [3,5,7,8,10], \"min_samples_split\": [5,8,10]}\n",
    "# gridsearch = GridSearchCV(RandomForestClassifier(), parameters)\n",
    "# gridsearch.fit(X_train, Y_train)\n",
    "\n",
    "# gridsearch.best_params_\n",
    "# # {'max_depth': 10, 'min_samples_split': 5, 'n_estimators': 1000}"
   ]
  },
  {
   "cell_type": "code",
   "execution_count": 31,
   "id": "cd846029",
   "metadata": {
    "execution": {
     "iopub.execute_input": "2022-09-20T01:02:52.912806Z",
     "iopub.status.busy": "2022-09-20T01:02:52.911888Z",
     "iopub.status.idle": "2022-09-20T01:03:04.262807Z",
     "shell.execute_reply": "2022-09-20T01:03:04.261386Z"
    },
    "papermill": {
     "duration": 11.36492,
     "end_time": "2022-09-20T01:03:04.265253",
     "exception": false,
     "start_time": "2022-09-20T01:02:52.900333",
     "status": "completed"
    },
    "tags": []
   },
   "outputs": [
    {
     "data": {
      "text/plain": [
       "78.24"
      ]
     },
     "execution_count": 31,
     "metadata": {},
     "output_type": "execute_result"
    }
   ],
   "source": [
    "# Random Forest\n",
    "\n",
    "random_forest = RandomForestClassifier(n_estimators=1000, min_samples_split = 5, max_depth=10)\n",
    "random_forest.fit(X_train, Y_train)\n",
    "Y_pred = random_forest.predict(X_test)\n",
    "random_forest.score(X_train, Y_train)\n",
    "acc_random_forest = round(random_forest.score(X_train, Y_train) * 100, 2)\n",
    "acc_random_forest"
   ]
  },
  {
   "cell_type": "code",
   "execution_count": 32,
   "id": "1e15a6f5",
   "metadata": {
    "execution": {
     "iopub.execute_input": "2022-09-20T01:03:04.287061Z",
     "iopub.status.busy": "2022-09-20T01:03:04.286638Z",
     "iopub.status.idle": "2022-09-20T01:03:04.636437Z",
     "shell.execute_reply": "2022-09-20T01:03:04.635548Z"
    },
    "papermill": {
     "duration": 0.363918,
     "end_time": "2022-09-20T01:03:04.639176",
     "exception": false,
     "start_time": "2022-09-20T01:03:04.275258",
     "status": "completed"
    },
    "tags": []
   },
   "outputs": [
    {
     "data": {
      "text/plain": [
       "83.78"
      ]
     },
     "execution_count": 32,
     "metadata": {},
     "output_type": "execute_result"
    }
   ],
   "source": [
    "gbm = xgb.XGBClassifier(learning_rate = .15, max_depth=7,subsample = .7)\n",
    "gbm.fit(X_train, Y_train)\n",
    "gmbScore = round(gbm.score(X_train, Y_train) *100, 2)\n",
    "gmbScore"
   ]
  },
  {
   "cell_type": "code",
   "execution_count": 33,
   "id": "a5bf8a98",
   "metadata": {
    "execution": {
     "iopub.execute_input": "2022-09-20T01:03:04.662192Z",
     "iopub.status.busy": "2022-09-20T01:03:04.661816Z",
     "iopub.status.idle": "2022-09-20T01:03:04.674171Z",
     "shell.execute_reply": "2022-09-20T01:03:04.673002Z"
    },
    "papermill": {
     "duration": 0.026318,
     "end_time": "2022-09-20T01:03:04.676763",
     "exception": false,
     "start_time": "2022-09-20T01:03:04.650445",
     "status": "completed"
    },
    "tags": []
   },
   "outputs": [
    {
     "data": {
      "text/html": [
       "<div>\n",
       "<style scoped>\n",
       "    .dataframe tbody tr th:only-of-type {\n",
       "        vertical-align: middle;\n",
       "    }\n",
       "\n",
       "    .dataframe tbody tr th {\n",
       "        vertical-align: top;\n",
       "    }\n",
       "\n",
       "    .dataframe thead th {\n",
       "        text-align: right;\n",
       "    }\n",
       "</style>\n",
       "<table border=\"1\" class=\"dataframe\">\n",
       "  <thead>\n",
       "    <tr style=\"text-align: right;\">\n",
       "      <th></th>\n",
       "      <th>Model</th>\n",
       "      <th>Score</th>\n",
       "    </tr>\n",
       "  </thead>\n",
       "  <tbody>\n",
       "    <tr>\n",
       "      <th>2</th>\n",
       "      <td>Decision Tree</td>\n",
       "      <td>94.24</td>\n",
       "    </tr>\n",
       "    <tr>\n",
       "      <th>3</th>\n",
       "      <td>XGB</td>\n",
       "      <td>83.78</td>\n",
       "    </tr>\n",
       "    <tr>\n",
       "      <th>1</th>\n",
       "      <td>Random Forest</td>\n",
       "      <td>78.24</td>\n",
       "    </tr>\n",
       "    <tr>\n",
       "      <th>0</th>\n",
       "      <td>KNN</td>\n",
       "      <td>74.09</td>\n",
       "    </tr>\n",
       "  </tbody>\n",
       "</table>\n",
       "</div>"
      ],
      "text/plain": [
       "           Model  Score\n",
       "2  Decision Tree  94.24\n",
       "3            XGB  83.78\n",
       "1  Random Forest  78.24\n",
       "0            KNN  74.09"
      ]
     },
     "execution_count": 33,
     "metadata": {},
     "output_type": "execute_result"
    }
   ],
   "source": [
    "models = pd.DataFrame({\n",
    "    'Model': [ 'KNN','Random Forest','Decision Tree', 'XGB'],\n",
    "    'Score': [acc_knn,acc_random_forest,acc_decision_tree,gmbScore]})\n",
    "models.sort_values(by='Score', ascending=False)"
   ]
  },
  {
   "cell_type": "code",
   "execution_count": 1,
   "id": "1d96bb8e",
   "metadata": {
    "execution": {
     "iopub.execute_input": "2022-09-20T01:03:04.699862Z",
     "iopub.status.busy": "2022-09-20T01:03:04.699042Z",
     "iopub.status.idle": "2022-09-20T01:03:05.502391Z",
     "shell.execute_reply": "2022-09-20T01:03:05.501440Z"
    },
    "papermill": {
     "duration": 0.817721,
     "end_time": "2022-09-20T01:03:05.504898",
     "exception": false,
     "start_time": "2022-09-20T01:03:04.687177",
     "status": "completed"
    },
    "tags": []
   },
   "outputs": [
    {
     "ename": "NameError",
     "evalue": "name 'gbm' is not defined",
     "output_type": "error",
     "traceback": [
      "\u001b[0;31m---------------------------------------------------------------------------\u001b[0m",
      "\u001b[0;31mNameError\u001b[0m                                 Traceback (most recent call last)",
      "\u001b[0;32m<ipython-input-1-4a7df1123823>\u001b[0m in \u001b[0;36m<module>\u001b[0;34m\u001b[0m\n\u001b[0;32m----> 1\u001b[0;31m \u001b[0mY_pred\u001b[0m \u001b[0;34m=\u001b[0m \u001b[0mgbm\u001b[0m\u001b[0;34m.\u001b[0m\u001b[0mpredict\u001b[0m\u001b[0;34m(\u001b[0m\u001b[0mX_test\u001b[0m\u001b[0;34m)\u001b[0m\u001b[0;34m\u001b[0m\u001b[0;34m\u001b[0m\u001b[0m\n\u001b[0m",
      "\u001b[0;31mNameError\u001b[0m: name 'gbm' is not defined"
     ]
    }
   ],
   "source": [
    "Y_pred = gbm.predict(X_test)"
   ]
  },
  {
   "cell_type": "code",
   "execution_count": 35,
   "id": "dac3dc4e",
   "metadata": {
    "execution": {
     "iopub.execute_input": "2022-09-20T01:03:05.527787Z",
     "iopub.status.busy": "2022-09-20T01:03:05.527106Z",
     "iopub.status.idle": "2022-09-20T01:03:05.536765Z",
     "shell.execute_reply": "2022-09-20T01:03:05.535788Z"
    },
    "papermill": {
     "duration": 0.024163,
     "end_time": "2022-09-20T01:03:05.539397",
     "exception": false,
     "start_time": "2022-09-20T01:03:05.515234",
     "status": "completed"
    },
    "tags": []
   },
   "outputs": [
    {
     "ename": "OSError",
     "evalue": "Cannot save file into a non-existent directory: '/kaggle/working'",
     "output_type": "error",
     "traceback": [
      "\u001b[0;31m---------------------------------------------------------------------------\u001b[0m",
      "\u001b[0;31mOSError\u001b[0m                                   Traceback (most recent call last)",
      "\u001b[0;32m<ipython-input-35-108b11b19c03>\u001b[0m in \u001b[0;36m<module>\u001b[0;34m\u001b[0m\n\u001b[1;32m      4\u001b[0m     })\n\u001b[1;32m      5\u001b[0m \u001b[0;34m\u001b[0m\u001b[0m\n\u001b[0;32m----> 6\u001b[0;31m \u001b[0msubmission\u001b[0m\u001b[0;34m.\u001b[0m\u001b[0mto_csv\u001b[0m\u001b[0;34m(\u001b[0m\u001b[0;34m'/kaggle/working/submission.csv'\u001b[0m\u001b[0;34m,\u001b[0m \u001b[0mindex\u001b[0m\u001b[0;34m=\u001b[0m\u001b[0;32mFalse\u001b[0m\u001b[0;34m)\u001b[0m\u001b[0;34m\u001b[0m\u001b[0;34m\u001b[0m\u001b[0m\n\u001b[0m",
      "\u001b[0;32m~/.local/lib/python3.8/site-packages/pandas/util/_decorators.py\u001b[0m in \u001b[0;36mwrapper\u001b[0;34m(*args, **kwargs)\u001b[0m\n\u001b[1;32m    209\u001b[0m                 \u001b[0;32melse\u001b[0m\u001b[0;34m:\u001b[0m\u001b[0;34m\u001b[0m\u001b[0;34m\u001b[0m\u001b[0m\n\u001b[1;32m    210\u001b[0m                     \u001b[0mkwargs\u001b[0m\u001b[0;34m[\u001b[0m\u001b[0mnew_arg_name\u001b[0m\u001b[0;34m]\u001b[0m \u001b[0;34m=\u001b[0m \u001b[0mnew_arg_value\u001b[0m\u001b[0;34m\u001b[0m\u001b[0;34m\u001b[0m\u001b[0m\n\u001b[0;32m--> 211\u001b[0;31m             \u001b[0;32mreturn\u001b[0m \u001b[0mfunc\u001b[0m\u001b[0;34m(\u001b[0m\u001b[0;34m*\u001b[0m\u001b[0margs\u001b[0m\u001b[0;34m,\u001b[0m \u001b[0;34m**\u001b[0m\u001b[0mkwargs\u001b[0m\u001b[0;34m)\u001b[0m\u001b[0;34m\u001b[0m\u001b[0;34m\u001b[0m\u001b[0m\n\u001b[0m\u001b[1;32m    212\u001b[0m \u001b[0;34m\u001b[0m\u001b[0m\n\u001b[1;32m    213\u001b[0m         \u001b[0;32mreturn\u001b[0m \u001b[0mcast\u001b[0m\u001b[0;34m(\u001b[0m\u001b[0mF\u001b[0m\u001b[0;34m,\u001b[0m \u001b[0mwrapper\u001b[0m\u001b[0;34m)\u001b[0m\u001b[0;34m\u001b[0m\u001b[0;34m\u001b[0m\u001b[0m\n",
      "\u001b[0;32m~/.local/lib/python3.8/site-packages/pandas/core/generic.py\u001b[0m in \u001b[0;36mto_csv\u001b[0;34m(self, path_or_buf, sep, na_rep, float_format, columns, header, index, index_label, mode, encoding, compression, quoting, quotechar, lineterminator, chunksize, date_format, doublequote, escapechar, decimal, errors, storage_options)\u001b[0m\n\u001b[1;32m   3718\u001b[0m         )\n\u001b[1;32m   3719\u001b[0m \u001b[0;34m\u001b[0m\u001b[0m\n\u001b[0;32m-> 3720\u001b[0;31m         return DataFrameRenderer(formatter).to_csv(\n\u001b[0m\u001b[1;32m   3721\u001b[0m             \u001b[0mpath_or_buf\u001b[0m\u001b[0;34m,\u001b[0m\u001b[0;34m\u001b[0m\u001b[0;34m\u001b[0m\u001b[0m\n\u001b[1;32m   3722\u001b[0m             \u001b[0mlineterminator\u001b[0m\u001b[0;34m=\u001b[0m\u001b[0mlineterminator\u001b[0m\u001b[0;34m,\u001b[0m\u001b[0;34m\u001b[0m\u001b[0;34m\u001b[0m\u001b[0m\n",
      "\u001b[0;32m~/.local/lib/python3.8/site-packages/pandas/util/_decorators.py\u001b[0m in \u001b[0;36mwrapper\u001b[0;34m(*args, **kwargs)\u001b[0m\n\u001b[1;32m    209\u001b[0m                 \u001b[0;32melse\u001b[0m\u001b[0;34m:\u001b[0m\u001b[0;34m\u001b[0m\u001b[0;34m\u001b[0m\u001b[0m\n\u001b[1;32m    210\u001b[0m                     \u001b[0mkwargs\u001b[0m\u001b[0;34m[\u001b[0m\u001b[0mnew_arg_name\u001b[0m\u001b[0;34m]\u001b[0m \u001b[0;34m=\u001b[0m \u001b[0mnew_arg_value\u001b[0m\u001b[0;34m\u001b[0m\u001b[0;34m\u001b[0m\u001b[0m\n\u001b[0;32m--> 211\u001b[0;31m             \u001b[0;32mreturn\u001b[0m \u001b[0mfunc\u001b[0m\u001b[0;34m(\u001b[0m\u001b[0;34m*\u001b[0m\u001b[0margs\u001b[0m\u001b[0;34m,\u001b[0m \u001b[0;34m**\u001b[0m\u001b[0mkwargs\u001b[0m\u001b[0;34m)\u001b[0m\u001b[0;34m\u001b[0m\u001b[0;34m\u001b[0m\u001b[0m\n\u001b[0m\u001b[1;32m    212\u001b[0m \u001b[0;34m\u001b[0m\u001b[0m\n\u001b[1;32m    213\u001b[0m         \u001b[0;32mreturn\u001b[0m \u001b[0mcast\u001b[0m\u001b[0;34m(\u001b[0m\u001b[0mF\u001b[0m\u001b[0;34m,\u001b[0m \u001b[0mwrapper\u001b[0m\u001b[0;34m)\u001b[0m\u001b[0;34m\u001b[0m\u001b[0;34m\u001b[0m\u001b[0m\n",
      "\u001b[0;32m~/.local/lib/python3.8/site-packages/pandas/io/formats/format.py\u001b[0m in \u001b[0;36mto_csv\u001b[0;34m(self, path_or_buf, encoding, sep, columns, index_label, mode, compression, quoting, quotechar, lineterminator, chunksize, date_format, doublequote, escapechar, errors, storage_options)\u001b[0m\n\u001b[1;32m   1187\u001b[0m             \u001b[0mformatter\u001b[0m\u001b[0;34m=\u001b[0m\u001b[0mself\u001b[0m\u001b[0;34m.\u001b[0m\u001b[0mfmt\u001b[0m\u001b[0;34m,\u001b[0m\u001b[0;34m\u001b[0m\u001b[0;34m\u001b[0m\u001b[0m\n\u001b[1;32m   1188\u001b[0m         )\n\u001b[0;32m-> 1189\u001b[0;31m         \u001b[0mcsv_formatter\u001b[0m\u001b[0;34m.\u001b[0m\u001b[0msave\u001b[0m\u001b[0;34m(\u001b[0m\u001b[0;34m)\u001b[0m\u001b[0;34m\u001b[0m\u001b[0;34m\u001b[0m\u001b[0m\n\u001b[0m\u001b[1;32m   1190\u001b[0m \u001b[0;34m\u001b[0m\u001b[0m\n\u001b[1;32m   1191\u001b[0m         \u001b[0;32mif\u001b[0m \u001b[0mcreated_buffer\u001b[0m\u001b[0;34m:\u001b[0m\u001b[0;34m\u001b[0m\u001b[0;34m\u001b[0m\u001b[0m\n",
      "\u001b[0;32m~/.local/lib/python3.8/site-packages/pandas/io/formats/csvs.py\u001b[0m in \u001b[0;36msave\u001b[0;34m(self)\u001b[0m\n\u001b[1;32m    239\u001b[0m         \"\"\"\n\u001b[1;32m    240\u001b[0m         \u001b[0;31m# apply compression and byte/text conversion\u001b[0m\u001b[0;34m\u001b[0m\u001b[0;34m\u001b[0m\u001b[0;34m\u001b[0m\u001b[0m\n\u001b[0;32m--> 241\u001b[0;31m         with get_handle(\n\u001b[0m\u001b[1;32m    242\u001b[0m             \u001b[0mself\u001b[0m\u001b[0;34m.\u001b[0m\u001b[0mfilepath_or_buffer\u001b[0m\u001b[0;34m,\u001b[0m\u001b[0;34m\u001b[0m\u001b[0;34m\u001b[0m\u001b[0m\n\u001b[1;32m    243\u001b[0m             \u001b[0mself\u001b[0m\u001b[0;34m.\u001b[0m\u001b[0mmode\u001b[0m\u001b[0;34m,\u001b[0m\u001b[0;34m\u001b[0m\u001b[0;34m\u001b[0m\u001b[0m\n",
      "\u001b[0;32m~/.local/lib/python3.8/site-packages/pandas/io/common.py\u001b[0m in \u001b[0;36mget_handle\u001b[0;34m(path_or_buf, mode, encoding, compression, memory_map, is_text, errors, storage_options)\u001b[0m\n\u001b[1;32m    732\u001b[0m     \u001b[0;31m# Only for write methods\u001b[0m\u001b[0;34m\u001b[0m\u001b[0;34m\u001b[0m\u001b[0;34m\u001b[0m\u001b[0m\n\u001b[1;32m    733\u001b[0m     \u001b[0;32mif\u001b[0m \u001b[0;34m\"r\"\u001b[0m \u001b[0;32mnot\u001b[0m \u001b[0;32min\u001b[0m \u001b[0mmode\u001b[0m \u001b[0;32mand\u001b[0m \u001b[0mis_path\u001b[0m\u001b[0;34m:\u001b[0m\u001b[0;34m\u001b[0m\u001b[0;34m\u001b[0m\u001b[0m\n\u001b[0;32m--> 734\u001b[0;31m         \u001b[0mcheck_parent_directory\u001b[0m\u001b[0;34m(\u001b[0m\u001b[0mstr\u001b[0m\u001b[0;34m(\u001b[0m\u001b[0mhandle\u001b[0m\u001b[0;34m)\u001b[0m\u001b[0;34m)\u001b[0m\u001b[0;34m\u001b[0m\u001b[0;34m\u001b[0m\u001b[0m\n\u001b[0m\u001b[1;32m    735\u001b[0m \u001b[0;34m\u001b[0m\u001b[0m\n\u001b[1;32m    736\u001b[0m     \u001b[0;32mif\u001b[0m \u001b[0mcompression\u001b[0m\u001b[0;34m:\u001b[0m\u001b[0;34m\u001b[0m\u001b[0;34m\u001b[0m\u001b[0m\n",
      "\u001b[0;32m~/.local/lib/python3.8/site-packages/pandas/io/common.py\u001b[0m in \u001b[0;36mcheck_parent_directory\u001b[0;34m(path)\u001b[0m\n\u001b[1;32m    595\u001b[0m     \u001b[0mparent\u001b[0m \u001b[0;34m=\u001b[0m \u001b[0mPath\u001b[0m\u001b[0;34m(\u001b[0m\u001b[0mpath\u001b[0m\u001b[0;34m)\u001b[0m\u001b[0;34m.\u001b[0m\u001b[0mparent\u001b[0m\u001b[0;34m\u001b[0m\u001b[0;34m\u001b[0m\u001b[0m\n\u001b[1;32m    596\u001b[0m     \u001b[0;32mif\u001b[0m \u001b[0;32mnot\u001b[0m \u001b[0mparent\u001b[0m\u001b[0;34m.\u001b[0m\u001b[0mis_dir\u001b[0m\u001b[0;34m(\u001b[0m\u001b[0;34m)\u001b[0m\u001b[0;34m:\u001b[0m\u001b[0;34m\u001b[0m\u001b[0;34m\u001b[0m\u001b[0m\n\u001b[0;32m--> 597\u001b[0;31m         \u001b[0;32mraise\u001b[0m \u001b[0mOSError\u001b[0m\u001b[0;34m(\u001b[0m\u001b[0;34mrf\"Cannot save file into a non-existent directory: '{parent}'\"\u001b[0m\u001b[0;34m)\u001b[0m\u001b[0;34m\u001b[0m\u001b[0;34m\u001b[0m\u001b[0m\n\u001b[0m\u001b[1;32m    598\u001b[0m \u001b[0;34m\u001b[0m\u001b[0m\n\u001b[1;32m    599\u001b[0m \u001b[0;34m\u001b[0m\u001b[0m\n",
      "\u001b[0;31mOSError\u001b[0m: Cannot save file into a non-existent directory: '/kaggle/working'"
     ]
    }
   ],
   "source": [
    "submission = pd.DataFrame({\n",
    "        \"PassengerId\": testData[\"PassengerId\"],\n",
    "        \"Survived\": Y_pred\n",
    "    })\n",
    "\n",
    "submission.to_csv('/kaggle/working/submission.csv', index=False)"
   ]
  }
 ],
 "metadata": {
  "kernelspec": {
   "display_name": "Python 3.8.10 64-bit",
   "language": "python",
   "name": "python3"
  },
  "language_info": {
   "codemirror_mode": {
    "name": "ipython",
    "version": 3
   },
   "file_extension": ".py",
   "mimetype": "text/x-python",
   "name": "python",
   "nbconvert_exporter": "python",
   "pygments_lexer": "ipython3",
   "version": "3.8.10"
  },
  "papermill": {
   "default_parameters": {},
   "duration": 28.284332,
   "end_time": "2022-09-20T01:03:06.372907",
   "environment_variables": {},
   "exception": null,
   "input_path": "__notebook__.ipynb",
   "output_path": "__notebook__.ipynb",
   "parameters": {},
   "start_time": "2022-09-20T01:02:38.088575",
   "version": "2.3.4"
  },
  "vscode": {
   "interpreter": {
    "hash": "e7370f93d1d0cde622a1f8e1c04877d8463912d04d973331ad4851f04de6915a"
   }
  }
 },
 "nbformat": 4,
 "nbformat_minor": 5
}
